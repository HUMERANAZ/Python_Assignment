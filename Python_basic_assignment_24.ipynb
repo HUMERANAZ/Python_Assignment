{
 "cells": [
  {
   "cell_type": "markdown",
   "id": "a3558130",
   "metadata": {},
   "source": [
    "# Python Basic Assignment-24"
   ]
  },
  {
   "cell_type": "markdown",
   "id": "2917b9bd",
   "metadata": {},
   "source": [
    "#### 1. What is the relationship between def statements and lambda expressions ?"
   ]
  },
  {
   "cell_type": "markdown",
   "id": "e92be92f",
   "metadata": {},
   "source": [
    "Both def statements and lambda expressions in Python are used to define functions. However, they have some differences in their syntax and usage.\n",
    "\n",
    "A def statement is used to define a function with a name, parameters, and a block of code that executes when the function is called. The syntax for a def statement is as follows:\n",
    "\n",
    "```\n",
    "def function_name(parameters):\n",
    "    # block of code\n",
    "    return value\n",
    "```\n",
    "\n",
    "On the other hand, a lambda expression is an anonymous function that can be defined in a single line of code. It does not require a name or a return statement. The syntax for a lambda expression is as follows:\n",
    "\n",
    "```\n",
    "lambda parameters: expression\n",
    "```\n",
    "\n",
    "Lambda expressions are often used when a function is required as an argument for another function, such as in the map, filter, and reduce functions.\n"
   ]
  },
  {
   "cell_type": "markdown",
   "id": "21ee9f42",
   "metadata": {},
   "source": [
    "#### 2. What is the benefit of lambda?"
   ]
  },
  {
   "cell_type": "markdown",
   "id": "4884c94d",
   "metadata": {},
   "source": [
    "The benefits of using lambda expressions are:\n",
    "\n",
    "1. Concise code: Lambda expressions provide a more concise way to define simple functions. They can be defined in a single line of code and do not require a function name or return statement.\n",
    "\n",
    "2. Readability: Lambda expressions can make the code more readable by reducing the number of lines of code and by making it clear that the function is being defined for a specific purpose.\n",
    "\n",
    "3. Flexibility: Lambda expressions can be used in a variety of contexts, including as arguments to higher-order functions, as keys in dictionaries, and as values in lists.\n",
    "\n",
    "4. Speed: Because lambda expressions are defined inline, they can be faster to execute than equivalent functions defined using def statements.\n",
    "\n",
    "5. No namespace pollution: Since lambda expressions do not require a function name, they do not pollute the namespace with an unnecessary name. This is useful in cases where the function is only used once or is not needed after it has been defined."
   ]
  },
  {
   "cell_type": "markdown",
   "id": "add7f3c3",
   "metadata": {},
   "source": [
    "#### 3. Compare and contrast map, filter, and reduce."
   ]
  },
  {
   "cell_type": "markdown",
   "id": "ad489f6f",
   "metadata": {},
   "source": [
    "All of the three functions `map`, `filter`, and `reduce` are used to perform operations on sequences in Python, but they differ in their purpose and behavior:\n",
    "\n",
    "1. `map()` function:\n",
    "- Takes two arguments: a function and an iterable.\n",
    "- Applies the function to each element in the iterable and returns a new iterable with the results.\n",
    "- The returned iterable has the same number of elements as the original iterable.\n",
    "\n",
    "Example:\n",
    "\n",
    "```\n",
    "# Multiply each element in a list by 2 using map()\n",
    "numbers = [1, 2, 3, 4, 5]\n",
    "multiplied_numbers = map(lambda x: x * 2, numbers)\n",
    "print(list(multiplied_numbers))  # Output: [2, 4, 6, 8, 10]\n",
    "```\n",
    "\n",
    "2. `filter()` function:\n",
    "- Takes two arguments: a function and an iterable.\n",
    "- Applies the function to each element in the iterable and returns a new iterable containing only the elements for which the function returns `True`.\n",
    "- The returned iterable may have fewer elements than the original iterable.\n",
    "\n",
    "Example:\n",
    "\n",
    "```\n",
    "# Filter even numbers from a list using filter()\n",
    "numbers = [1, 2, 3, 4, 5]\n",
    "even_numbers = filter(lambda x: x % 2 == 0, numbers)\n",
    "print(list(even_numbers))  # Output: [2, 4]\n",
    "```\n",
    "\n",
    "3. `reduce()` function:\n",
    "- Takes two arguments: a function and an iterable.\n",
    "- Applies the function to the first two elements in the iterable and then to the result and the next element, and so on, until all elements have been processed.\n",
    "- Returns a single value, which is the final result of the reduction.\n",
    "\n",
    "Example:\n",
    "\n",
    "```\n",
    "# Calculate the product of a list of numbers using reduce()\n",
    "from functools import reduce\n",
    "numbers = [1, 2, 3, 4, 5]\n",
    "product = reduce(lambda x, y: x * y, numbers)\n",
    "print(product)  # Output: 120\n",
    "```\n",
    "\n",
    "In summary, `map()` is used to apply a function to each element of an iterable and returns a new iterable, `filter()` is used to return only the elements that satisfy a condition, and `reduce()` is used to combine all the elements of an iterable into a single value."
   ]
  },
  {
   "cell_type": "markdown",
   "id": "c673f9dc",
   "metadata": {},
   "source": [
    "#### 4. What are function annotations, and how are they used?"
   ]
  },
  {
   "cell_type": "markdown",
   "id": "73fbae44",
   "metadata": {},
   "source": [
    "Function annotations are a feature in Python that allows developers to add metadata or additional information to function arguments and return values. Annotations can be used to provide information about the data types, constraints, and behavior of the function.\n",
    "\n",
    "Function annotations are defined by adding a colon (:) after the argument name or return value, followed by the annotation itself. For example, to annotate the argument \"x\" as an integer and the return value as a float, you can write:\n",
    "\n",
    "```\n",
    "def my_function(x: int) -> float:\n",
    "    return x * 1.5\n",
    "```\n",
    "\n",
    "Annotations are not enforced by the Python interpreter and do not affect the behavior of the function. However, they can be accessed at runtime using the built-in `__annotations__` attribute. Annotations can also be used by third-party tools and libraries for various purposes, such as type checking, documentation generation, and code analysis."
   ]
  },
  {
   "cell_type": "markdown",
   "id": "4bbed3d9",
   "metadata": {},
   "source": [
    "#### 5. What are recursive functions, and how are they used?"
   ]
  },
  {
   "cell_type": "markdown",
   "id": "0ca0fde0",
   "metadata": {},
   "source": [
    "Recursive functions are functions that call themselves repeatedly until a certain condition is met. They are used to solve problems that can be broken down into smaller subproblems that are identical in nature to the original problem. \n",
    "\n",
    "Recursive functions are often used to solve mathematical problems such as calculating factorials or Fibonacci series. They are also used in data structures such as trees and graphs, and in algorithms such as binary search and quicksort. \n",
    "\n",
    "The basic structure of a recursive function includes a base case that defines the stopping condition, and a recursive case that breaks down the problem into smaller subproblems. \n",
    "\n",
    "Here's an example of a recursive function to calculate the factorial of a number:\n",
    "\n",
    "```\n",
    "def factorial(n):\n",
    "    if n == 0:\n",
    "        return 1\n",
    "    else:\n",
    "        return n * factorial(n-1)\n",
    "```\n",
    "\n",
    "In this example, the base case is when n is equal to 0, and the recursive case is when n is greater than 0. The function calls itself with n-1 until the base case is reached. \n",
    "\n"
   ]
  },
  {
   "cell_type": "markdown",
   "id": "8feda720",
   "metadata": {},
   "source": [
    "#### 6. What are some general design guidelines for coding functions?"
   ]
  },
  {
   "cell_type": "markdown",
   "id": "3899d8ec",
   "metadata": {},
   "source": [
    "Here are some general design guidelines for coding functions:\n",
    "\n",
    "1. Function names should be descriptive and indicative of what the function does.\n",
    "2. Functions should have a single responsibility and perform a specific task.\n",
    "3. Functions should be small and focused, with a limited number of input parameters and a single return value.\n",
    "4. Functions should be designed to handle errors and unexpected inputs gracefully.\n",
    "5. Functions should be designed to be reusable, so they can be called from different parts of the codebase.\n",
    "6. Functions should be tested thoroughly to ensure they work as expected.\n",
    "7. Functions should be well-documented, with clear explanations of their purpose, input parameters, and return values.\n",
    "8. Functions should follow the DRY (Don't Repeat Yourself) principle, avoiding code duplication wherever possible."
   ]
  },
  {
   "cell_type": "markdown",
   "id": "56b7a96a",
   "metadata": {},
   "source": [
    "#### 7. Name three or more ways that functions can communicate results to a caller."
   ]
  },
  {
   "cell_type": "markdown",
   "id": "973f056c",
   "metadata": {},
   "source": [
    "Functions can communicate results to a caller using the following ways:\n",
    "\n",
    "1. Return statement: Functions can return a value or object to the caller using the `return` statement. The value or object returned can be used by the caller in the rest of the program.\n",
    "\n",
    "2. Global variables: Functions can modify the value of global variables, which can then be accessed by the caller. However, using global variables is generally not recommended as it can lead to unexpected behavior.\n",
    "\n",
    "3. Output parameters: Functions can accept mutable objects (e.g. lists or dictionaries) as input parameters and modify their values. The modified object can then be used by the caller.\n",
    "\n",
    "4. Exceptions: Functions can raise exceptions to communicate errors or unexpected behavior to the caller. The caller can then catch and handle the exception accordingly.\n",
    "\n",
    "5. Print statements: Functions can print information to the console, which can then be read by the caller. However, this is generally not recommended as it can make the function less flexible and reusable."
   ]
  },
  {
   "cell_type": "code",
   "execution_count": null,
   "id": "a6551595",
   "metadata": {},
   "outputs": [],
   "source": []
  }
 ],
 "metadata": {
  "kernelspec": {
   "display_name": "Python 3 (ipykernel)",
   "language": "python",
   "name": "python3"
  },
  "language_info": {
   "codemirror_mode": {
    "name": "ipython",
    "version": 3
   },
   "file_extension": ".py",
   "mimetype": "text/x-python",
   "name": "python",
   "nbconvert_exporter": "python",
   "pygments_lexer": "ipython3",
   "version": "3.9.7"
  }
 },
 "nbformat": 4,
 "nbformat_minor": 5
}
