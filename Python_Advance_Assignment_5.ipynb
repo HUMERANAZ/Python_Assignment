{
 "cells": [
  {
   "cell_type": "markdown",
   "id": "0c46aa3f",
   "metadata": {},
   "source": [
    "# Python Advance Assignment  - 5\n"
   ]
  },
  {
   "cell_type": "markdown",
   "id": "69694784",
   "metadata": {},
   "source": [
    "#### Q1. What is the meaning of multiple inheritance?"
   ]
  },
  {
   "cell_type": "markdown",
   "id": "8f76d63b",
   "metadata": {},
   "source": [
    "Multiple inheritance is a feature of object-oriented programming languages that allows a class to inherit attributes and methods from more than one parent class. In Python, a class can inherit from multiple parent classes by listing them in parentheses after the class name in the class definition.\n",
    "\n",
    "Here's an example of a class that inherits from two parent classes:\n",
    "\n",
    "```python\n",
    "class Parent1:\n",
    "    def method1(self):\n",
    "        print(\"Parent1 method\")\n",
    "\n",
    "class Parent2:\n",
    "    def method2(self):\n",
    "        print(\"Parent2 method\")\n",
    "\n",
    "class Child(Parent1, Parent2):\n",
    "    def method3(self):\n",
    "        print(\"Child method\")\n",
    "\n",
    "c = Child()\n",
    "c.method1()  # Output: Parent1 method\n",
    "c.method2()  # Output: Parent2 method\n",
    "c.method3()  # Output: Child method\n",
    "```\n",
    "\n",
    "In this example, the `Child` class inherits from both the `Parent1` and `Parent2` classes, and it can call methods from both parent classes. This can be useful when you want to reuse code from multiple sources, or when you want to create a class hierarchy that reflects the relationships between different types of objects. However, multiple inheritance can also make code more complex and harder to understand, so it should be used judiciously."
   ]
  },
  {
   "cell_type": "markdown",
   "id": "109fef5e",
   "metadata": {},
   "source": [
    "#### Q2. What is the concept of delegation?"
   ]
  },
  {
   "cell_type": "markdown",
   "id": "6b9dd134",
   "metadata": {},
   "source": [
    "Delegation is a design pattern in object-oriented programming where an object passes responsibility for a particular task to another object. In Python, delegation is often implemented by creating an instance variable that refers to another object and then invoking methods on that object as needed.\n",
    "\n",
    "Here's an example of delegation in Python:\n",
    "\n",
    "```python\n",
    "class Delegator:\n",
    "    def __init__(self, delegate):\n",
    "        self.delegate = delegate\n",
    "\n",
    "    def method(self):\n",
    "        self.delegate.method()\n",
    "\n",
    "class Delegate:\n",
    "    def method(self):\n",
    "        print(\"Delegate method\")\n",
    "\n",
    "d = Delegate()\n",
    "del_obj = Delegator(d)\n",
    "del_obj.method()  # Output: Delegate method\n",
    "```\n",
    "\n",
    "In this example, the `Delegator` class has an instance variable `delegate` that refers to an instance of the `Delegate` class. When the `Delegator` object's `method` is called, it passes responsibility for the `method` to the `Delegate` object by invoking its `method` method.\n",
    "\n",
    "Delegation can be useful in situations where you want to reuse code from another object but don't want to inherit from that object's class or modify its behavior. It can also help to separate concerns by allowing objects to focus on their own responsibilities and delegate tasks to other objects as needed."
   ]
  },
  {
   "cell_type": "markdown",
   "id": "aaf64681",
   "metadata": {},
   "source": [
    "#### Q3. What is the concept of composition?"
   ]
  },
  {
   "cell_type": "markdown",
   "id": "dc7d0fb5",
   "metadata": {},
   "source": [
    "Composition is a design pattern in object-oriented programming where a class is composed of one or more instances of other classes, rather than inheriting from those classes. In other words, composition is a way of building more complex objects by combining simpler objects.\n",
    "\n",
    "Here's an example of composition in Python:\n",
    "\n",
    "```python\n",
    "class Engine:\n",
    "    def start(self):\n",
    "        print(\"Engine started\")\n",
    "\n",
    "class Car:\n",
    "    def __init__(self):\n",
    "        self.engine = Engine()\n",
    "\n",
    "    def start(self):\n",
    "        self.engine.start()\n",
    "\n",
    "car = Car()\n",
    "car.start()  # Output: Engine started\n",
    "```\n",
    "\n",
    "In this example, the `Car` class has an instance variable `engine` that refers to an instance of the `Engine` class. When the `Car` object's `start` method is called, it delegates responsibility for starting the engine to the `Engine` object by invoking its `start` method.\n",
    "\n",
    "Composition can be useful in situations where you want to build complex objects from simpler objects, or when you want to reuse code from existing classes without inheriting from them. It can also help to simplify class hierarchies by avoiding the need for deep inheritance trees."
   ]
  },
  {
   "cell_type": "markdown",
   "id": "493e4162",
   "metadata": {},
   "source": [
    "#### Q4. What are bound methods and how do we use them?"
   ]
  },
  {
   "cell_type": "markdown",
   "id": "0f5653be",
   "metadata": {},
   "source": [
    "In Python, a bound method is a method that is attached to an instance of a class. When a method is called on an instance, the instance is passed to the method automatically as the first argument, which is conventionally named `self`. This binding of a method to an instance is called binding or the method is said to be bound.\n",
    "\n",
    "Here's an example:\n",
    "\n",
    "```python\n",
    "class MyClass:\n",
    "    def method(self):\n",
    "        print(\"This is a bound method\")\n",
    "\n",
    "obj = MyClass()\n",
    "obj.method()  # Output: This is a bound method\n",
    "```\n",
    "\n",
    "In this example, the `method` is bound to the instance `obj` of the `MyClass`. When we call `obj.method()`, Python automatically passes `obj` as the first argument to `method`, so that `self` inside `method` refers to the `obj` instance.\n",
    "\n",
    "Bound methods can be used like any other Python object: they can be stored in variables, passed as arguments to functions, and returned from functions. For example:\n",
    "\n",
    "```python\n",
    "class MyClass:\n",
    "    def method(self):\n",
    "        print(\"This is a bound method\")\n",
    "\n",
    "obj = MyClass()\n",
    "m = obj.method\n",
    "m()  # Output: This is a bound method\n",
    "```\n",
    "\n",
    "In this example, we bind the `method` to the `obj` instance and then store it in the variable `m`. When we call `m()`, Python automatically passes `obj` as the first argument to `method`, so that `self` inside `method` refers to the `obj` instance."
   ]
  },
  {
   "cell_type": "markdown",
   "id": "d3e3034b",
   "metadata": {},
   "source": [
    "#### Q5. What is the purpose of pseudoprivate attributes?"
   ]
  },
  {
   "cell_type": "markdown",
   "id": "6e01af81",
   "metadata": {},
   "source": [
    "In Python, pseudoprivate attributes (also known as name mangling) are used to create attributes that cannot be easily accessed from outside the class. These attributes are created by adding two leading underscores (__) to the name of the attribute.\n",
    "\n",
    "For example:\n",
    "\n",
    "```python\n",
    "class MyClass:\n",
    "    def __init__(self):\n",
    "        self.__x = 10\n",
    "\n",
    "obj = MyClass()\n",
    "print(obj.__x)  # Raises an AttributeError\n",
    "```\n",
    "\n",
    "In this example, we have created a pseudoprivate attribute `__x` in the `MyClass` class. This attribute cannot be accessed from outside the class using the dot notation (`obj.__x`), because Python automatically renames it to `_MyClass__x`. Therefore, attempting to access `obj.__x` raises an `AttributeError`.\n",
    "\n",
    "The purpose of pseudoprivate attributes is to provide a way for class authors to create attributes that are only meant to be accessed from within the class. This is useful for preventing accidental modification or access to internal implementation details of a class.\n",
    "\n",
    "It's worth noting, however, that pseudoprivate attributes are not truly private in Python. They can still be accessed from outside the class by using their mangled name (`_MyClass__x`), although this is generally considered bad practice."
   ]
  },
  {
   "cell_type": "code",
   "execution_count": null,
   "id": "4a099bc0",
   "metadata": {},
   "outputs": [],
   "source": []
  }
 ],
 "metadata": {
  "kernelspec": {
   "display_name": "Python 3 (ipykernel)",
   "language": "python",
   "name": "python3"
  },
  "language_info": {
   "codemirror_mode": {
    "name": "ipython",
    "version": 3
   },
   "file_extension": ".py",
   "mimetype": "text/x-python",
   "name": "python",
   "nbconvert_exporter": "python",
   "pygments_lexer": "ipython3",
   "version": "3.9.7"
  }
 },
 "nbformat": 4,
 "nbformat_minor": 5
}
