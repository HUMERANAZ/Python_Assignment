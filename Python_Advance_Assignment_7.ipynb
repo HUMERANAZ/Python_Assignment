{
 "cells": [
  {
   "cell_type": "markdown",
   "id": "1a385008",
   "metadata": {},
   "source": [
    "# Python Advance Assignment  - 7"
   ]
  },
  {
   "cell_type": "markdown",
   "id": "24abe61b",
   "metadata": {},
   "source": [
    "#### Q1. What is the purpose of the try statement?"
   ]
  },
  {
   "cell_type": "markdown",
   "id": "0eb198bf",
   "metadata": {},
   "source": [
    "In Python, the try statement is used to catch and handle exceptions that may occur during the execution of a program. The purpose of the try statement is to provide a way to test a block of code for errors without causing the program to terminate if an error occurs.\n",
    "\n",
    "The try statement works by enclosing a block of code in a try block, followed by one or more except blocks that specify how to handle different types of exceptions. If an exception occurs in the try block, the corresponding except block is executed to handle the exception."
   ]
  },
  {
   "cell_type": "markdown",
   "id": "fa980295",
   "metadata": {},
   "source": [
    "#### Q2. What are the two most popular try statement variations?"
   ]
  },
  {
   "cell_type": "markdown",
   "id": "e87a2123",
   "metadata": {},
   "source": [
    "The two most popular variations of the `try` statement in Python are:\n",
    "\n",
    "1. `try-except` statement: This is used to catch and handle exceptions that might be raised during the execution of a block of code.\n",
    "\n",
    "2. `try-finally` statement: This is used to ensure that some code is always executed, whether or not an exception is raised."
   ]
  },
  {
   "cell_type": "markdown",
   "id": "d05d08e4",
   "metadata": {},
   "source": [
    "#### Q3. What is the purpose of the raise statement?"
   ]
  },
  {
   "cell_type": "markdown",
   "id": "46fce3c9",
   "metadata": {},
   "source": [
    "The `raise` statement in Python is used to explicitly raise an exception. When the `raise` statement is executed, it stops the normal flow of the program and transfers control to the nearest exception handler, either in the current function or a higher-level caller. \n",
    "\n",
    "The purpose of the `raise` statement is to provide a way to signal to the caller of a function or method that an error or exceptional condition has occurred, and that the normal flow of execution cannot continue. The `raise` statement can be used to raise built-in exceptions, such as `ValueError` or `TypeError`, or user-defined exceptions, which can be created by defining a new class that inherits from the built-in `Exception` class. \n",
    "\n",
    "In short, the `raise` statement is a powerful tool for error handling and for making sure that problems in a program are detected and handled appropriately."
   ]
  },
  {
   "cell_type": "markdown",
   "id": "e747559a",
   "metadata": {},
   "source": [
    "#### Q4. What does the assert statement do, and what other statement is it like?"
   ]
  },
  {
   "cell_type": "markdown",
   "id": "ed31f992",
   "metadata": {},
   "source": [
    "The `assert` statement in Python is used to assert that a certain condition is true. If the condition is false, the `assert` statement raises an `AssertionError` with an optional error message.\n",
    "\n",
    "The basic syntax of the `assert` statement is as follows:\n",
    "\n",
    "```\n",
    "assert condition, [error_message]\n",
    "```\n",
    "\n",
    "The `condition` is the expression that is being asserted to be true, and the `error_message` is an optional message that can be included in the `AssertionError` if the assertion fails. If the `condition` is true, then the `assert` statement does nothing and execution continues normally. However, if the `condition` is false, then the `assert` statement raises an `AssertionError` with the optional `error_message`.\n",
    "\n",
    "The `assert` statement is similar to the `if` statement in that it allows you to test for certain conditions and take appropriate action based on the results. However, the `assert` statement is different from the `if` statement in that it is typically used to check for conditions that should never occur in a correctly written program. In other words, `assert` is used to catch programming errors rather than to handle normal runtime errors.\n",
    "\n",
    "Another statement that is similar to `assert` is the `raise` statement, which is used to raise an exception when a certain condition is met. Both `assert` and `raise` are used for error handling and to make sure that problems in a program are detected and handled appropriately."
   ]
  },
  {
   "cell_type": "markdown",
   "id": "03c8a40c",
   "metadata": {},
   "source": [
    "#### Q5. What is the purpose of the with/as argument, and what other statement is it like?"
   ]
  },
  {
   "cell_type": "markdown",
   "id": "456c25fe",
   "metadata": {},
   "source": [
    "The `with/as` statement in Python is used for resource management. It ensures that a resource is properly initialized and cleaned up after its usage. The `with` statement is used with context managers and provides a way of encapsulating and controlling the setup and teardown of resources. The syntax of the `with` statement is as follows:\n",
    "\n",
    "```python\n",
    "with expression [as variable]:\n",
    "    with-block\n",
    "```\n",
    "\n",
    "In this syntax, `expression` is a context manager object that defines the __enter__() and __exit__() methods. The optional `as` clause assigns the context manager's return value to the `variable` name.\n",
    "\n",
    "The `with` statement is similar to a try/finally block, but it provides a more concise syntax for managing resources, and it is generally considered to be more Pythonic."
   ]
  },
  {
   "cell_type": "code",
   "execution_count": null,
   "id": "7b2c516c",
   "metadata": {},
   "outputs": [],
   "source": []
  }
 ],
 "metadata": {
  "kernelspec": {
   "display_name": "Python 3 (ipykernel)",
   "language": "python",
   "name": "python3"
  },
  "language_info": {
   "codemirror_mode": {
    "name": "ipython",
    "version": 3
   },
   "file_extension": ".py",
   "mimetype": "text/x-python",
   "name": "python",
   "nbconvert_exporter": "python",
   "pygments_lexer": "ipython3",
   "version": "3.9.7"
  }
 },
 "nbformat": 4,
 "nbformat_minor": 5
}
