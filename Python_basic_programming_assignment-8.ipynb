{
 "cells": [
  {
   "cell_type": "markdown",
   "id": "42d49ccf",
   "metadata": {},
   "source": [
    "# Python Basic Programming Assignment-8"
   ]
  },
  {
   "cell_type": "markdown",
   "id": "770b567d",
   "metadata": {},
   "source": [
    "#### 1. Write a Python Program to Add Two Matrices?"
   ]
  },
  {
   "cell_type": "code",
   "execution_count": 1,
   "id": "4cf11b8c",
   "metadata": {},
   "outputs": [
    {
     "name": "stdout",
     "output_type": "stream",
     "text": [
      "[11, 13, 15]\n",
      "[17, 19, 21]\n",
      "[23, 25, 27]\n"
     ]
    }
   ],
   "source": [
    "# define two matrices\n",
    "matrix1 = [[1, 2, 3],\n",
    "           [4, 5, 6],\n",
    "           [7, 8, 9]]\n",
    "\n",
    "matrix2 = [[10, 11, 12],\n",
    "           [13, 14, 15],\n",
    "           [16, 17, 18]]\n",
    "\n",
    "# create a result matrix to store the sum\n",
    "result = [[0, 0, 0],\n",
    "          [0, 0, 0],\n",
    "          [0, 0, 0]]\n",
    "\n",
    "# iterate through each element of the matrices and add them\n",
    "for i in range(len(matrix1)):\n",
    "    for j in range(len(matrix1[0])):\n",
    "        result[i][j] = matrix1[i][j] + matrix2[i][j]\n",
    "\n",
    "# print the result\n",
    "for row in result:\n",
    "    print(row)\n"
   ]
  },
  {
   "cell_type": "markdown",
   "id": "3ee9810f",
   "metadata": {},
   "source": [
    "#### 2. Write a Python Program to Multiply Two Matrices?"
   ]
  },
  {
   "cell_type": "code",
   "execution_count": 2,
   "id": "859ecd1e",
   "metadata": {},
   "outputs": [
    {
     "name": "stdout",
     "output_type": "stream",
     "text": [
      "[84, 90, 96]\n",
      "[201, 216, 231]\n",
      "[318, 342, 366]\n"
     ]
    }
   ],
   "source": [
    "# define two matrices\n",
    "matrix1 = [[1, 2, 3],\n",
    "           [4, 5, 6],\n",
    "           [7, 8, 9]]\n",
    "\n",
    "matrix2 = [[10, 11, 12],\n",
    "           [13, 14, 15],\n",
    "           [16, 17, 18]]\n",
    "\n",
    "# create a result matrix to store the product\n",
    "result = [[0, 0, 0],\n",
    "          [0, 0, 0],\n",
    "          [0, 0, 0]]\n",
    "\n",
    "# iterate through each element of the matrices and multiply them\n",
    "for i in range(len(matrix1)):\n",
    "    for j in range(len(matrix2[0])):\n",
    "        for k in range(len(matrix2)):\n",
    "            result[i][j] += matrix1[i][k] * matrix2[k][j]\n",
    "\n",
    "# print the result\n",
    "for row in result:\n",
    "    print(row)\n"
   ]
  },
  {
   "cell_type": "markdown",
   "id": "0012b132",
   "metadata": {},
   "source": [
    "#### 3. Write a Python Program to Transpose a Matrix?"
   ]
  },
  {
   "cell_type": "code",
   "execution_count": 3,
   "id": "bc1a3ba9",
   "metadata": {},
   "outputs": [
    {
     "name": "stdout",
     "output_type": "stream",
     "text": [
      "[1, 3, 5]\n",
      "[2, 4, 6]\n"
     ]
    }
   ],
   "source": [
    "# define a matrix\n",
    "matrix = [[1, 2],\n",
    "          [3, 4],\n",
    "          [5, 6]]\n",
    "\n",
    "# create a result matrix with swapped dimensions\n",
    "result = [[0, 0, 0],\n",
    "          [0, 0, 0]]\n",
    "\n",
    "# iterate through each element of the matrix and swap the rows and columns\n",
    "for i in range(len(matrix)):\n",
    "    for j in range(len(matrix[0])):\n",
    "        result[j][i] = matrix[i][j]\n",
    "\n",
    "# print the result\n",
    "for row in result:\n",
    "    print(row)\n"
   ]
  },
  {
   "cell_type": "markdown",
   "id": "87f66270",
   "metadata": {},
   "source": [
    "#### 4. Write a Python Program to Sort Words in Alphabetic Order?"
   ]
  },
  {
   "cell_type": "code",
   "execution_count": 9,
   "id": "73cd79df",
   "metadata": {},
   "outputs": [
    {
     "name": "stdout",
     "output_type": "stream",
     "text": [
      "Enter a string: humera naz\n",
      " aaehmnruz\n"
     ]
    }
   ],
   "source": [
    "# take input string from user\n",
    "words = input(\"Enter a string: \")\n",
    "\n",
    "# split the string into a list of words\n",
    "word_list = sorted(words)\n",
    "\n",
    "# join the sorted list of words into a string\n",
    "sorted_words = ''.join(word_list)\n",
    "\n",
    "# print the sorted string of words\n",
    "print(sorted_words)"
   ]
  },
  {
   "cell_type": "markdown",
   "id": "209e1855",
   "metadata": {},
   "source": [
    "#### 5. Write a Python Program to Remove Punctuation From a String?"
   ]
  },
  {
   "cell_type": "code",
   "execution_count": 10,
   "id": "3ba8af4b",
   "metadata": {},
   "outputs": [
    {
     "name": "stdout",
     "output_type": "stream",
     "text": [
      "Hello World How are you doing Im doing well\n"
     ]
    }
   ],
   "source": [
    "import string\n",
    "\n",
    "# define a string with punctuation\n",
    "string_with_punctuation = \"Hello, World!!! How are you doing? I'm doing well.\"\n",
    "\n",
    "# remove punctuation from the string\n",
    "string_without_punctuation = string_with_punctuation.translate(str.maketrans('', '', string.punctuation))\n",
    "\n",
    "# print the string without punctuation\n",
    "print(string_without_punctuation)\n"
   ]
  }
 ],
 "metadata": {
  "kernelspec": {
   "display_name": "Python 3 (ipykernel)",
   "language": "python",
   "name": "python3"
  },
  "language_info": {
   "codemirror_mode": {
    "name": "ipython",
    "version": 3
   },
   "file_extension": ".py",
   "mimetype": "text/x-python",
   "name": "python",
   "nbconvert_exporter": "python",
   "pygments_lexer": "ipython3",
   "version": "3.9.7"
  }
 },
 "nbformat": 4,
 "nbformat_minor": 5
}
