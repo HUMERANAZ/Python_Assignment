{
 "cells": [
  {
   "cell_type": "markdown",
   "id": "4d269f70",
   "metadata": {},
   "source": [
    "# Python Basic Programming Assignment-5"
   ]
  },
  {
   "cell_type": "code",
   "execution_count": null,
   "id": "ea0142ba",
   "metadata": {},
   "outputs": [],
   "source": [
    "#Q1Write a Python Program to Find LCM?\n",
    "\n",
    "def lcm(a,b):\n",
    "    if a>b:\n",
    "        greater=a\n",
    "    else:\n",
    "        greater=b\n",
    "        \n",
    "    while True:\n",
    "        if greater%a==0 and greater%b==0:\n",
    "            lcm=greater\n",
    "            break\n",
    "        greater=greater+1\n",
    "        \n",
    "    return lcm\n",
    "\n",
    "lcm(6,15)"
   ]
  },
  {
   "cell_type": "code",
   "execution_count": 1,
   "id": "1402d3d5",
   "metadata": {},
   "outputs": [
    {
     "data": {
      "text/plain": [
       "11"
      ]
     },
     "execution_count": 1,
     "metadata": {},
     "output_type": "execute_result"
    }
   ],
   "source": [
    "#Q2 Write a Python Program to Find HCF?\n",
    "\n",
    "def hcf(a,b):\n",
    "    if a>b:\n",
    "        min=b\n",
    "    else:\n",
    "        min=b\n",
    "    \n",
    "\n",
    "    for i in range(1,min+1):\n",
    "        if a%i==0 and b%i==0:\n",
    "            hcf=i\n",
    "            \n",
    "            \n",
    "    return hcf\n",
    "\n",
    "\n",
    "hcf(88,121)\n"
   ]
  },
  {
   "cell_type": "code",
   "execution_count": 80,
   "id": "474ad6ed",
   "metadata": {},
   "outputs": [
    {
     "name": "stdout",
     "output_type": "stream",
     "text": [
      "101100\n",
      "54\n",
      "32\n"
     ]
    }
   ],
   "source": [
    "#Q3 Write a Python Program to Convert Decimal to Binary, Octal and Hexadecimal?\n",
    "\n",
    "def binary(dnum):\n",
    "    bnum = 0\n",
    "    mul = 1\n",
    "    while dnum>0:\n",
    "        rem=dnum%2\n",
    "        bnum=bnum+(rem*mul)\n",
    "        mul=mul*10\n",
    "        dnum=int(dnum/2)\n",
    "    \n",
    "    return bnum\n",
    "\n",
    "def octal(dnum):\n",
    "    onum = 0\n",
    "    mul = 1\n",
    "    while dnum>0:\n",
    "        rem=dnum%8\n",
    "        onum=onum+(rem*mul)\n",
    "        mul=mul*10\n",
    "        dnum=int(dnum/8)\n",
    "    \n",
    "    return onum\n",
    "\n",
    "def hexa(dnum):\n",
    "    hnum = 0\n",
    "    mul = 1\n",
    "    while dnum>0:\n",
    "        rem=dnum%16\n",
    "        hnum=hnum+(rem*mul)\n",
    "        mul=mul*10\n",
    "        dnum=int(dnum/16)\n",
    "    \n",
    "    return hnum\n",
    "\n",
    "\n",
    "print(binary(44))\n",
    "print(octal(44))\n",
    "print(hexa(44))\n"
   ]
  },
  {
   "cell_type": "code",
   "execution_count": 5,
   "id": "f611fbc4",
   "metadata": {},
   "outputs": [
    {
     "name": "stdout",
     "output_type": "stream",
     "text": [
      "please enter any charactera\n",
      "The ASCII value of a is 97\n"
     ]
    }
   ],
   "source": [
    "#Q4 Write a Python Program To Find ASCII value of a character?\n",
    "\n",
    "C=input(\"please enter any character\")\n",
    "print(\"The ASCII value of \"+C+\" is\",ord(C))"
   ]
  },
  {
   "cell_type": "code",
   "execution_count": 12,
   "id": "c14695f2",
   "metadata": {},
   "outputs": [
    {
     "name": "stdout",
     "output_type": "stream",
     "text": [
      "Please select operation -\n",
      "1. Add\n",
      "2. Subtract\n",
      "3. Multiply\n",
      "4. Divide\n",
      "\n",
      "4\n",
      "enter first number2\n",
      "enter second number2\n",
      "2 / 2 = 1.0\n"
     ]
    }
   ],
   "source": [
    "#Q5 Write a Python Program to Make a Simple (Calculator with 4 basic mathematical operations?\n",
    "\n",
    "def add(a,b):\n",
    "    return a+b\n",
    "\n",
    "def subtract(a,b):\n",
    "    return a-b\n",
    "\n",
    "def multiply(a,b):\n",
    "    return a*b\n",
    "\n",
    "def divide(a,b):\n",
    "    return a/b\n",
    "\n",
    "print(\"Please select operation -\\n\" \\\n",
    "        \"1. Add\\n\" \\\n",
    "        \"2. Subtract\\n\" \\\n",
    "        \"3. Multiply\\n\" \\\n",
    "        \"4. Divide\\n\")\n",
    "\n",
    "ch=int(input())\n",
    "num1=int(input(\"enter first number\"))\n",
    "num2=int(input(\"enter second number\"))\n",
    "\n",
    "if ch==1:\n",
    "    print(num1,\"+\",num2,\"=\",add(num1,num2))\n",
    "    \n",
    "if ch==2:\n",
    "    print(num1,\"-\",num2,\"=\",subtract(num1,num2))\n",
    "    \n",
    "if ch==3:\n",
    "    print(num1,\"x\",num2,\"=\",multiply(num1,num2))\n",
    "    \n",
    "if ch==4:\n",
    "    print(num1,\"/\",num2,\"=\",divide(num1,num2))"
   ]
  },
  {
   "cell_type": "code",
   "execution_count": null,
   "id": "31bc947d",
   "metadata": {},
   "outputs": [],
   "source": []
  }
 ],
 "metadata": {
  "kernelspec": {
   "display_name": "Python 3 (ipykernel)",
   "language": "python",
   "name": "python3"
  },
  "language_info": {
   "codemirror_mode": {
    "name": "ipython",
    "version": 3
   },
   "file_extension": ".py",
   "mimetype": "text/x-python",
   "name": "python",
   "nbconvert_exporter": "python",
   "pygments_lexer": "ipython3",
   "version": "3.9.7"
  }
 },
 "nbformat": 4,
 "nbformat_minor": 5
}
