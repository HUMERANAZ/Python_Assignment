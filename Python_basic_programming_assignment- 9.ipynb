{
 "cells": [
  {
   "cell_type": "markdown",
   "id": "fb565f0e",
   "metadata": {},
   "source": [
    "# Python Programming Assignment 9"
   ]
  },
  {
   "cell_type": "code",
   "execution_count": 5,
   "id": "107a29f9",
   "metadata": {},
   "outputs": [
    {
     "name": "stdout",
     "output_type": "stream",
     "text": [
      "Enter number- 56\n",
      "Number is not Disarium\n"
     ]
    }
   ],
   "source": [
    "#Q1 Write a Python program to check if the given number is a Disarium Number?\n",
    "\n",
    "import math\n",
    "\n",
    "def dis_num(n):\n",
    "    copy=n\n",
    "    l=len(str(n))\n",
    "    sum=0\n",
    "    while(n>0):\n",
    "        d=n%10\n",
    "        sum=sum+math.pow(d,l)\n",
    "        l=l-1\n",
    "        n=n//10\n",
    "    if sum==copy:\n",
    "        return \"Disarium\"\n",
    "    else:\n",
    "        return \"not Disarium\"\n",
    "   \n",
    "    \n",
    "    \n",
    "num=int(input(\"Enter number- \"))\n",
    "print(\"Number is\",dis_num(num))\n",
    "        "
   ]
  },
  {
   "cell_type": "code",
   "execution_count": 11,
   "id": "f4dc8db9",
   "metadata": {},
   "outputs": [
    {
     "name": "stdout",
     "output_type": "stream",
     "text": [
      "Disarium number are- \n",
      "1  2  3  4  5  6  7  8  9  89  "
     ]
    }
   ],
   "source": [
    "#Q2 Write a Python program to print all disarium numbers between 1 to 100?\n",
    "\n",
    "import math\n",
    "\n",
    "print(\"Disarium number are- \")\n",
    "for i in range(1,101):\n",
    "    n=i\n",
    "    l=len(str(n))\n",
    "    sum=0\n",
    "    while(n>0):\n",
    "        d=n%10\n",
    "        sum=sum+math.pow(d,l)\n",
    "        l=l-1\n",
    "        n=n//10\n",
    "    if sum==i:\n",
    "        print(i,\" \",end=\"\")\n",
    "   \n",
    "\n",
    "    "
   ]
  },
  {
   "cell_type": "code",
   "execution_count": 6,
   "id": "4012fcb2",
   "metadata": {},
   "outputs": [
    {
     "name": "stdout",
     "output_type": "stream",
     "text": [
      "Enter number- 32\n",
      "happy number\n"
     ]
    }
   ],
   "source": [
    "#Q3 Write a Python program to check if the given number is Happy Number?\n",
    "\n",
    "import math\n",
    "def happ_num(n):\n",
    "    sum=0\n",
    "    while(n>0):\n",
    "        d=n%10\n",
    "        sum=sum+math.pow(d,2)\n",
    "        n=n//10\n",
    "    return sum\n",
    "    \n",
    "\n",
    "n=int(input(\"Enter number- \"))\n",
    "res=happ_num(n)\n",
    "\n",
    "while(res!=1 and res!=4):\n",
    "    res=happ_num(res)\n",
    "\n",
    "if res==1:\n",
    "    print(\"happy number\")\n",
    "elif res==4:\n",
    "    print(\"unhappy number\")\n",
    "    "
   ]
  },
  {
   "cell_type": "code",
   "execution_count": 7,
   "id": "5252ece4",
   "metadata": {},
   "outputs": [
    {
     "name": "stdout",
     "output_type": "stream",
     "text": [
      "1\n",
      "7\n",
      "10\n",
      "13\n",
      "19\n",
      "23\n",
      "28\n",
      "31\n",
      "32\n",
      "44\n",
      "49\n",
      "68\n",
      "70\n",
      "79\n",
      "82\n",
      "86\n",
      "91\n",
      "94\n",
      "97\n",
      "100\n"
     ]
    }
   ],
   "source": [
    "#Q4 Write a Python program to print all happy numbers between 1 and 100?\n",
    "\n",
    "import math\n",
    "def happ_num(n):\n",
    "    sum=0\n",
    "    while(n>0):\n",
    "        d=n%10\n",
    "        sum=sum+math.pow(d,2)\n",
    "        n=n//10\n",
    "    return sum\n",
    "    \n",
    "\n",
    "for i in range(1,101):\n",
    "    res=happ_num(i)\n",
    "\n",
    "    while(res!=1 and res!=4):\n",
    "        res=happ_num(res)\n",
    "\n",
    "    if res==1:\n",
    "        print(i)\n",
    "    \n"
   ]
  },
  {
   "cell_type": "code",
   "execution_count": 12,
   "id": "53d3cd4e",
   "metadata": {},
   "outputs": [
    {
     "name": "stdout",
     "output_type": "stream",
     "text": [
      "Enter Number- 60\n",
      "The number is  Harshad Number\n"
     ]
    }
   ],
   "source": [
    "#Q5 Write a Python program to determine whether the given number is a Harshad Number?\n",
    "\n",
    "def hars_num(n):\n",
    "    \n",
    "    copy=n\n",
    "    sum=0\n",
    "    \n",
    "    while(n>0):\n",
    "        d=n%10\n",
    "        sum=sum+d\n",
    "        n=n//10\n",
    "        \n",
    "    if copy%sum==0:\n",
    "        return \"Harshad Number\"\n",
    "    else:\n",
    "        return \"not Harshad Number\"\n",
    "   \n",
    "n=int(input(\"Enter Number- \"))\n",
    "print(\"The number is \",hars_num(n))"
   ]
  },
  {
   "cell_type": "code",
   "execution_count": 11,
   "id": "6221adac",
   "metadata": {},
   "outputs": [
    {
     "name": "stdout",
     "output_type": "stream",
     "text": [
      "Pronic numbers between 1 and 100- \n",
      "2\n",
      "6\n",
      "12\n",
      "20\n",
      "30\n",
      "42\n",
      "56\n",
      "72\n",
      "90\n"
     ]
    }
   ],
   "source": [
    "#Q6 Write a Python program to print all pronic numbers between 1 and 100?\n",
    "\n",
    "\n",
    "def pronic(n):\n",
    "    flag=False\n",
    "    for j in range(n+1):\n",
    "        if (j*(j+1)==n):\n",
    "            flag=True\n",
    "            break\n",
    "    return flag\n",
    "print(\"Pronic numbers between 1 and 100- \")\n",
    "for i in range(1,101):\n",
    "    if (pronic(i)):\n",
    "        print(i)\n",
    "        \n",
    "   "
   ]
  },
  {
   "cell_type": "code",
   "execution_count": null,
   "id": "409249cf",
   "metadata": {},
   "outputs": [],
   "source": []
  }
 ],
 "metadata": {
  "kernelspec": {
   "display_name": "Python 3 (ipykernel)",
   "language": "python",
   "name": "python3"
  },
  "language_info": {
   "codemirror_mode": {
    "name": "ipython",
    "version": 3
   },
   "file_extension": ".py",
   "mimetype": "text/x-python",
   "name": "python",
   "nbconvert_exporter": "python",
   "pygments_lexer": "ipython3",
   "version": "3.9.7"
  }
 },
 "nbformat": 4,
 "nbformat_minor": 5
}
