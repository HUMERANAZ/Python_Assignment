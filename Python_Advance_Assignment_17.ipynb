{
 "cells": [
  {
   "cell_type": "markdown",
   "id": "86f1b8d4",
   "metadata": {},
   "source": [
    "# Python_Advance_Assignment_17"
   ]
  },
  {
   "cell_type": "markdown",
   "id": "c7d87028",
   "metadata": {},
   "source": [
    "#### 1. Explain the difference between greedy and non-greedy syntax with visual terms in as few words as possible. What is the bare minimum effort required to transform a greedy pattern into a non-greedy one? What characters or characters can you introduce or change?\n",
    "\n",
    "Greedy and non-greedy syntax in regular expressions differ in how they handle matching patterns. Greedy matching aims to match as much as possible, while non-greedy (or lazy/reluctant) matching aims to match as little as possible. \n",
    "\n",
    "To transform a greedy pattern into a non-greedy one, the bare minimum effort required is to introduce a question mark \"?\" after the quantifier. This modifies the quantifier from being greedy to non-greedy. For example, changing \"+\" to \"+?\" or \"*\" to \"*?\" will make the pattern non-greedy.\n",
    "\n",
    "#### 2. When exactly does greedy versus non-greedy make a difference? What if you're looking for a non-greedy match but the only one available is greedy?\n",
    "\n",
    "The distinction between greedy and non-greedy matching becomes significant when there are multiple possible matches within a string. Greedy matching tends to match the longest possible substring that satisfies the pattern, while non-greedy matching aims for the shortest possible substring.\n",
    "\n",
    "If you are specifically looking for a non-greedy match, but the only option available is a greedy match, you can modify the greedy pattern to make it non-greedy by introducing a question mark \"?\" after the quantifier. This change allows the pattern to match the shortest possible substring, aligning with non-greedy behavior.\n",
    "\n",
    "#### 3. In a simple match of a string, which looks only for one match and does not do any replacement, is the use of a non-tagged group likely to make any practical difference?\n",
    "\n",
    "In a simple match of a string where only one match is needed and no replacement is performed, the use of a non-tagged group is unlikely to make a practical difference. Non-tagged groups, also known as capturing groups, are primarily used for capturing matched substrings for further processing or extraction. In a basic match that only seeks a single match, the use of non-tagged groups is not crucial unless there is a specific need for capturing a particular part of the match.\n",
    "\n",
    "#### 4. Describe a scenario in which using a non-tagged category would have a significant impact on the program's outcomes.\n",
    "\n",
    "One scenario where using a non-tagged category (non-capturing group) can have a significant impact is when performing pattern matching with multiple occurrences of a specific pattern. By using non-tagged capturing groups, each occurrence can be captured separately, allowing for individual processing or analysis of each matched substring. This capability becomes essential when dealing with complex data processing tasks that require handling multiple occurrences of a pattern within a string.\n",
    "\n",
    "#### 5. Unlike a normal regex pattern, a look-ahead condition does not consume the characters it examines. Describe a situation in which this could make a difference in the results of your program.\n",
    "\n",
    "The non-consumptive nature of a look-ahead condition can make a difference in the results of a program when you want to match a specific pattern only if it is followed by another specific pattern but without including the second pattern in the match itself. This situation is useful in various scenarios, such as finding all occurrences of \"apple\" that are followed by \"pie\" but without including \"pie\" in the matched result. The ability to assert the presence or absence of certain patterns ahead of the main match without including them in the actual match allows for more precise pattern matching and advanced string manipulation.\n",
    "\n",
    "#### 6. In standard expressions, what is the difference between positive look-ahead and negative look-ahead?\n",
    "\n",
    "In regular expressions, positive look-ahead and negative look-ahead are constructs used to assert the presence or absence of a pattern ahead of the\n",
    "\n",
    " main match. \n",
    "\n",
    "Positive look-ahead, denoted by \"(?=pattern)\", matches the main pattern only if it is followed by the specified pattern. It is a positive assertion that the pattern should be present without actually including it in the match.\n",
    "\n",
    "Negative look-ahead, denoted by \"(?!pattern)\", matches the main pattern only if it is not followed by the specified pattern. It is a negative assertion that the pattern should not be present immediately after the main match.\n",
    "\n",
    "#### 7. What is the benefit of referring to groups by name rather than by number in a standard expression?\n",
    "\n",
    "Referring to groups by name rather than by number in a standard expression provides several benefits. Firstly, it enhances the readability and clarity of the pattern. Group names convey their purpose or meaning, making it easier for others to understand the intent of the regular expression. Additionally, when modifying or maintaining the pattern, using named groups improves code maintainability as group names can be self-explanatory and reduce the chances of errors caused by group number changes. Lastly, named groups facilitate code reuse and make it easier to extract specific captured substrings by referencing them directly by their names.\n",
    "\n",
    "#### 8. Can you identify repeated items within a target string using named groups, as in \"The cow jumped over the moon\"?\n",
    "\n",
    "Yes, repeated items within a target string can be identified using named groups in regular expressions. By defining a named group in the pattern and using the same name for subsequent occurrences, the regular expression engine can capture and track repeated items. This allows for more granular analysis and processing of individual occurrences of the repeated item within the target string.\n",
    "\n",
    "#### 9. When parsing a string, what is at least one thing that the Scanner interface does for you that the re.findall feature does not?\n",
    "\n",
    "When parsing a string, the Scanner interface provides the functionality of tokenizing the input string, breaking it down into smaller units called tokens. This tokenization process involves identifying patterns in the string and categorizing them accordingly. Unlike the `re.findall` feature, which returns all non-overlapping matches of a pattern in a string, the Scanner interface goes beyond simple pattern matching and offers a structured approach to parsing by organizing the string into meaningful tokens. It simplifies the process of extracting specific information or performing more complex parsing tasks.\n",
    "\n",
    "#### 10. Does a scanner object have to be named scanner?\n",
    "\n",
    "No, a Scanner object does not have to be named \"scanner.\" The choice of variable name is arbitrary and can be customized to fit the naming conventions and requirements of the programming language or context in which it is used. It is common practice to choose a variable name that is descriptive and meaningful to improve code readability and maintainability."
   ]
  },
  {
   "cell_type": "code",
   "execution_count": null,
   "id": "a84c3db2",
   "metadata": {},
   "outputs": [],
   "source": []
  }
 ],
 "metadata": {
  "kernelspec": {
   "display_name": "Python 3 (ipykernel)",
   "language": "python",
   "name": "python3"
  },
  "language_info": {
   "codemirror_mode": {
    "name": "ipython",
    "version": 3
   },
   "file_extension": ".py",
   "mimetype": "text/x-python",
   "name": "python",
   "nbconvert_exporter": "python",
   "pygments_lexer": "ipython3",
   "version": "3.9.7"
  }
 },
 "nbformat": 4,
 "nbformat_minor": 5
}
