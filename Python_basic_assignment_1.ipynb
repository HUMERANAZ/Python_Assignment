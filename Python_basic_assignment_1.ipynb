{
 "cells": [
  {
   "cell_type": "markdown",
   "id": "b2055b8f",
   "metadata": {},
   "source": [
    "# PYTHON BASIC ASSIGNMENT-1."
   ]
  },
  {
   "cell_type": "markdown",
   "id": "48b68b4c",
   "metadata": {},
   "source": [
    "Ans1. * --> expression(multiplication operator)\n",
    "      'hello' --> value(string type)\n",
    "      -87.8 --> value(float type)\n",
    "      -     --> expression(minus operator)\n",
    "      /     --> expression(division operator)\n",
    "      +     --> expression(plus operator)\n",
    "      6     --> value(integer type)"
   ]
  },
  {
   "cell_type": "markdown",
   "id": "bdc461ae",
   "metadata": {},
   "source": [
    "Ans2. The difference between string and variable is:\n",
    "      Variable is name which we use to allocate memory space in main memory while string is the value of string datatype which       we write in quotes and stores in variable."
   ]
  },
  {
   "cell_type": "markdown",
   "id": "8fea49cc",
   "metadata": {},
   "source": [
    "Ans3. Three different data types:\n",
    "      1. int- It stores integers values only. Values can be negative no., positive no. or zero and values does not contain                   decimal part in it. eg: a = 5 , b = -8.\n",
    "      2. Float-These are floating points real numbers that stores decimal values. It consist integer and decimal part. It can                  be positive or negative. eg: f=2.04\n",
    "      3.String- A string is a sequence of characters enclosed in single quotes, double quotes or triple quotes. The character                   present in a string can be alphabets, numbers, special character, or white spaces. eg:a='ineuron'  "
   ]
  },
  {
   "cell_type": "markdown",
   "id": "1c5619b9",
   "metadata": {},
   "source": [
    "Ans4. An expression is a combination of operators and operands that is interpreted to produce some other value. In any               programming language, an expression is evaluated as per the precedence of its operators.So that if there is more than one       operator in an expression, their precedence decides which operation will be performed first. We have many different types       of expressions in Python."
   ]
  },
  {
   "cell_type": "markdown",
   "id": "26e22642",
   "metadata": {},
   "source": [
    "Ans5. Expression is made up of values, containers, and mathematical operators (operands) and the statement is just like a             command that a python interpreter executes like print."
   ]
  },
  {
   "cell_type": "code",
   "execution_count": 6,
   "id": "70df0647",
   "metadata": {},
   "outputs": [
    {
     "data": {
      "text/plain": [
       "23"
      ]
     },
     "execution_count": 6,
     "metadata": {},
     "output_type": "execute_result"
    }
   ],
   "source": [
    "'''Ans6- value of bacon+1 is 23'''\n",
    "bacon=22\n",
    "bacon+1\n"
   ]
  },
  {
   "cell_type": "markdown",
   "id": "b58c2b86",
   "metadata": {},
   "source": [
    "Ans7.  'spam'+'spamspam'   output= spamspamspam\n",
    "       'spam'*3            output= spamspamspam"
   ]
  },
  {
   "cell_type": "code",
   "execution_count": 13,
   "id": "d4c9d154",
   "metadata": {},
   "outputs": [
    {
     "name": "stdout",
     "output_type": "stream",
     "text": [
      "spamspamspam\n",
      "spamspamspam\n"
     ]
    }
   ],
   "source": [
    "'''Ans7'''\n",
    "a='spam'+'spamspam'\n",
    "b='spam'*3\n",
    "print(a)\n",
    "print(b)"
   ]
  },
  {
   "cell_type": "markdown",
   "id": "ed97ace7",
   "metadata": {},
   "source": [
    "Ans8. egg is a valid variable name because it is not a keyword and started with letter while 100 is not valid varable name           because it started with digit. In python variable name can't start with digit or special character."
   ]
  },
  {
   "cell_type": "markdown",
   "id": "7dfe570e",
   "metadata": {},
   "source": [
    "Ans9. int()-  this function is use to get integer value from integer literal, floating literal or string\n",
    "              literal(providing string represents a whole no.)\n",
    "      float()-this function is use to construct float value from integer literal, floating literal or string\n",
    "               literal(providint string represents a float or an integer)\n",
    "      str()-  this function is use to construct a string from a wide variety of data types, including strings, integer literals               and float literals,"
   ]
  },
  {
   "cell_type": "markdown",
   "id": "66ebcbaf",
   "metadata": {},
   "source": [
    "Ans10. This function cause an error because it contains two strings and one integer for concatnation and concatnation of different datatype is not possible in python.\n",
    "We can fix it by using this expression - 'I have eaten'+'99'+'burritos'"
   ]
  },
  {
   "cell_type": "code",
   "execution_count": 11,
   "id": "1fc69229",
   "metadata": {},
   "outputs": [
    {
     "data": {
      "text/plain": [
       "'I have eaten 99 burritos'"
      ]
     },
     "execution_count": 11,
     "metadata": {},
     "output_type": "execute_result"
    }
   ],
   "source": [
    "'I have eaten'+'99'+' burritos'"
   ]
  }
 ],
 "metadata": {
  "kernelspec": {
   "display_name": "Python 3 (ipykernel)",
   "language": "python",
   "name": "python3"
  },
  "language_info": {
   "codemirror_mode": {
    "name": "ipython",
    "version": 3
   },
   "file_extension": ".py",
   "mimetype": "text/x-python",
   "name": "python",
   "nbconvert_exporter": "python",
   "pygments_lexer": "ipython3",
   "version": "3.9.7"
  }
 },
 "nbformat": 4,
 "nbformat_minor": 5
}
