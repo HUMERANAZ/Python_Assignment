{
 "cells": [
  {
   "cell_type": "markdown",
   "id": "c52673f0",
   "metadata": {},
   "source": [
    "# Python Basic Programming Assignment-13"
   ]
  },
  {
   "cell_type": "code",
   "execution_count": 27,
   "id": "96ecb892",
   "metadata": {},
   "outputs": [
    {
     "name": "stdout",
     "output_type": "stream",
     "text": [
      "enter 3 values of D- 100,150,180\n",
      "final three answers are 18,22,24\n"
     ]
    }
   ],
   "source": [
    "# Question 1:\n",
    "#Write a program that calculates and prints the value according to the given formula:\n",
    "#Q = Square root of [(2 * C * D)/H]\n",
    "#Following are the fixed values of C and H:\n",
    "#C is 50. H is 30.\n",
    "#D is the variable whose values should be input to your program in a comma-separated\n",
    "#sequence.\n",
    "\n",
    "\n",
    "import logging\n",
    "import math\n",
    "\n",
    "logging.basicConfig(filename=\"Assignment-13\", level=logging.DEBUG)\n",
    "\n",
    "class Question1:\n",
    "    logging.info(\"Question 1\")\n",
    "\n",
    "    def __init__(self,n):\n",
    "        self.n=n\n",
    "        logging.info(\"entered value of d is - {}\".format(n))\n",
    "\n",
    "    def sq_rt(self):\n",
    "        try:\n",
    "            C = 50\n",
    "            H = 30\n",
    "            l = []\n",
    "            for i in self.n.split(\",\"):\n",
    "                Q = str(round(math.sqrt(2 * C * int(i) / H)))\n",
    "                l.append(Q)\n",
    "\n",
    "                \n",
    "            s = \",\".join(l)\n",
    "            logging.info(\"final three answers are {}\".format(s))\n",
    "            return \"final three answers are {}\".format(s)\n",
    "        except Exception as e:\n",
    "            logging.error(e)\n",
    "\n",
    "n=input('enter 3 values of D- ')\n",
    "Q=Question1(n)\n",
    "print(Q.sq_rt())"
   ]
  },
  {
   "cell_type": "code",
   "execution_count": 26,
   "id": "e6496c2e",
   "metadata": {},
   "outputs": [
    {
     "name": "stdout",
     "output_type": "stream",
     "text": [
      "enter two digits:- 3,5\n",
      "2-D array is [[0, 0, 0, 0, 0], [0, 1, 2, 3, 4], [0, 2, 4, 6, 8]]\n"
     ]
    }
   ],
   "source": [
    "#Question 2:\n",
    "#Write a program which takes 2 digits, X,Y as input and generates a 2-dimensional array. The\n",
    "#element value in the i-th row and j-th column of the array should be i*j.\n",
    "#Note: i=0,1.., X-1; j=0,1,¡Y-1.\n",
    "\n",
    "logging.basicConfig(filename=\"Assignment-13\", level=logging.DEBUG)\n",
    "\n",
    "class Question2:\n",
    "    logging.info(\"Question 2\")\n",
    "\n",
    "    def __init__(self,n):\n",
    "        self.n=n\n",
    "        logging.info(\"entered value of row and column is - {}\".format(n))\n",
    "\n",
    "    def two_d_array(self):\n",
    "        try:\n",
    "            s=self.n.split(',')\n",
    "            l=[]\n",
    "            \n",
    "            for i in range(int(s[0])):\n",
    "                l1=[]\n",
    "                for j in range(int(s[1])):\n",
    "                    l1.append(i*j)\n",
    "                l.append(l1)\n",
    "                \n",
    "            logging.info(\"2-D array is {}\".format(l))\n",
    "            return \"2-D array is {}\".format(l)\n",
    "        except Exception as e:\n",
    "            logging.error(e)\n",
    "\n",
    "n=input('enter two digits:- ')\n",
    "Q2=Question2(n)\n",
    "print(Q2.two_d_array())\n",
    "\n"
   ]
  },
  {
   "cell_type": "code",
   "execution_count": 24,
   "id": "d3ab4ddb",
   "metadata": {},
   "outputs": [
    {
     "name": "stdout",
     "output_type": "stream",
     "text": [
      "enter words:- without,hello,bag,world\n",
      "alphabetically sorted words:- bag,hello,without,world \n"
     ]
    }
   ],
   "source": [
    "#Question 3:\n",
    "#Write a program that accepts a comma separated sequence of words as input and prints the\n",
    "#words in a comma-separated sequence after sorting them alphabetically.\n",
    "\n",
    "logging.basicConfig(filename=\"Assignment-13\", level=logging.DEBUG)\n",
    "\n",
    "class Question3:\n",
    "    logging.info(\"Question 3\")\n",
    "\n",
    "    def __init__(self,s):\n",
    "        self.s=s\n",
    "        logging.info(\"entered words are - {}\".format(s))\n",
    "\n",
    "    def sort_word(self):\n",
    "        try:\n",
    "            s1=self.s.split(',')\n",
    "            s1.sort()\n",
    "            s2=\",\".join(s1)\n",
    "            logging.info(\"alphabetically sorted words-{} \".format(s2))\n",
    "            return \"alphabetically sorted words:- {} \".format(s2)\n",
    "        except Exception as e:\n",
    "            logging.error(e)\n",
    "\n",
    "s=input('enter words:- ')\n",
    "Q3=Question3(s)\n",
    "print(Q3.sort_word())\n",
    "\n",
    "\n"
   ]
  },
  {
   "cell_type": "code",
   "execution_count": 25,
   "id": "0031e956",
   "metadata": {},
   "outputs": [
    {
     "name": "stdout",
     "output_type": "stream",
     "text": [
      "enter words:- hello world and practice makes perfect and hello world again\n",
      "alphabetically sorted words after removing duplicates:- again and hello makes perfect practice world \n"
     ]
    }
   ],
   "source": [
    "#Question 4:\n",
    "#Write a program that accepts a sequence of whitespace separated words as input and prints\n",
    "#the words after removing all duplicate words and sorting them alphanumerically.\n",
    "\n",
    "logging.basicConfig(filename=\"Assignment-13\", level=logging.DEBUG)\n",
    "\n",
    "class Question4:\n",
    "    logging.info(\"Question 4\")\n",
    "\n",
    "    def __init__(self,s):\n",
    "        self.s=s\n",
    "        logging.info(\"entered words are - {}\".format(s))\n",
    "\n",
    "    def sort_word(self):\n",
    "        try:\n",
    "            s1=list(set(self.s.split(' ')))\n",
    "            s1.sort()\n",
    "            s2=\" \".join(s1)\n",
    "            logging.info(\"alphabetically sorted words after removing duplicates -{} \".format(s2))\n",
    "            return \"alphabetically sorted words after removing duplicates:- {} \".format(s2)\n",
    "        except Exception as e:\n",
    "            logging.error(e)\n",
    "\n",
    "s=input('enter words:- ')\n",
    "Q4=Question4(s)\n",
    "print(Q4.sort_word())\n",
    "\n"
   ]
  },
  {
   "cell_type": "code",
   "execution_count": 21,
   "id": "9330208d",
   "metadata": {},
   "outputs": [
    {
     "name": "stdout",
     "output_type": "stream",
     "text": [
      "enter sentence:- hello world! 123\n",
      "LETTERS- 10   DIGITS- 3\n"
     ]
    }
   ],
   "source": [
    "#Question 5:\n",
    "#Write a program that accepts a sentence and calculate the number of letters and digits.\n",
    "\n",
    "logging.basicConfig(filename=\"Assignment-13\", level=logging.DEBUG)\n",
    "\n",
    "class Question5:\n",
    "    logging.info(\"Question 5\")\n",
    "\n",
    "    def __init__(self,s):\n",
    "        self.s=s\n",
    "        logging.info(\"entered sentence is - {}\".format(s))\n",
    "\n",
    "    def calc_num_dig(self):\n",
    "        try:\n",
    "            l,d=0,0\n",
    "            for i in self.s:\n",
    "                if i.isalpha():\n",
    "                    l=l+1\n",
    "                elif i.isdigit():\n",
    "                    d=d+1\n",
    "                else:\n",
    "                    continue\n",
    "            logging.info(\"LETTERS- {}   DIGITS- {}\".format(l,d))\n",
    "            return \"LETTERS- {}   DIGITS- {}\".format(l,d)\n",
    "        except Exception as e:\n",
    "            logging.error(e)\n",
    "\n",
    "s=input('enter sentence:- ')\n",
    "Q5=Question5(s)\n",
    "print((Q5.calc_num_dig()))\n",
    "\n"
   ]
  },
  {
   "cell_type": "code",
   "execution_count": 20,
   "id": "41fa771b",
   "metadata": {},
   "outputs": [
    {
     "name": "stdout",
     "output_type": "stream",
     "text": [
      "enter passwords:- ABd1234@1,a F1#,2w3E*,2We3345\n",
      "ABd1234@1 is a valid password\n"
     ]
    }
   ],
   "source": [
    "#Question 6:\n",
    "#A website requires the users to input username and password to register. Write a program to\n",
    "#check the validity of password input by users.\n",
    "\n",
    "logging.basicConfig(filename=\"Assignment-13\", level=logging.DEBUG)\n",
    "\n",
    "class Question6:\n",
    "    logging.info(\"Question 5\")\n",
    "\n",
    "    def __init__(self,pw):\n",
    "        self.pw=pw\n",
    "        logging.info(\"entered passwords are - {}\".format(pw))\n",
    "\n",
    "    def password_check(self):\n",
    "        try:\n",
    "            SC=\"$#@\"\n",
    "            pwd=self.pw.split(\",\")\n",
    "            for p in pwd:\n",
    "                if len(p)>=6 and len(p)<=12:\n",
    "                    uc,lc,sc,d=0,0,0,0\n",
    "                    for i in p:\n",
    "                        if i.isupper():\n",
    "                            uc=uc+1\n",
    "                            \n",
    "                        elif i.islower():\n",
    "                            lc=lc+1\n",
    "                \n",
    "                        elif i in SC:\n",
    "                            sc=sc+1\n",
    "                \n",
    "                        elif i.isdigit():\n",
    "                            d=d+1\n",
    "                \n",
    "                        else:\n",
    "                            break\n",
    "                if uc>=1 and lc>=1 and sc>=1 and d>=1:\n",
    "                    logging.info(\"{} is a valid password\".format(p))\n",
    "                    return \"{} is a valid password\".format(p)\n",
    "                    \n",
    "           \n",
    "        except Exception as e:\n",
    "            logging.error(e)\n",
    "\n",
    "s=input('enter passwords:- ')\n",
    "Q6=Question6(s)\n",
    "print((Q6.password_check()))\n",
    "\n"
   ]
  }
 ],
 "metadata": {
  "kernelspec": {
   "display_name": "Python 3 (ipykernel)",
   "language": "python",
   "name": "python3"
  },
  "language_info": {
   "codemirror_mode": {
    "name": "ipython",
    "version": 3
   },
   "file_extension": ".py",
   "mimetype": "text/x-python",
   "name": "python",
   "nbconvert_exporter": "python",
   "pygments_lexer": "ipython3",
   "version": "3.9.7"
  }
 },
 "nbformat": 4,
 "nbformat_minor": 5
}
