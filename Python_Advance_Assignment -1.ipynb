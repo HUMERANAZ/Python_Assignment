{
 "cells": [
  {
   "cell_type": "markdown",
   "id": "bda40979",
   "metadata": {},
   "source": [
    "# Python Advance Assignment  - 1\n"
   ]
  },
  {
   "cell_type": "markdown",
   "id": "0a7b8427",
   "metadata": {},
   "source": [
    "#### Q1. What is the purpose of Python's OOP?"
   ]
  },
  {
   "cell_type": "markdown",
   "id": "39ecfd32",
   "metadata": {},
   "source": [
    "The purpose of Python's Object-Oriented Programming (OOP) is to allow developers to create modular, reusable code that is easier to maintain and extend. OOP provides a way to organize code into objects, which can encapsulate data and behavior, making it easier to reason about the code and reduce its complexity.\n",
    "\n",
    "In Python, OOP allows you to define classes, which are templates for creating objects. A class can define attributes (data) and methods (functions) that operate on that data. Objects created from a class can have their own values for the attributes and can call the methods defined in the class.\n",
    "\n",
    "Some of the benefits of using OOP in Python include:\n",
    "\n",
    "1. Modularity: OOP allows you to break down a large problem into smaller, more manageable parts. Classes can be reused in different parts of the program or in different programs altogether.\n",
    "\n",
    "2. Abstraction: OOP allows you to abstract away implementation details and focus on the high-level functionality of a program.\n",
    "\n",
    "3. Encapsulation: OOP allows you to encapsulate data and behavior into objects, making it easier to reason about the code and reducing the risk of unwanted interactions between different parts of the program.\n",
    "\n",
    "4. Inheritance: OOP allows you to create new classes based on existing classes, inheriting their attributes and methods. This can help you avoid duplicating code and make it easier to make changes to the program in the future.\n",
    "\n",
    "5. Polymorphism: OOP allows you to define multiple methods with the same name but different implementations. This can make it easier to write code that works with different types of objects."
   ]
  },
  {
   "cell_type": "markdown",
   "id": "2e79cf8c",
   "metadata": {},
   "source": [
    "#### Q2. Where does an inheritance search look for an attribute?"
   ]
  },
  {
   "cell_type": "markdown",
   "id": "65eac590",
   "metadata": {},
   "source": [
    "In Python, when an attribute is accessed on an object, the interpreter searches for the attribute in a specific order. This order is known as the Method Resolution Order (MRO), and it is determined by the inheritance hierarchy of the object's class.\n",
    "\n",
    "When an attribute is accessed on an object, the interpreter first looks for the attribute in the object's own dictionary. If the attribute is not found there, it then looks for the attribute in the dictionary of the object's class. If the attribute is not found in the class, the interpreter continues the search up the inheritance hierarchy, checking each parent class in turn, until it finds the attribute or reaches the top of the hierarchy.\n",
    "\n",
    "The order of the search is determined by the MRO, which is a linear ordering of the classes in the inheritance hierarchy. Python uses a variant of the C3 linearization algorithm to compute the MRO, which ensures that the order is consistent with the following three principles:\n",
    "\n",
    "1. Depth First Search: A parent class is searched before its children.\n",
    "\n",
    "2. Left-to-Right: When multiple parent classes are present, they are searched in the order in which they appear in the inheritance tuple.\n",
    "\n",
    "3. No Repetition: Each class is searched only once, even if it appears multiple times in the inheritance tuple.\n",
    "\n",
    "By following this order of search, Python ensures that the correct attribute is found when it is accessed on an object, even when the attribute is inherited from a parent class."
   ]
  },
  {
   "cell_type": "markdown",
   "id": "862bfffd",
   "metadata": {},
   "source": [
    "#### Q3. How do you distinguish between a class object and an instance object?"
   ]
  },
  {
   "cell_type": "markdown",
   "id": "9e6b469f",
   "metadata": {},
   "source": [
    "In Python, a class is a blueprint for creating objects that share a common structure and behavior. An instance, on the other hand, is an individual object created from a class. \n",
    "\n",
    "To distinguish between a class object and an instance object, you need to understand the following differences:\n",
    "\n",
    "1. Definition: A class is defined using the `class` keyword, while an instance is created using the class constructor, which is typically the class name followed by parentheses.\n",
    "\n",
    "2. Properties: A class has class-level properties (also called class attributes) that are shared among all instances of the class. An instance, on the other hand, has instance-level properties (also called instance attributes) that are unique to that specific instance.\n",
    "\n",
    "3. Methods: A class has class-level methods that operate on class-level properties. An instance has instance-level methods that operate on instance-level properties.\n",
    "\n",
    "4. Initialization: A class can define a special method called `__init__` that is called when a new instance is created. This method can be used to initialize the instance with default values. An instance is created by calling the class constructor and passing any necessary arguments.\n",
    "\n",
    "Here's an example that illustrates the difference between a class object and an instance object in Python:\n",
    "\n",
    "```python\n",
    "# Define a class\n",
    "class Car:\n",
    "    # Class attribute\n",
    "    wheels = 4\n",
    "    \n",
    "    # Instance method\n",
    "    def start_engine(self):\n",
    "        print(\"Engine started.\")\n",
    "\n",
    "# Create an instance of the class\n",
    "my_car = Car()\n",
    "\n",
    "# Access the class attribute\n",
    "print(Car.wheels)  # Output: 4\n",
    "\n",
    "# Access the instance attribute\n",
    "print(my_car.wheels)  # Output: 4\n",
    "\n",
    "# Call the instance method\n",
    "my_car.start_engine()  # Output: Engine started.\n",
    "```\n",
    "\n",
    "In this example, `Car` is a class object, and `my_car` is an instance object created from the `Car` class. The `wheels` attribute is a class attribute that is shared among all instances of the class. The `start_engine` method is an instance method that operates on instance-level properties."
   ]
  },
  {
   "cell_type": "markdown",
   "id": "6357507c",
   "metadata": {},
   "source": [
    "#### Q4. What makes the first argument in a class’s method function special?"
   ]
  },
  {
   "cell_type": "markdown",
   "id": "30907b23",
   "metadata": {},
   "source": [
    "In Python, the first argument in a class's method function is typically named `self`, and it refers to the instance of the class that the method is being called on. This first argument is special because it allows the method to access the instance-level attributes and methods of the class.\n",
    "\n",
    "When a method is called on an instance of a class, the instance is automatically passed as the first argument to the method, which is why the first parameter in the method's definition is typically named `self`. This allows the method to access the instance's attributes and methods through the `self` parameter.\n",
    "\n",
    "For example, consider the following class:\n",
    "\n",
    "```python\n",
    "class Car:\n",
    "    def __init__(self, make, model, year):\n",
    "        self.make = make\n",
    "        self.model = model\n",
    "        self.year = year\n",
    "        \n",
    "    def start_engine(self):\n",
    "        print(f\"{self.make} {self.model} ({self.year}) engine started.\")\n",
    "```\n",
    "\n",
    "In this example, the `__init__` method is called when a new instance of the `Car` class is created, and it sets the `make`, `model`, and `year` attributes for the instance. The `start_engine` method is an instance method that operates on the instance's attributes through the `self` parameter.\n",
    "\n",
    "When `start_engine` is called on an instance of the `Car` class, such as:\n",
    "\n",
    "```python\n",
    "my_car = Car(\"Toyota\", \"Corolla\", 2022)\n",
    "my_car.start_engine()\n",
    "```\n",
    "\n",
    "The `self` parameter in the `start_engine` method refers to the `my_car` instance, and the method can access the instance's attributes to print the appropriate message.\n",
    "\n",
    "Overall, the first argument in a class's method function is special because it allows the method to access the instance-level attributes and methods of the class through the `self` parameter."
   ]
  },
  {
   "cell_type": "markdown",
   "id": "8d699d55",
   "metadata": {},
   "source": [
    "#### Q5. What is the purpose of the __init__ method?"
   ]
  },
  {
   "cell_type": "markdown",
   "id": "4c3a69f8",
   "metadata": {},
   "source": [
    "In Python, the `__init__` method is a special method that is called automatically when a new instance of a class is created. The purpose of the `__init__` method is to initialize the instance's attributes with default values or values passed in as arguments during instantiation.\n",
    "\n",
    "The `__init__` method is commonly used to define instance-level attributes that are unique to each instance of a class. By defining these attributes in the `__init__` method, you can ensure that they are properly initialized when a new instance is created.\n",
    "\n",
    "Here's an example that illustrates the use of the `__init__` method:\n",
    "\n",
    "```python\n",
    "class Car:\n",
    "    def __init__(self, make, model, year):\n",
    "        self.make = make\n",
    "        self.model = model\n",
    "        self.year = year\n",
    "        \n",
    "    def start_engine(self):\n",
    "        print(f\"{self.make} {self.model} ({self.year}) engine started.\")\n",
    "```\n",
    "\n",
    "In this example, the `Car` class has an `__init__` method that initializes the `make`, `model`, and `year` attributes for each new instance. When a new instance of the `Car` class is created, the `__init__` method is automatically called with the arguments passed during instantiation.\n",
    "\n",
    "For example, if you create a new instance of the `Car` class like this:\n",
    "\n",
    "```python\n",
    "my_car = Car(\"Toyota\", \"Corolla\", 2022)\n",
    "```\n",
    "\n",
    "The `__init__` method will be called with the arguments `\"Toyota\"`, `\"Corolla\"`, and `2022`, and the instance's attributes will be set accordingly.\n",
    "\n",
    "Overall, the `__init__` method is a fundamental part of object-oriented programming in Python, and it allows you to create objects with customized attribute values that can be used by the object's methods to perform various operations."
   ]
  },
  {
   "cell_type": "markdown",
   "id": "fbd5c9ec",
   "metadata": {},
   "source": [
    "#### Q6. What is the process for creating a class instance?"
   ]
  },
  {
   "cell_type": "markdown",
   "id": "fc4e92b6",
   "metadata": {},
   "source": [
    "In Python, creating an instance of a class involves the following steps:\n",
    "\n",
    "1. Define the class: First, you need to define the class with the `class` keyword, specifying its name and any attributes and methods that it will have.\n",
    "\n",
    "2. Instantiate the class: Once the class is defined, you can create an instance of the class by calling the class as if it were a function, passing any necessary arguments to its `__init__` method. This creates a new instance of the class with its own set of instance attributes.\n",
    "\n",
    "Here's an example that illustrates the process of creating a class instance:\n",
    "\n",
    "```python\n",
    "# Define a simple class\n",
    "class Person:\n",
    "    def __init__(self, name, age):\n",
    "        self.name = name\n",
    "        self.age = age\n",
    "\n",
    "    def greet(self):\n",
    "        print(f\"Hello, my name is {self.name} and I am {self.age} years old.\")\n",
    "\n",
    "# Create a new instance of the class\n",
    "person1 = Person(\"Alice\", 30)\n",
    "\n",
    "# Call a method on the instance\n",
    "person1.greet()\n",
    "```\n",
    "\n",
    "In this example, we define a `Person` class with an `__init__` method that initializes the instance's `name` and `age` attributes, and a `greet` method that prints a greeting message.\n",
    "\n",
    "To create a new instance of the `Person` class, we call the class like a function, passing in the necessary arguments `\"Alice\"` and `30`. This creates a new instance of the `Person` class with its own `name` and `age` attributes.\n",
    "\n",
    "Finally, we call the `greet` method on the `person1` instance to print a greeting message using the instance's `name` and `age` attributes.\n",
    "\n",
    "creating a class instance in Python involves defining the class and then instantiating it by calling the class as if it were a function with any necessary arguments passed to its `__init__` method."
   ]
  },
  {
   "cell_type": "markdown",
   "id": "d6c807b5",
   "metadata": {},
   "source": [
    "#### Q7. What is the process for creating a class?"
   ]
  },
  {
   "cell_type": "markdown",
   "id": "7f2eefde",
   "metadata": {},
   "source": [
    "In Python, creating a class involves the following steps:\n",
    "\n",
    "1. Use the `class` keyword: Start by using the `class` keyword, followed by the name of the class, to define a new class.\n",
    "\n",
    "2. Define the attributes: Inside the class definition, define the attributes that the class will have. These attributes can be instance-level attributes, which are unique to each instance of the class, or class-level attributes, which are shared by all instances of the class.\n",
    "\n",
    "3. Define the methods: Inside the class definition, define the methods that the class will have. These methods can be instance methods, which operate on the instance-level attributes of a specific instance, or class methods, which operate on the class-level attributes of the class itself.\n",
    "\n",
    "Here's an example that illustrates the process of creating a simple class in Python:\n",
    "\n",
    "```python\n",
    "# Define a simple class\n",
    "class Person:\n",
    "    species = \"Human\"  # class-level attribute\n",
    "\n",
    "    def __init__(self, name, age):\n",
    "        self.name = name  # instance-level attribute\n",
    "        self.age = age    # instance-level attribute\n",
    "\n",
    "    def greet(self):\n",
    "        print(f\"Hello, my name is {self.name} and I am {self.age} years old.\")\n",
    "```\n"
   ]
  },
  {
   "cell_type": "markdown",
   "id": "8f85cf5f",
   "metadata": {},
   "source": [
    "#### Q8. How would you define the superclasses of a class?"
   ]
  },
  {
   "cell_type": "markdown",
   "id": "af7cc30f",
   "metadata": {},
   "source": [
    "In Python, a superclass is a class from which another class inherits. When a class inherits from another class, it automatically gets all the attributes and methods of the superclass, in addition to any attributes and methods that it defines itself.\n",
    "\n",
    "To define the superclasses of a class, you need to specify the superclass or superclasses that the class will inherit from in the class definition. This is done by placing the name of the superclass in parentheses after the name of the subclass, like so:\n",
    "\n",
    "```python\n",
    "class SubclassName(SuperclassName):\n",
    "    pass\n",
    "```\n",
    "\n",
    "In this example, `SubclassName` is the name of the subclass, and `SuperclassName` is the name of the superclass that `SubclassName` is inheriting from. The `pass` keyword is used here to indicate that the class body is empty, but in practice, you would usually define attributes and methods within the class body.\n",
    "\n",
    "If you want to inherit from multiple superclasses, you can include them in a comma-separated list within the parentheses, like so:\n",
    "\n",
    "```python\n",
    "class SubclassName(SuperclassName1, SuperclassName2, ...):\n",
    "    pass\n",
    "```\n",
    "\n",
    "In this case, `SubclassName` would inherit from all of the listed superclasses, in the order they are listed. When a method or attribute is called on an instance of the subclass, Python will search for the method or attribute first in the subclass, then in the first superclass, then in the second superclass, and so on, until it finds a matching method or attribute or raises an AttributeError if none is found.\n",
    "\n"
   ]
  },
  {
   "cell_type": "code",
   "execution_count": null,
   "id": "46a2f239",
   "metadata": {},
   "outputs": [],
   "source": []
  }
 ],
 "metadata": {
  "kernelspec": {
   "display_name": "Python 3 (ipykernel)",
   "language": "python",
   "name": "python3"
  },
  "language_info": {
   "codemirror_mode": {
    "name": "ipython",
    "version": 3
   },
   "file_extension": ".py",
   "mimetype": "text/x-python",
   "name": "python",
   "nbconvert_exporter": "python",
   "pygments_lexer": "ipython3",
   "version": "3.9.7"
  }
 },
 "nbformat": 4,
 "nbformat_minor": 5
}
