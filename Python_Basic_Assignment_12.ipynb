{
 "cells": [
  {
   "cell_type": "markdown",
   "id": "5e4738a3",
   "metadata": {},
   "source": [
    "# Python_Basic_Assignment_12"
   ]
  },
  {
   "cell_type": "markdown",
   "id": "deb1a6af",
   "metadata": {},
   "source": [
    "#### 1. Question: In what modes should the `PdfFileReader()` and `PdfFileWriter()` File objects be opened?\n",
    "   Answer: The `PdfFileReader()` object should be opened in read-binary mode (\"rb\"), and the `PdfFileWriter()` object should be opened in write-binary mode (\"wb\").\n",
    "\n",
    "#### 2. Question: From a `PdfFileReader` object, how do you get a `Page` object for page 5?\n",
    "   Answer: You can use the `getPage()` method of the `PdfFileReader` object and pass the page index (starting from 0) as an argument. To get a `Page` object for page 5, you would use `pdf_reader.getPage(4)`.\n",
    "\n",
    "#### 3. Question: What `PdfFileReader` variable stores the number of pages in the PDF document?\n",
    "   Answer: The `numPages` variable of the `PdfFileReader` object stores the number of pages in the PDF document.\n",
    "\n",
    "#### 4. Question: If a `PdfFileReader` object’s PDF is encrypted with the password \"swordfish,\" what must you do before you can obtain `Page` objects from it?\n",
    "   Answer: Before obtaining `Page` objects from an encrypted `PdfFileReader` object, you need to decrypt it by calling the `decrypt(\"swordfish\")` method on the object and passing the correct password as an argument.\n",
    "\n",
    "#### 5. Question: What methods do you use to rotate a page?\n",
    "   Answer: To rotate a page in PyPDF2, you can use the `rotateClockwise()` or `rotateCounterClockwise()` methods of the `Page` object. These methods allow you to rotate the page by 90 degrees clockwise or counterclockwise, respectively.\n",
    "\n",
    "#### 6. Question: What is the difference between a `Run` object and a `Paragraph` object?\n",
    "   Answer: In the context of Word documents (using libraries like python-docx), a `Paragraph` object represents a paragraph of text, while a `Run` object represents a contiguous run of characters within a paragraph with the same formatting.\n",
    "\n",
    "#### 7. Question: How do you obtain a list of `Paragraph` objects for a `Document` object that’s stored in a variable named `doc`?\n",
    "   Answer: To obtain a list of `Paragraph` objects for a `Document` object in python-docx, you can access the `paragraphs` attribute of the `Document` object. So, you can use `doc.paragraphs` to get the list of `Paragraph` objects.\n",
    "\n",
    "#### 8. Question: What type of object has `bold`, `underline`, `italic`, `strike`, and `outline` variables?\n",
    "   Answer: The `Run` object in python-docx has the `bold`, `underline`, `italic`, `strike`, and `outline` variables. These variables represent the formatting properties for the run of characters.\n",
    "\n",
    "#### 9. Question: What is the difference between `False`, `True`, and `None` for the `bold` variable?\n",
    "   Answer: In the context of the `bold` variable of a `Run` object, `False` means the text is not bold, `True` means the text is bold, and `None` means the text's bold setting is inherited from its style hierarchy.\n",
    "\n",
    "#### 10. Question: How do you create a `Document` object for a new Word document?\n",
    "    Answer: To create a `Document` object for a new Word document using python-docx, you can simply call the `Document()` constructor without any arguments, like this: `doc = Document()`.\n",
    "\n",
    "#### 11. Question: How do you add a paragraph with the text 'Hello, there!' to a `Document` object stored in a variable named `doc`?\n",
    "    Answer: To add a paragraph with the text 'Hello, there!' to a `Document` object in python-docx, you can use the `add_paragraph()` method of the `Document` object, like this: `doc.add_paragraph('Hello, there!')`.\n",
    "\n",
    "#### 12. Question: What integers represent the levels of headings available in Word documents?\n",
    "    Answer: In Word documents, the heading levels are represented by integers ranging from 1 to 9. Heading 1 is represented by the integer 1, Heading 2 by 2, and so on, up to Heading 9."
   ]
  },
  {
   "cell_type": "code",
   "execution_count": null,
   "id": "8f1f189a",
   "metadata": {},
   "outputs": [],
   "source": []
  }
 ],
 "metadata": {
  "kernelspec": {
   "display_name": "Python 3 (ipykernel)",
   "language": "python",
   "name": "python3"
  },
  "language_info": {
   "codemirror_mode": {
    "name": "ipython",
    "version": 3
   },
   "file_extension": ".py",
   "mimetype": "text/x-python",
   "name": "python",
   "nbconvert_exporter": "python",
   "pygments_lexer": "ipython3",
   "version": "3.9.7"
  }
 },
 "nbformat": 4,
 "nbformat_minor": 5
}
