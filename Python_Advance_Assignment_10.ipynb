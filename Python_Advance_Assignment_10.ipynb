{
 "cells": [
  {
   "cell_type": "markdown",
   "id": "5718d00b",
   "metadata": {},
   "source": [
    "# Python Advance Assignment  - 10"
   ]
  },
  {
   "cell_type": "markdown",
   "id": "9701805e",
   "metadata": {},
   "source": [
    "#### Q1. What is the difference between  `__getattr__` and   `__getattr__`?"
   ]
  },
  {
   "cell_type": "markdown",
   "id": "6fa77c51",
   "metadata": {},
   "source": [
    "In Python, both `__getattr__` and `__getattribute__` are special methods that are used to intercept attribute access in objects. However, they are used in different ways:\n",
    "\n",
    "- `__getattr__` is only called when an attribute is not found via normal lookup, and it takes one argument: the name of the attribute being accessed. This method can be used to dynamically generate attributes or handle missing attributes.\n",
    "\n",
    "- `__getattribute__` is called every time an attribute is accessed, and it takes one argument: the name of the attribute being accessed. This method is more powerful and more dangerous than `__getattr__`, because it can potentially intercept all attribute access on an object, including access to built-in attributes like `__class__`.\n",
    "\n",
    "In general, it is recommended to use `__getattr__` only when you specifically want to handle missing attributes, and use `__getattribute__` only when you need to intercept all attribute access on an object."
   ]
  },
  {
   "cell_type": "markdown",
   "id": "515adfcf",
   "metadata": {},
   "source": [
    "#### Q2. What is the difference between properties and descriptors?"
   ]
  },
  {
   "cell_type": "markdown",
   "id": "6262e076",
   "metadata": {},
   "source": [
    "In Python, both properties and descriptors are ways to define computed attributes on an object, where the value of the attribute is not stored directly as an instance variable. The main difference between the two is in how they are implemented.\n",
    "\n",
    "A property is a way to define a computed attribute that looks like an ordinary attribute on the object, but is computed dynamically when it is accessed. It is defined using a combination of a getter method, a setter method, and an optional deleter method, all with the same name as the attribute. Properties are typically used to enforce some kind of constraint or consistency in the object's state, or to hide some internal implementation detail.\n",
    "\n",
    "A descriptor, on the other hand, is a more general mechanism for defining computed attributes that can be reused across multiple classes. A descriptor is an object that defines one or more of the special methods __get__, __set__, and __delete__, which are called when the descriptor is accessed through an instance or a class. Descriptors are typically used to implement more complex attribute behavior than can be achieved with simple properties, such as type checking or lazy evaluation.\n",
    "\n",
    "In summary, properties are a simple and convenient way to define computed attributes on a single object, while descriptors are a more powerful and reusable mechanism for defining computed attributes that can be shared across multiple classes."
   ]
  },
  {
   "cell_type": "markdown",
   "id": "d10962fc",
   "metadata": {},
   "source": [
    "#### Q3. What are the key differences in functionality between `__getattr__`  and `__getattribute__` , as well as properties and descriptors?"
   ]
  },
  {
   "cell_type": "markdown",
   "id": "6350f38b",
   "metadata": {},
   "source": [
    "Both `__getattr__` and `__getattribute__` methods are called when an attribute is accessed in an object, but the difference between them is that `__getattr__` is only called if the attribute is not found through the usual ways, whereas `__getattribute__` is always called first, even if the attribute exists.\n",
    "\n",
    "Properties and descriptors are both used to define special behavior when accessing an attribute of an object, but the key difference between them is that properties are defined at the class level and apply to all instances of the class, while descriptors are defined at the instance level and can be used to customize the behavior of individual attributes.\n",
    "\n",
    "The functionality of `__getattr__` and `__getattribute__` is more general and can be used to define any custom behavior when accessing an attribute, while properties and descriptors are more specific and are used to define special behavior related to specific attributes."
   ]
  },
  {
   "cell_type": "code",
   "execution_count": null,
   "id": "dddce8f1",
   "metadata": {},
   "outputs": [],
   "source": []
  }
 ],
 "metadata": {
  "kernelspec": {
   "display_name": "Python 3 (ipykernel)",
   "language": "python",
   "name": "python3"
  },
  "language_info": {
   "codemirror_mode": {
    "name": "ipython",
    "version": 3
   },
   "file_extension": ".py",
   "mimetype": "text/x-python",
   "name": "python",
   "nbconvert_exporter": "python",
   "pygments_lexer": "ipython3",
   "version": "3.9.7"
  }
 },
 "nbformat": 4,
 "nbformat_minor": 5
}
