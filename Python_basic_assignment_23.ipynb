{
 "cells": [
  {
   "cell_type": "markdown",
   "id": "822c616d",
   "metadata": {},
   "source": [
    "# Python Basic Assignment-23"
   ]
  },
  {
   "cell_type": "markdown",
   "id": "3f469354",
   "metadata": {},
   "source": [
    "#### 1. What is the result of the code, and why?\n",
    "\n",
    "def func(a, b=6, c=8):\n",
    "\n",
    "    print(a, b, c)\n",
    "\n",
    "func(1, 2)"
   ]
  },
  {
   "cell_type": "markdown",
   "id": "8b97ed57",
   "metadata": {},
   "source": [
    "The output of the code will be: 1 2 8.\n",
    "\n",
    "In this code, a function `func` is defined with three parameters `a`, `b` and `c`. Here, the parameter `b` and `c` have default values of `6` and `8`, respectively. When the function is called with arguments `1` and `2` for `a` and `b` respectively, the value `8` is used for parameter `c` since no argument is passed for it. Therefore, the output of the function call will be `1 2 8`.The output of the code will be: 1 2 8.\n",
    "\n"
   ]
  },
  {
   "cell_type": "markdown",
   "id": "834dff4b",
   "metadata": {},
   "source": [
    "#### 2. What is the result of this code, and why?\n",
    "def func(a, b, c=5):\n",
    "\n",
    "    print(a, b, c)\n",
    "\n",
    "func(1, c=3, b=2)"
   ]
  },
  {
   "cell_type": "markdown",
   "id": "1ceb8897",
   "metadata": {},
   "source": [
    "The output of this code will be `1 2 3`. \n",
    "\n",
    "In the function call `func(1, c=3, b=2)`, the value 1 is assigned to the first parameter `a`, the value 2 is assigned to the second parameter `b`, and the value 3 is assigned to the third parameter `c`. \n",
    "\n",
    "Since the function call specifies the value of `c` as 3, this value is used instead of the default value of 5. The output shows the values of `a`, `b`, and `c` in that order, separated by spaces."
   ]
  },
  {
   "cell_type": "markdown",
   "id": "c4642d8d",
   "metadata": {},
   "source": [
    "#### 3. How about this code: what is its result, and why?\n",
    "\n",
    "def func(a, *pargs):\n",
    "\n",
    "    print(a, pargs)\n",
    "\n",
    "func(1, 2, 3)"
   ]
  },
  {
   "cell_type": "markdown",
   "id": "f064a336",
   "metadata": {},
   "source": [
    "The output of the code will be:\n",
    "\n",
    "```\n",
    "1 (2, 3)\n",
    "```\n",
    "\n",
    "In this code, the function `func` has a positional argument `a` and a tuple parameter `*pargs` which allows it to accept a variable number of positional arguments. When the function is called with `func(1, 2, 3)`, the value of `a` is assigned `1`, and the remaining arguments `2` and `3` are collected into a tuple assigned to `pargs`. Therefore, the output is `1 (2, 3)`."
   ]
  },
  {
   "cell_type": "markdown",
   "id": "e28b93fc",
   "metadata": {},
   "source": [
    "#### 4. What does this code print, and why?\n",
    "def func(a, **kargs):\n",
    "\n",
    "    print(a, kargs)\n",
    "\n",
    "func(a=1, c=3, b=2)"
   ]
  },
  {
   "cell_type": "markdown",
   "id": "5624d26e",
   "metadata": {},
   "source": [
    "The code will print:\n",
    "\n",
    "```\n",
    "1 {'c': 3, 'b': 2}\n",
    "```\n",
    "\n",
    "This is because the function `func` takes one required argument `a`, and any number of keyword arguments `**kargs`, which are collected into a dictionary. When the function is called with `a=1, c=3, b=2`, the value of `a` is set to 1, and the remaining arguments are collected into the `kargs` dictionary with keys `'c'` and `'b'` and values 3 and 2 respectively. The `print` statement then outputs the value of `a` and the `kargs` dictionary."
   ]
  },
  {
   "cell_type": "markdown",
   "id": "d43abf8c",
   "metadata": {},
   "source": [
    "#### 5. What gets printed by this, and explain?\n",
    "\n",
    "def func(a, b, c=8, d=5): \n",
    "\n",
    "    print(a, b, c, d)\n",
    "\n",
    "func(1, *(5, 6))"
   ]
  },
  {
   "cell_type": "markdown",
   "id": "30e521db",
   "metadata": {},
   "source": [
    "The output of the code is:\n",
    "\n",
    "```\n",
    "1 5 6 5\n",
    "```\n",
    "\n",
    "The function `func()` is defined with four parameters, where `c` and `d` have default values of 8 and 5 respectively. In the function call `func(1, *(5, 6))`, the values 5 and 6 are passed as arguments to the function as `b` and `c`, respectively, while `a` gets the value of 1, and `d` takes its default value of 5. Therefore, when the function is called, the output is `1 5 6 5`."
   ]
  },
  {
   "cell_type": "markdown",
   "id": "78c7b910",
   "metadata": {},
   "source": [
    "#### 6. what is the result of this, and explain?\n",
    "def func(a, b, c): a = 2; b[0] = 'x'; c['a'] = 'y';\n",
    "    l=1; m=[1]; n={'a':0}\n",
    "\n",
    "func(l, m, n)\n",
    "\n",
    "l, m, n"
   ]
  },
  {
   "cell_type": "markdown",
   "id": "be30d476",
   "metadata": {},
   "source": [
    "The given code defines a function `func` that takes three arguments `a`, `b`, and `c`. Inside the function, the value of `a` is reassigned to `2`, the first element of `b` is reassigned to `'x'`, and the value associated with the key `'a'` in the dictionary `c` is reassigned to `'y'`. Then, three variables `l`, `m`, and `n` are defined with initial values `1`, `[1]`, and `{'a': 0}` respectively.\n",
    "\n",
    "When the function is called with arguments `l`, `m`, and `n`, the values of `l` and `n` remain the same as before the function call because they are immutable (an integer and a dictionary, respectively). However, the value of `m` is changed to `['x']` because it is a mutable list and its first element is modified inside the function. \n",
    "\n",
    "Finally, when the values of `l`, `m`, and `n` are printed outside the function, the output will be:\n",
    "\n",
    "```\n",
    "1, ['x'], {'a': 'y'}\n",
    "```\n",
    "because of the changes made inside the function."
   ]
  }
 ],
 "metadata": {
  "kernelspec": {
   "display_name": "Python 3 (ipykernel)",
   "language": "python",
   "name": "python3"
  },
  "language_info": {
   "codemirror_mode": {
    "name": "ipython",
    "version": 3
   },
   "file_extension": ".py",
   "mimetype": "text/x-python",
   "name": "python",
   "nbconvert_exporter": "python",
   "pygments_lexer": "ipython3",
   "version": "3.9.7"
  }
 },
 "nbformat": 4,
 "nbformat_minor": 5
}
