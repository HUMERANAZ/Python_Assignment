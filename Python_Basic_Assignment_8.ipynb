{
 "cells": [
  {
   "cell_type": "markdown",
   "id": "3a117a51",
   "metadata": {},
   "source": [
    "# Python_Basic_Assignment_8"
   ]
  },
  {
   "cell_type": "markdown",
   "id": "8c6c0596",
   "metadata": {},
   "source": [
    "#### 1. Is the Python Standard Library included with PyInputPlus?\n",
    "\n",
    "No, the Python Standard Library is not included with PyInputPlus. The Python Standard Library is a collection of modules and packages that are distributed with Python itself. PyInputPlus is a separate third-party library that provides additional functionality for taking input from the user.\n",
    "\n",
    "\n",
    "\n",
    "#### 2. Why is PyInputPlus commonly imported with import pyinputplus as pypi?\n",
    "\n",
    "PyInputPlus is commonly imported with the alias `pypi` using the statement `import pyinputplus as pypi` to provide a shorter and more convenient name to refer to the library in the code. This alias allows developers to use `pypi` as a shorthand when calling functions or accessing features from PyInputPlus.\n",
    "\n",
    "\n",
    "\n",
    "#### 3. How do you distinguish between inputInt() and inputFloat()?\n",
    "\n",
    "The `inputInt()` and `inputFloat()` functions in PyInputPlus are used to take integer and float input from the user, respectively. The main distinction between them is the type of value they return. \n",
    "\n",
    "- `inputInt()` expects the user to enter an integer value. If the user enters a non-integer value, it will keep prompting until a valid integer is provided. It returns the integer value.\n",
    "- `inputFloat()` expects the user to enter a floating-point value. It also performs validation, ensuring that the user enters a valid float. It returns the floating-point value.\n",
    "\n",
    "\n",
    "\n",
    "#### 4. Using PyInputPlus, how do you ensure that the user enters a whole number between 0 and 99?\n",
    "\n",
    "To ensure that the user enters a whole number between 0 and 99 using PyInputPlus, you can use the `inputInt()` function along with the `min` and `max` keyword arguments.\n",
    "\n",
    "Example:\n",
    "```python\n",
    "import pyinputplus as pypi\n",
    "\n",
    "number = pypi.inputInt(prompt='Enter a number: ', min=0, max=99)\n",
    "```\n",
    "\n",
    "In the above code, the `inputInt()` function prompts the user to enter a number between 0 and 99. If the user enters a value outside this range or a non-integer value, it will keep reprompting until a valid input is provided.\n",
    "\n",
    "\n",
    "\n",
    "\n",
    "#### 5. What is transferred to the keyword arguments allowRegexes and blockRegexes?\n",
    "\n",
    "The `allowRegexes` and `blockRegexes` keyword arguments in PyInputPlus are used to specify regular expressions that allow or block certain patterns of input from the user.\n",
    "\n",
    "- `allowRegexes` takes a list of regular expression patterns as strings. If any of the patterns match the user's input, it is considered valid.\n",
    "- `blockRegexes` also takes a list of regular expression patterns. If any of the patterns match the user's input, it is considered invalid.\n",
    "\n",
    "By providing regular expressions to these keyword arguments, you can restrict or permit specific input patterns based on your requirements.\n",
    "\n",
    "\n",
    "\n",
    "\n",
    "#### 6. If a blank input is entered three times, what does inputStr(limit=3) do?\n",
    "\n",
    "If a blank input is entered three times with `inputStr(limit=3)`, PyInputPlus will raise a `ValidationException`. The `limit` parameter specifies the maximum number of attempts the user has to enter valid input. If the user exceeds the limit without providing valid input, a `ValidationException` is raised.\n",
    "\n",
    "\n",
    "\n",
    "\n",
    "\n",
    "#### 7. If blank input is entered three times, what does inputStr(limit=3, default='hello') do?\n",
    "\n",
    "\n",
    "If a blank input is entered three times with `inputStr(limit=3, default='hello')`, PyInputPlus will return the default value `'hello'`. The `default` parameter specifies the value to return if the user exceeds the limit without providing valid input. In this case, if the user enters a blank input three times, the function will return the specified default value `'hello'` instead of raising an exception."
   ]
  },
  {
   "cell_type": "code",
   "execution_count": null,
   "id": "bc872140",
   "metadata": {},
   "outputs": [],
   "source": []
  }
 ],
 "metadata": {
  "kernelspec": {
   "display_name": "Python 3 (ipykernel)",
   "language": "python",
   "name": "python3"
  },
  "language_info": {
   "codemirror_mode": {
    "name": "ipython",
    "version": 3
   },
   "file_extension": ".py",
   "mimetype": "text/x-python",
   "name": "python",
   "nbconvert_exporter": "python",
   "pygments_lexer": "ipython3",
   "version": "3.9.7"
  }
 },
 "nbformat": 4,
 "nbformat_minor": 5
}
