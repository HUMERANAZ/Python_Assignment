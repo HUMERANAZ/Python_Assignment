{
 "cells": [
  {
   "cell_type": "markdown",
   "id": "c99181e9",
   "metadata": {},
   "source": [
    "# Python Basic Programming Assignment 1"
   ]
  },
  {
   "cell_type": "code",
   "execution_count": 1,
   "id": "78f61c90",
   "metadata": {},
   "outputs": [
    {
     "name": "stdout",
     "output_type": "stream",
     "text": [
      "Hello Python\n"
     ]
    }
   ],
   "source": [
    "#Q1 Program to print Hello Python\n",
    "\n",
    "print('Hello Python')"
   ]
  },
  {
   "cell_type": "code",
   "execution_count": 2,
   "id": "136d1e0e",
   "metadata": {},
   "outputs": [
    {
     "name": "stdout",
     "output_type": "stream",
     "text": [
      "enter first number-20\n",
      "enter second number-5\n",
      "sum of two numbers is-  25\n",
      "Quotient after division of two number is-  4.0\n"
     ]
    }
   ],
   "source": [
    "#Q2 Write a Python program to do arithmetical operations addition and division.?\n",
    "\n",
    "a=int(input('enter first number-'))\n",
    "b=int(input('enter second number-'))\n",
    "Add=a+b\n",
    "Q=a/b\n",
    "print('sum of two numbers is- ',Add)\n",
    "print('Quotient after division of two number is- ', Q)"
   ]
  },
  {
   "cell_type": "code",
   "execution_count": 4,
   "id": "f07c51d4",
   "metadata": {},
   "outputs": [
    {
     "name": "stdout",
     "output_type": "stream",
     "text": [
      "enter height of triangle- 15.40\n",
      "enter base of triangle- 8.0\n",
      "Area of triangle is-  61.6\n"
     ]
    }
   ],
   "source": [
    "#Q3 Write a Python program to find the area of a triangle?\n",
    "\n",
    "h=float(input('enter height of triangle- '))\n",
    "b=float(input('enter base of triangle- '))\n",
    "Area=0.5*b*h\n",
    "print('Area of triangle is- ',Area)"
   ]
  },
  {
   "cell_type": "code",
   "execution_count": 5,
   "id": "dd478274",
   "metadata": {},
   "outputs": [
    {
     "name": "stdout",
     "output_type": "stream",
     "text": [
      "enter first no.- 8\n",
      "enter second no.- 9\n",
      "numbers after swapping 9   8\n"
     ]
    }
   ],
   "source": [
    "#Q4 Write a Python program to swap two variables?\n",
    "\n",
    "first_num=int(input('enter first no.- '))\n",
    "second_num=int(input('enter second no.- '))\n",
    "temp=first_num\n",
    "first_num=second_num\n",
    "second_num=temp\n",
    "print('numbers after swapping',first_num,' ',second_num)"
   ]
  },
  {
   "cell_type": "code",
   "execution_count": 12,
   "id": "b665fc32",
   "metadata": {},
   "outputs": [
    {
     "name": "stdout",
     "output_type": "stream",
     "text": [
      "0.05999687369719853\n"
     ]
    }
   ],
   "source": [
    "#Q5 Write a Python program to generate a random number?\n",
    "\n",
    "import random\n",
    "n=random.random()\n",
    "print(n)"
   ]
  }
 ],
 "metadata": {
  "kernelspec": {
   "display_name": "Python 3 (ipykernel)",
   "language": "python",
   "name": "python3"
  },
  "language_info": {
   "codemirror_mode": {
    "name": "ipython",
    "version": 3
   },
   "file_extension": ".py",
   "mimetype": "text/x-python",
   "name": "python",
   "nbconvert_exporter": "python",
   "pygments_lexer": "ipython3",
   "version": "3.9.7"
  }
 },
 "nbformat": 4,
 "nbformat_minor": 5
}
