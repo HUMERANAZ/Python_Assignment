{
 "cells": [
  {
   "cell_type": "markdown",
   "id": "43b5f48e",
   "metadata": {},
   "source": [
    "# Python Advance Assignment - 3"
   ]
  },
  {
   "cell_type": "markdown",
   "id": "84fb7a08",
   "metadata": {},
   "source": [
    "#### 1. What is the concept of an abstract superclass?"
   ]
  },
  {
   "cell_type": "markdown",
   "id": "4c9c7456",
   "metadata": {},
   "source": [
    "An abstract superclass is a class that is designed to be subclassed, but not instantiated directly. It serves as a template or blueprint for other classes, defining a common set of methods and properties that are shared by its subclasses.\n",
    "\n",
    "The purpose of an abstract superclass is to provide a common interface and behavior for a group of related classes. By defining a set of methods and properties that are required for all subclasses, it can ensure that all subclasses behave consistently and can be used interchangeably.\n",
    "\n",
    "In Python, an abstract superclass can be defined using the `abc` module, which provides a set of tools for defining and working with abstract classes. An abstract class is defined using the `ABC` class as a base class, and at least one abstract method must be defined using the `@abstractmethod` decorator. Any subclass of the abstract class must implement all the abstract methods defined in the superclass, or it will itself become an abstract class.\n",
    "\n",
    "Here is an example of an abstract superclass in Python:\n",
    "\n",
    "```python\n",
    "import abc\n",
    "\n",
    "class Animal(metaclass=abc.ABCMeta):\n",
    "    @abc.abstractmethod\n",
    "    def speak(self):\n",
    "        pass\n",
    "\n",
    "class Dog(Animal):\n",
    "    def speak(self):\n",
    "        return \"Woof!\"\n",
    "\n",
    "class Cat(Animal):\n",
    "    def speak(self):\n",
    "        return \"Meow!\"\n",
    "\n",
    "class Duck(Animal):\n",
    "    pass\n",
    "```\n",
    "\n",
    "In this example, the `Animal` class is an abstract superclass that defines a required `speak` method. The `Dog` and `Cat` classes are subclasses of `Animal` that implement the `speak` method, while the `Duck` class is a subclass of `Animal` that does not implement the `speak` method and is therefore also an abstract class."
   ]
  },
  {
   "cell_type": "markdown",
   "id": "511a926d",
   "metadata": {},
   "source": [
    "#### 2. What happens when a class statement&#39;s top level contains a basic assignment statement?"
   ]
  },
  {
   "cell_type": "markdown",
   "id": "bf3f2642",
   "metadata": {},
   "source": [
    "When a class statement's top level contains a basic assignment statement, the assignment creates a class-level attribute, which is shared by all instances of the class. This means that the attribute can be accessed and modified by any instance of the class, and changes to the attribute made by one instance will be visible to all other instances.\n",
    "\n",
    "Here is an example of a class with a class-level attribute:\n",
    "\n",
    "```python\n",
    "class Person:\n",
    "    species = \"Homo sapiens\"\n",
    "    \n",
    "    def __init__(self, name, age):\n",
    "        self.name = name\n",
    "        self.age = age\n",
    "```\n",
    "\n",
    "In this example, the `species` attribute is a class-level attribute, because it is defined at the top level of the class statement, outside of any method definitions. This attribute is shared by all instances of the `Person` class, and can be accessed using either the class name or an instance of the class:\n",
    "\n",
    "```python\n",
    "print(Person.species)  # Output: Homo sapiens\n",
    "\n",
    "person1 = Person(\"Alice\", 30)\n",
    "print(person1.species)  # Output: Homo sapiens\n",
    "\n",
    "person2 = Person(\"Bob\", 25)\n",
    "print(person2.species)  # Output: Homo sapiens\n",
    "\n",
    "Person.species = \"Homo erectus\"\n",
    "print(person1.species)  # Output: Homo erectus\n",
    "print(person2.species)  # Output: Homo erectus\n",
    "```\n",
    "\n",
    "In this example, we first print the value of the `species` attribute using the class name `Person`. We then create two instances of the `Person` class, and print the value of the `species` attribute for each instance. Finally, we modify the `species` attribute using the class name, and print the value of the attribute for each instance again. We can see that the modification of the attribute made using the class name is visible to all instances of the class."
   ]
  },
  {
   "cell_type": "markdown",
   "id": "743ae1e1",
   "metadata": {},
   "source": [
    "#### 3. Why does a class need to manually call a superclass&#39;s __init__ method?\n"
   ]
  },
  {
   "cell_type": "markdown",
   "id": "04b9f81b",
   "metadata": {},
   "source": [
    "A class needs to manually call a superclass's `__init__` method to properly initialize the superclass's state and behavior in addition to its own.\n",
    "\n",
    "When a class is defined, it may inherit from one or more superclass(es), which are specified in the parentheses after the class name. These superclasses define a set of methods and properties that are shared by the subclass. However, when an instance of the subclass is created, the superclass's `__init__` method is not automatically called.\n",
    "\n",
    "If the subclass overrides the superclass's `__init__` method without calling it explicitly, the superclass's state and behavior may not be properly initialized, which can lead to unexpected behavior or errors.\n",
    "\n",
    "To ensure that the superclass's `__init__` method is called properly, the subclass must explicitly call it in its own `__init__` method using the `super()` function. This allows the superclass's `__init__` method to run before the subclass's own initialization code, ensuring that the superclass's state and behavior is properly initialized.\n",
    "\n",
    "Here is an example of a subclass calling its superclass's `__init__` method:\n",
    "\n",
    "```python\n",
    "class Animal:\n",
    "    def __init__(self, name):\n",
    "        self.name = name\n",
    "        \n",
    "class Dog(Animal):\n",
    "    def __init__(self, name, breed):\n",
    "        super().__init__(name)\n",
    "        self.breed = breed\n",
    "```\n",
    "\n",
    "In this example, the `Animal` class defines an `__init__` method that takes a `name` parameter and assigns it to the `self.name` attribute. The `Dog` class is a subclass of `Animal` that defines its own `__init__` method that takes a `name` parameter and a `breed` parameter. In the `Dog` class's `__init__` method, we call the superclass's `__init__` method using `super().__init__(name)`, passing in the `name` parameter to properly initialize the `Animal` superclass's state. We then assign the `breed` parameter to the `self.breed` attribute.\n",
    "\n",
    "By calling the superclass's `__init__` method in this way, we ensure that the `Animal` superclass's state is properly initialized before we add our own `Dog`-specific state.\n"
   ]
  },
  {
   "cell_type": "markdown",
   "id": "d80c1cc5",
   "metadata": {},
   "source": [
    "#### 4. How can you augment, instead of completely replacing, an inherited method?\n"
   ]
  },
  {
   "cell_type": "markdown",
   "id": "903b8beb",
   "metadata": {},
   "source": [
    "You can augment, or extend, an inherited method instead of completely replacing it by calling the superclass's version of the method and then adding your own functionality to it.\n",
    "\n",
    "In Python, you can call a method defined in a superclass by using the `super()` function, which returns a temporary object of the superclass that allows you to call its methods. By calling the superclass's version of the method, you can perform any functionality that the superclass provides, and then add your own functionality to it.\n",
    "\n",
    "Here is an example of how to augment an inherited method:\n",
    "\n",
    "```python\n",
    "class Animal:\n",
    "    def make_sound(self):\n",
    "        print(\"The animal makes a sound.\")\n",
    "\n",
    "class Cat(Animal):\n",
    "    def make_sound(self):\n",
    "        super().make_sound()\n",
    "        print(\"The cat meows.\")\n",
    "\n",
    "cat = Cat()\n",
    "cat.make_sound()  # Output: The animal makes a sound. The cat meows.\n",
    "```\n",
    "\n",
    "In this example, the `Animal` class defines a `make_sound` method that prints a generic message. The `Cat` class is a subclass of `Animal` that overrides the `make_sound` method with its own implementation. However, instead of completely replacing the `Animal` class's implementation, the `Cat` class first calls the superclass's version of the method using `super().make_sound()`, which prints the generic message, and then adds its own message to it.\n",
    "\n",
    "By using the `super()` function to call the superclass's version of the method, you can extend the functionality of an inherited method without completely replacing it."
   ]
  },
  {
   "cell_type": "markdown",
   "id": "9265fef0",
   "metadata": {},
   "source": [
    "#### 5. How is the local scope of a class different from that of a function?"
   ]
  },
  {
   "cell_type": "markdown",
   "id": "d3e5618d",
   "metadata": {},
   "source": [
    "The local scope of a class is different from that of a function in several ways:\n",
    "\n",
    "1. Class scope is created at the time of class definition, while function scope is created at the time of function invocation. This means that the class scope is persistent throughout the lifetime of the program, while the function scope is created and destroyed each time the function is called.\n",
    "\n",
    "2. In a class, variables defined in the class body, but outside of any method, are class variables and are shared by all instances of the class. In contrast, variables defined within a function are local variables and are only accessible within the function's scope.\n",
    "\n",
    "3. In a class, methods defined within the class body have access to all variables defined within the class body, including class variables and other methods. This is because methods are part of the class and are created when the class is defined. In contrast, functions defined within a function only have access to variables defined within the local scope of that function.\n",
    "\n",
    "4. Class scope is hierarchical, meaning that subclasses inherit the variables and methods of their superclass. In contrast, function scope is not hierarchical, and local variables defined within a function are not accessible outside of that function's scope.\n",
    "\n",
    "Overall, the local scope of a class is broader and more persistent than that of a function, and it includes access to class variables and methods."
   ]
  },
  {
   "cell_type": "code",
   "execution_count": null,
   "id": "41a19071",
   "metadata": {},
   "outputs": [],
   "source": []
  }
 ],
 "metadata": {
  "kernelspec": {
   "display_name": "Python 3 (ipykernel)",
   "language": "python",
   "name": "python3"
  },
  "language_info": {
   "codemirror_mode": {
    "name": "ipython",
    "version": 3
   },
   "file_extension": ".py",
   "mimetype": "text/x-python",
   "name": "python",
   "nbconvert_exporter": "python",
   "pygments_lexer": "ipython3",
   "version": "3.9.7"
  }
 },
 "nbformat": 4,
 "nbformat_minor": 5
}
