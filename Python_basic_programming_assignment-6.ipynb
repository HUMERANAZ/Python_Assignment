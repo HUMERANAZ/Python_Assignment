{
 "cells": [
  {
   "cell_type": "markdown",
   "id": "8fc2ea68",
   "metadata": {},
   "source": [
    "# Python Basic Programming Assignment-6"
   ]
  },
  {
   "cell_type": "code",
   "execution_count": 6,
   "id": "996d93da",
   "metadata": {},
   "outputs": [
    {
     "name": "stdout",
     "output_type": "stream",
     "text": [
      "enter terms you want print- 5\n",
      "0\n",
      "1\n",
      "1\n",
      "2\n",
      "3\n"
     ]
    }
   ],
   "source": [
    "#Q1 Write a Python Program to Display Fibonacci Sequence Using Recursion?\n",
    "\n",
    "def fib_recursion(n):\n",
    "    \n",
    "    if n==1:\n",
    "        return 0\n",
    "    elif n==2:\n",
    "        return 1\n",
    "    else:\n",
    "        return fib_recursion(n-1)+fib_recursion(n-2)\n",
    "    \n",
    "num=int(input(\"enter terms you want print- \"))\n",
    "\n",
    "for i in range(1,num+1):\n",
    "    print(fib_recursion(i))\n",
    "    \n"
   ]
  },
  {
   "cell_type": "code",
   "execution_count": 14,
   "id": "8bcfabfc",
   "metadata": {},
   "outputs": [
    {
     "name": "stdout",
     "output_type": "stream",
     "text": [
      "Enter number -  7\n",
      "5040\n"
     ]
    }
   ],
   "source": [
    "#Q2 Write a Python Program to Find Factorial of Number Using Recursion?\n",
    "\n",
    "def fac_rec(n):\n",
    "    if n==1:\n",
    "        return 1\n",
    "    else:\n",
    "        return n*fac_rec(n-1)\n",
    "    \n",
    "\n",
    "num=int(input(\"Enter number -  \"))\n",
    "print(fac_rec(num))\n"
   ]
  },
  {
   "cell_type": "code",
   "execution_count": 2,
   "id": "6ee36b49",
   "metadata": {},
   "outputs": [
    {
     "name": "stdout",
     "output_type": "stream",
     "text": [
      "Enter weight in kilograms- 56\n",
      "Enter your height in cm-152\n",
      "24.238227146814403\n"
     ]
    }
   ],
   "source": [
    "#Q3 Write a Python Program to calculate your Body Mass Index?\n",
    "\n",
    "def BMI(weight, height):\n",
    "    return weight/(height/100)**2\n",
    "\n",
    "w=float(input(\"Enter weight in kilograms- \"))\n",
    "h=float(input(\"Enter your height in cm-\"))\n",
    "print(BMI(w,h))"
   ]
  },
  {
   "cell_type": "code",
   "execution_count": 5,
   "id": "d4c2b0fb",
   "metadata": {},
   "outputs": [
    {
     "name": "stdout",
     "output_type": "stream",
     "text": [
      "Enter a number for which you want to print log value- 2\n",
      "0.6931471805599453\n"
     ]
    }
   ],
   "source": [
    "#Q4 Write a Python Program to calculate the natural logarithm of any number?\n",
    "\n",
    "import math\n",
    "\n",
    "x=float(input(\"Enter a number for which you want to print log value- \"))\n",
    "\n",
    "print(math.log(x))"
   ]
  },
  {
   "cell_type": "code",
   "execution_count": 9,
   "id": "f4784bd2",
   "metadata": {},
   "outputs": [
    {
     "name": "stdout",
     "output_type": "stream",
     "text": [
      "Enter limit-5\n",
      "the sum is- 225\n"
     ]
    }
   ],
   "source": [
    "#Q5 Write a Python Program for cube sum of first n natural numbers?\n",
    "\n",
    "def sumOfseries(n):\n",
    "    sum=0\n",
    "    \n",
    "    for i in range(1,n+1):\n",
    "        sum+=i**3\n",
    "    return sum\n",
    "\n",
    "n=int(input(\"Enter limit-\"))\n",
    "print(\"the sum is-\",sumOfseries(n))"
   ]
  }
 ],
 "metadata": {
  "kernelspec": {
   "display_name": "Python 3 (ipykernel)",
   "language": "python",
   "name": "python3"
  },
  "language_info": {
   "codemirror_mode": {
    "name": "ipython",
    "version": 3
   },
   "file_extension": ".py",
   "mimetype": "text/x-python",
   "name": "python",
   "nbconvert_exporter": "python",
   "pygments_lexer": "ipython3",
   "version": "3.9.7"
  }
 },
 "nbformat": 4,
 "nbformat_minor": 5
}
