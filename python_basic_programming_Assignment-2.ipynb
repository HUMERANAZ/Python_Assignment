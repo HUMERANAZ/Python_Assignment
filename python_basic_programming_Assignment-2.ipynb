{
 "cells": [
  {
   "cell_type": "markdown",
   "id": "371aa6f0",
   "metadata": {},
   "source": [
    "# Python Basic Programming Assignment 2"
   ]
  },
  {
   "cell_type": "code",
   "execution_count": null,
   "id": "41ba64fd",
   "metadata": {},
   "outputs": [],
   "source": [
    "#Q1 Write a Python program to convert kilometers to miles?\n",
    "\n",
    "km=float(input('enter value of kilometers- '))\n",
    "miles= km*(0.621371)\n",
    "print('{}km is equals to {} miles'.format(km,miles))"
   ]
  },
  {
   "cell_type": "code",
   "execution_count": null,
   "id": "c8af951a",
   "metadata": {},
   "outputs": [],
   "source": [
    "#Q2 Write a Python program to convert Celsius to Fahrenheit?\n",
    "\n",
    "C=float(input('enter temperature in celcius-'))\n",
    "F=(9/5)*C+32\n",
    "\n",
    "print('{} degree celcius = {} degree Fahrenheit'.format(C,F))"
   ]
  },
  {
   "cell_type": "code",
   "execution_count": 4,
   "id": "fc679566",
   "metadata": {},
   "outputs": [
    {
     "name": "stdout",
     "output_type": "stream",
     "text": [
      "enter year2018\n",
      "enter month09\n",
      "calendar for year                                    2018\n",
      "\n",
      "      January                   February                   March\n",
      "Mo Tu We Th Fr Sa Su      Mo Tu We Th Fr Sa Su      Mo Tu We Th Fr Sa Su\n",
      " 1  2  3  4  5  6  7                1  2  3  4                1  2  3  4\n",
      " 8  9 10 11 12 13 14       5  6  7  8  9 10 11       5  6  7  8  9 10 11\n",
      "15 16 17 18 19 20 21      12 13 14 15 16 17 18      12 13 14 15 16 17 18\n",
      "22 23 24 25 26 27 28      19 20 21 22 23 24 25      19 20 21 22 23 24 25\n",
      "29 30 31                  26 27 28                  26 27 28 29 30 31\n",
      "\n",
      "       April                      May                       June\n",
      "Mo Tu We Th Fr Sa Su      Mo Tu We Th Fr Sa Su      Mo Tu We Th Fr Sa Su\n",
      "                   1          1  2  3  4  5  6                   1  2  3\n",
      " 2  3  4  5  6  7  8       7  8  9 10 11 12 13       4  5  6  7  8  9 10\n",
      " 9 10 11 12 13 14 15      14 15 16 17 18 19 20      11 12 13 14 15 16 17\n",
      "16 17 18 19 20 21 22      21 22 23 24 25 26 27      18 19 20 21 22 23 24\n",
      "23 24 25 26 27 28 29      28 29 30 31               25 26 27 28 29 30\n",
      "30\n",
      "\n",
      "        July                     August                  September\n",
      "Mo Tu We Th Fr Sa Su      Mo Tu We Th Fr Sa Su      Mo Tu We Th Fr Sa Su\n",
      "                   1             1  2  3  4  5                      1  2\n",
      " 2  3  4  5  6  7  8       6  7  8  9 10 11 12       3  4  5  6  7  8  9\n",
      " 9 10 11 12 13 14 15      13 14 15 16 17 18 19      10 11 12 13 14 15 16\n",
      "16 17 18 19 20 21 22      20 21 22 23 24 25 26      17 18 19 20 21 22 23\n",
      "23 24 25 26 27 28 29      27 28 29 30 31            24 25 26 27 28 29 30\n",
      "30 31\n",
      "\n",
      "      October                   November                  December\n",
      "Mo Tu We Th Fr Sa Su      Mo Tu We Th Fr Sa Su      Mo Tu We Th Fr Sa Su\n",
      " 1  2  3  4  5  6  7                1  2  3  4                      1  2\n",
      " 8  9 10 11 12 13 14       5  6  7  8  9 10 11       3  4  5  6  7  8  9\n",
      "15 16 17 18 19 20 21      12 13 14 15 16 17 18      10 11 12 13 14 15 16\n",
      "22 23 24 25 26 27 28      19 20 21 22 23 24 25      17 18 19 20 21 22 23\n",
      "29 30 31                  26 27 28 29 30            24 25 26 27 28 29 30\n",
      "                                                    31\n",
      "\n",
      "calendar for month    September 2018\n",
      "Mo Tu We Th Fr Sa Su\n",
      "                1  2\n",
      " 3  4  5  6  7  8  9\n",
      "10 11 12 13 14 15 16\n",
      "17 18 19 20 21 22 23\n",
      "24 25 26 27 28 29 30\n",
      "\n"
     ]
    }
   ],
   "source": [
    "#Q3 Write a Python program to display calendar?\n",
    "\n",
    "import calendar\n",
    "yy = int(input('enter year'))\n",
    "mm=int(input('enter month'))\n",
    "print('calendar for year ',calendar.calendar(yy))\n",
    "print('calendar for month',calendar.month(yy,mm))"
   ]
  },
  {
   "cell_type": "code",
   "execution_count": 10,
   "id": "62702661",
   "metadata": {},
   "outputs": [
    {
     "name": "stdout",
     "output_type": "stream",
     "text": [
      "enter value of a- 1\n",
      "enter value of b- -6\n",
      "enter value of c- 9\n",
      "root_1 = (3+0j) and root_2 = (3+0j)\n"
     ]
    }
   ],
   "source": [
    "#Q4 Write a Python program to solve quadratic equation?\n",
    "\n",
    "import cmath\n",
    "a=int(input('enter value of a- '))\n",
    "b=int(input('enter value of b- '))\n",
    "c=int(input('enter value of c- '))\n",
    "\n",
    "d=(b*b)-(4*a*c)\n",
    "\n",
    "root_1= (-b-cmath.sqrt(d))/(2*a)\n",
    "root_2=(-b+cmath.sqrt(d))/(2*a)\n",
    "\n",
    "print('root_1 = {} and root_2 = {}'.format(root_1,root_2))"
   ]
  },
  {
   "cell_type": "code",
   "execution_count": 12,
   "id": "61e2ae2c",
   "metadata": {},
   "outputs": [
    {
     "name": "stdout",
     "output_type": "stream",
     "text": [
      "enter first no.- 5\n",
      "enter second no.- 09\n",
      "numbers after swapping 9   5\n"
     ]
    }
   ],
   "source": [
    "#Q5 Write a Python program to swap two variables without temp variable?\n",
    "\n",
    "first_num=int(input('enter first no.- '))\n",
    "second_num=int(input('enter second no.- '))\n",
    "\n",
    "first_num=first_num+second_num\n",
    "second_num=first_num-second_num\n",
    "first_num=first_num-second_num\n",
    "\n",
    "print('numbers after swapping',first_num,' ',second_num)"
   ]
  },
  {
   "cell_type": "code",
   "execution_count": null,
   "id": "9cd168fa",
   "metadata": {},
   "outputs": [],
   "source": []
  }
 ],
 "metadata": {
  "kernelspec": {
   "display_name": "Python 3 (ipykernel)",
   "language": "python",
   "name": "python3"
  },
  "language_info": {
   "codemirror_mode": {
    "name": "ipython",
    "version": 3
   },
   "file_extension": ".py",
   "mimetype": "text/x-python",
   "name": "python",
   "nbconvert_exporter": "python",
   "pygments_lexer": "ipython3",
   "version": "3.9.7"
  }
 },
 "nbformat": 4,
 "nbformat_minor": 5
}
