{
 "cells": [
  {
   "cell_type": "markdown",
   "id": "884d0a48",
   "metadata": {},
   "source": [
    "# Python Advance Assignment  - 8"
   ]
  },
  {
   "cell_type": "markdown",
   "id": "b9f3c2db",
   "metadata": {},
   "source": [
    "#### Q1. What are the two latest user-defined exception constraints in Python 3.X?\n"
   ]
  },
  {
   "cell_type": "markdown",
   "id": "27e00c37",
   "metadata": {},
   "source": [
    "In Python 3.x, the two latest user-defined exception constraints are as follows:\n",
    "\n",
    "1. Exception hierarchy constraint: User-defined exceptions should be derived from the built-in `Exception` class or one of its derived classes. This ensures that the user-defined exception can be caught by the built-in `except` statement or by a try statement that catches `Exception`.\n",
    "\n",
    "2. The string argument constraint: User-defined exceptions should accept a string argument in their constructor that can be used to generate an error message when the exception is raised. This is because when the exception is caught, it can be useful to know what caused the exception to be raised."
   ]
  },
  {
   "cell_type": "markdown",
   "id": "4a99d77b",
   "metadata": {},
   "source": [
    "#### Q2. How are class-based exceptions that have been raised matched to handlers?"
   ]
  },
  {
   "cell_type": "markdown",
   "id": "ecfba9ba",
   "metadata": {},
   "source": [
    "When a class-based exception is raised, Python searches for an exception handler in the current scope and then in the calling scopes. The search stops when the first handler that matches the raised exception is found.\n",
    "\n",
    "In the case of class-based exceptions, matching is based on the exception hierarchy. When an exception is raised, Python compares the exception class to the exception classes listed in each `except` statement in the order in which they appear. If the raised exception is an instance of the class listed in an `except` statement or a subclass of it, the corresponding handler is executed. If there is no match, the exception is propagated to the calling scope.\n",
    "\n",
    "For example, consider the following code:\n",
    "\n",
    "```\n",
    "class MyError(Exception):\n",
    "    pass\n",
    "\n",
    "try:\n",
    "    raise MyError(\"Something went wrong!\")\n",
    "except ValueError:\n",
    "    print(\"Caught a ValueError\")\n",
    "except MyError:\n",
    "    print(\"Caught a MyError\")\n",
    "```\n",
    "\n",
    "In this example, `MyError` is a user-defined exception that is derived from the built-in `Exception` class. When the `raise` statement is executed, a `MyError` exception is raised with the message \"Something went wrong!\". When the `try` block is executed, Python looks for a matching `except` statement in the current scope. Since there is no `except` statement that matches the raised `MyError` exception, the exception propagates to the calling scope. If there were a `except MyError` statement, the corresponding handler would be executed."
   ]
  },
  {
   "cell_type": "markdown",
   "id": "79b5447f",
   "metadata": {},
   "source": [
    "#### Q3. Describe two methods for attaching context information to exception artefacts.\n"
   ]
  },
  {
   "cell_type": "markdown",
   "id": "2a6badda",
   "metadata": {},
   "source": [
    "When an exception occurs, it is helpful to include additional information that may aid in troubleshooting and debugging the problem. Here are two ways to attach context information to exception artifacts:\n",
    "\n",
    "1. Using exception arguments: Exception classes can take arguments in their constructors, which can be used to pass additional information about the error that occurred. For example:\n",
    "\n",
    "   ```python\n",
    "   class MyException(Exception):\n",
    "       def __init__(self, message, context):\n",
    "           super().__init__(message)\n",
    "           self.context = context\n",
    "           \n",
    "   try:\n",
    "       # some code that may raise an exception\n",
    "   except MyException as e:\n",
    "       # handle the exception and include the context information\n",
    "       print(f\"Error occurred: {e}, context: {e.context}\")\n",
    "   ```\n",
    "\n",
    "2. Using exception chaining: When one exception causes another, it is possible to chain them together using the `raise` statement. This allows the original exception to be captured and displayed along with the new one. For example:\n",
    "\n",
    "   ```python\n",
    "   try:\n",
    "       # some code that may raise an exception\n",
    "   except SomeException as e:\n",
    "       # handle the exception and attach additional context information\n",
    "       raise MyException(\"Error occurred\", e) from None\n",
    "   ```\n",
    "\n",
    "   In this example, the `MyException` instance is created with a message and the original exception (`e`) is chained to it using the `from` keyword. When this exception is caught further up the stack, it will include both the message and the original exception in its traceback."
   ]
  },
  {
   "cell_type": "markdown",
   "id": "44ed9760",
   "metadata": {},
   "source": [
    "#### Q4. Describe two methods for specifying the text of an exception object&#39;s error message."
   ]
  },
  {
   "cell_type": "markdown",
   "id": "73bba735",
   "metadata": {},
   "source": [
    "In Python, there are a couple of ways to specify the text of an exception object's error message:\n",
    "\n",
    "1. Passing a string argument to the exception class constructor: When you raise an exception, you can pass a string argument to the exception class constructor, which will be stored as the error message. For example:\n",
    "   ```\n",
    "   raise ValueError(\"Invalid value provided\")\n",
    "   ```\n",
    "\n",
    "2. Defining the `__str__` method in the exception class: You can define the `__str__` method in your custom exception class to specify the error message. This method should return the error message as a string. For example:\n",
    "   ```\n",
    "   class MyException(Exception):\n",
    "       def __init__(self, arg):\n",
    "           self.arg = arg\n",
    "       def __str__(self):\n",
    "           return f\"MyException: {self.arg}\"\n",
    "   raise MyException(\"Something went wrong\")\n",
    "   ```\n",
    "   In this example, the `__str__` method returns the string `\"MyException: {self.arg}\"`, where `{self.arg}` is replaced with the value of the `arg` instance attribute of the exception object. When the exception is raised, the string `\"Something went wrong\"` is passed as the `arg` argument, so the error message will be `\"MyException: Something went wrong\"`."
   ]
  },
  {
   "cell_type": "markdown",
   "id": "78d04c48",
   "metadata": {},
   "source": [
    "#### Q5. Why do you no longer use string-based exceptions?\n"
   ]
  },
  {
   "cell_type": "markdown",
   "id": "ac255ffc",
   "metadata": {},
   "source": [
    "In older versions of Python, it was possible to raise exceptions as strings using the `raise` statement. However, this method has been deprecated since Python 2.5 and has been removed entirely in Python 3.x. The main reason for this is that using string-based exceptions can lead to less readable and less maintainable code. String-based exceptions are also less flexible than class-based exceptions, as they do not allow for attaching additional data or behavior to the exception object. Therefore, it is recommended to use class-based exceptions instead."
   ]
  },
  {
   "cell_type": "code",
   "execution_count": null,
   "id": "e503696d",
   "metadata": {},
   "outputs": [],
   "source": []
  }
 ],
 "metadata": {
  "kernelspec": {
   "display_name": "Python 3 (ipykernel)",
   "language": "python",
   "name": "python3"
  },
  "language_info": {
   "codemirror_mode": {
    "name": "ipython",
    "version": 3
   },
   "file_extension": ".py",
   "mimetype": "text/x-python",
   "name": "python",
   "nbconvert_exporter": "python",
   "pygments_lexer": "ipython3",
   "version": "3.9.7"
  }
 },
 "nbformat": 4,
 "nbformat_minor": 5
}
