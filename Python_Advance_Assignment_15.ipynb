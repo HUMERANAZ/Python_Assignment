{
 "cells": [
  {
   "cell_type": "markdown",
   "id": "5a173696",
   "metadata": {},
   "source": [
    "# Python Advance Assignment  - 15"
   ]
  },
  {
   "cell_type": "markdown",
   "id": "a20ee5e2",
   "metadata": {},
   "source": [
    "#### 1. What are the new features added in Python 3.8 version?"
   ]
  },
  {
   "cell_type": "markdown",
   "id": "a19d075b",
   "metadata": {},
   "source": [
    "Python 3.8 was released on October 14, 2019, and included several new features and optimizations. Some of the major new features in Python 3.8 are:\n",
    "\n",
    "1. Assignment Expressions (the Walrus operator): This allows you to assign values to variables within an expression. For example, you can write \"if (n := len(s)) > 10\" instead of \"n = len(s); if n > 10\".\n",
    "\n",
    "2. Positional-only parameters: This allows you to specify function arguments that can only be passed positionally, not as keyword arguments. This can make function signatures clearer and less error-prone.\n",
    "\n",
    "3. f-strings now support the = format specifier: This allows you to format values using the = specifier, which adds leading zeros and spaces to align values.\n",
    "\n",
    "4. Debug information is now included in traceback objects: This makes it easier to diagnose errors by providing more detailed information about where the error occurred.\n",
    "\n",
    "5. Improvements to the typing module: The typing module has been updated with new features like TypedDict and Literal, and several existing types have been optimized for better performance.\n",
    "\n",
    "6. The multiprocessing module now supports the shared memory and semaphore types: This allows for easier sharing of data between processes.\n",
    "\n",
    "7. New syntax for positional-only parameters in function definitions: You can now use / to specify that all parameters before it are positional-only.\n",
    "\n",
    "8. Improved performance and optimizations: Several performance improvements and optimizations have been made, including faster start-up times and faster I/O operations.\n",
    "\n",
    "These are just a few of the new features in Python 3.8."
   ]
  },
  {
   "cell_type": "markdown",
   "id": "d924b5b2",
   "metadata": {},
   "source": [
    "#### 2. What is monkey patching in Python?"
   ]
  },
  {
   "cell_type": "markdown",
   "id": "a816fec4",
   "metadata": {},
   "source": [
    "Monkey patching in Python refers to dynamically modifying or extending code at runtime, without altering the original source code. This can be done by directly modifying or replacing attributes or methods of an object or class with new implementations. Monkey patching can be useful in situations where it is not feasible or practical to modify the original source code, such as fixing a bug in a third-party library or adding new functionality to an existing module. However, it can also be a dangerous practice if not used carefully, as it can introduce unexpected behavior and make code harder to debug and maintain."
   ]
  },
  {
   "cell_type": "markdown",
   "id": "42f2e6cf",
   "metadata": {},
   "source": [
    "#### 3. What is the difference between a shallow copy and deep copy?"
   ]
  },
  {
   "cell_type": "markdown",
   "id": "32cdbacf",
   "metadata": {},
   "source": [
    "In Python, when you want to create a new object with the same content as an existing object, you can either use a shallow copy or a deep copy. \n",
    "\n",
    "A shallow copy creates a new object that is a reference to the original object. This means that if you make any changes to the new object, the original object will also be affected. In other words, the new object references the same memory location as the original object. To create a shallow copy of an object in Python, you can use the `copy` module's `copy()` method.\n",
    "\n",
    "A deep copy creates a new object that is a copy of the original object, with its own memory location. This means that any changes made to the new object will not affect the original object. To create a deep copy of an object in Python, you can use the `copy` module's `deepcopy()` method.\n",
    "\n",
    "In summary, a shallow copy is a copy of the original object's reference, whereas a deep copy is a copy of the original object's content."
   ]
  },
  {
   "cell_type": "markdown",
   "id": "5df1eebe",
   "metadata": {},
   "source": [
    "#### 4. What is the maximum possible length of an identifier?"
   ]
  },
  {
   "cell_type": "markdown",
   "id": "d3d9f78e",
   "metadata": {},
   "source": [
    "In Python, the maximum possible length of an identifier is not explicitly defined. However, it is recommended to keep the identifiers reasonably short and descriptive. According to PEP 8, the Python style guide, identifiers should be less than 79 characters in length, although this is not a hard limit."
   ]
  },
  {
   "cell_type": "markdown",
   "id": "78f2c35f",
   "metadata": {},
   "source": [
    "#### 5. What is generator comprehension?"
   ]
  },
  {
   "cell_type": "markdown",
   "id": "66645338",
   "metadata": {},
   "source": [
    "In Python, generator comprehension is a concise way of creating a generator object using a single line of code. It is similar to list comprehension, but instead of creating a list, it creates a generator that can be iterated over to produce the desired elements on the fly. Generator comprehensions are created using parentheses instead of square brackets.\n",
    "\n",
    "Here is an example of a generator comprehension that generates a sequence of even numbers up to 10:\n",
    "\n",
    "```\n",
    "gen = (x for x in range(10) if x % 2 == 0)\n",
    "```\n",
    "\n",
    "The above code creates a generator object that yields the values 0, 2, 4, 6, and 8 when iterated over. It is more memory-efficient than creating a list comprehension, as it does not store all the generated values in memory at once. Instead, it generates each value on-the-fly as it is requested."
   ]
  },
  {
   "cell_type": "code",
   "execution_count": null,
   "id": "e1746e2d",
   "metadata": {},
   "outputs": [],
   "source": []
  }
 ],
 "metadata": {
  "kernelspec": {
   "display_name": "Python 3 (ipykernel)",
   "language": "python",
   "name": "python3"
  },
  "language_info": {
   "codemirror_mode": {
    "name": "ipython",
    "version": 3
   },
   "file_extension": ".py",
   "mimetype": "text/x-python",
   "name": "python",
   "nbconvert_exporter": "python",
   "pygments_lexer": "ipython3",
   "version": "3.9.7"
  }
 },
 "nbformat": 4,
 "nbformat_minor": 5
}
