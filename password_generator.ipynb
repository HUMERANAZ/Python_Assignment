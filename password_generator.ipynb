{
 "cells": [
  {
   "cell_type": "code",
   "execution_count": 15,
   "id": "6d96d7be",
   "metadata": {},
   "outputs": [
    {
     "name": "stdout",
     "output_type": "stream",
     "text": [
      "Welcome to pypassword generator\n",
      "Enter no. of letters you want in your password4\n",
      "Enter no. of symbols you want in your password5\n",
      "Enter no. of digits you want in your password2\n",
      "kkPI+&4051f++3$A$!2RZ\n"
     ]
    }
   ],
   "source": [
    "import random\n",
    "\n",
    "letters=['a', 'b', 'c', 'd', 'e', 'f', 'g', 'h', 'i', 'j', 'k', 'l', 'm', 'n', 'o', 'p', 'q', 'r', 's', 't', 'u', 'v', 'w', 'x', 'y', 'z', 'A', 'B', 'C', 'D', 'E', 'F', 'G', 'H', 'I', 'J', 'K', 'L', 'M', 'N', 'O', 'P', 'Q', 'R', 'S', 'T', 'U', 'V', 'W', 'X', 'Y', 'Z']\n",
    "numbers=['0', '1', '2', '3', '4', '5', '6', '7', '8', '9']\n",
    "symbols =['!', '#', '$', '%', '&', '(', ')', '*', '+']\n",
    "\n",
    "print(\"Welcome to pypassword generator\")\n",
    "\n",
    "n_letters=int(input(\"Enter no. of letters you want in your password\"))\n",
    "n_symbols=int(input(\"Enter no. of symbols you want in your password\"))\n",
    "n_digits=int(input(\"Enter no. of digits you want in your password\"))\n",
    "\n",
    "password_list=[]\n",
    "\n",
    "for i in range(n_letters):\n",
    "    password_list+=random.choice(letters)\n",
    "    \n",
    "for i in range(0,n_symbols):\n",
    "    password_list+=random.choice(symbols)\n",
    "    \n",
    "for i in range(0,n_digits):\n",
    "    password_list+=random.choice(numbers)\n",
    "\n",
    "random.shuffle(password_list)\n",
    "\n",
    "for i in password_list:\n",
    "    password+=i\n",
    "\n",
    "print(password)\n",
    "\n",
    "\n"
   ]
  },
  {
   "cell_type": "code",
   "execution_count": null,
   "id": "ca988e69",
   "metadata": {},
   "outputs": [],
   "source": []
  }
 ],
 "metadata": {
  "kernelspec": {
   "display_name": "Python 3 (ipykernel)",
   "language": "python",
   "name": "python3"
  },
  "language_info": {
   "codemirror_mode": {
    "name": "ipython",
    "version": 3
   },
   "file_extension": ".py",
   "mimetype": "text/x-python",
   "name": "python",
   "nbconvert_exporter": "python",
   "pygments_lexer": "ipython3",
   "version": "3.9.7"
  }
 },
 "nbformat": 4,
 "nbformat_minor": 5
}
