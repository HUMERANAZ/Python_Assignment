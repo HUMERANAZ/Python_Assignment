{
 "cells": [
  {
   "cell_type": "markdown",
   "id": "24f6328d",
   "metadata": {},
   "source": [
    "# Python_Basic_Assignment_9"
   ]
  },
  {
   "cell_type": "markdown",
   "id": "11c9d7e8",
   "metadata": {},
   "source": [
    "#### 1. Question: To what does a relative path refer?\n",
    "   Answer: A relative path refers to a file or directory location that is specified relative to the current working directory or another known location.\n",
    "\n",
    "#### 2. Question: What does an absolute path start with in your operating system?\n",
    "   Answer: An absolute path starts with the root directory of the operating system.\n",
    "\n",
    "#### 3. Question: What do the functions os.getcwd() and os.chdir() do?\n",
    "   Answer: The function `os.getcwd()` returns the current working directory, and `os.chdir()` changes the current working directory to the specified path.\n",
    "\n",
    "#### 4. Question: What are the \".\" and \"..\" folders?\n",
    "   Answer: The \".\" (dot) represents the current directory, and \"..\" (dot-dot) represents the parent directory.\n",
    "\n",
    "#### 5. Question: In C:\\bacon\\eggs\\spam.txt, which part is the dir name, and which part is the base name?\n",
    "   Answer: In `C:\\bacon\\eggs\\spam.txt`, the \"C:\\bacon\\eggs\" part is the directory name, and \"spam.txt\" is the base name.\n",
    "\n",
    "#### 6. Question: What are the three “mode” arguments that can be passed to the open() function?\n",
    "   Answer: The three \"mode\" arguments that can be passed to the `open()` function are \"r\" for read mode, \"w\" for write mode, and \"a\" for append mode.\n",
    "\n",
    "#### 7. Question: What happens if an existing file is opened in write mode?\n",
    "   Answer: If an existing file is opened in write mode, the file is truncated (emptied) and the new content will be written from the beginning of the file.\n",
    "\n",
    "#### 8. Question: How do you tell the difference between read() and readlines()?\n",
    "   Answer: The `read()` method of a file object reads the entire contents of the file as a single string, while the `readlines()` method reads the contents line by line and returns a list of strings, with each element representing a line.\n",
    "\n",
    "#### 9. Question: What data structure does a shelf value resemble?\n",
    "   Answer: A shelf value in Python resembles a dictionary-like object that can persistently store and retrieve Python objects, with keys and values. It is similar to a dictionary but provides disk-based persistence."
   ]
  },
  {
   "cell_type": "code",
   "execution_count": null,
   "id": "f3dedeb7",
   "metadata": {},
   "outputs": [],
   "source": []
  }
 ],
 "metadata": {
  "kernelspec": {
   "display_name": "Python 3 (ipykernel)",
   "language": "python",
   "name": "python3"
  },
  "language_info": {
   "codemirror_mode": {
    "name": "ipython",
    "version": 3
   },
   "file_extension": ".py",
   "mimetype": "text/x-python",
   "name": "python",
   "nbconvert_exporter": "python",
   "pygments_lexer": "ipython3",
   "version": "3.9.7"
  }
 },
 "nbformat": 4,
 "nbformat_minor": 5
}
