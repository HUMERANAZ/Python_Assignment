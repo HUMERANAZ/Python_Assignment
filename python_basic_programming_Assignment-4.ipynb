{
 "cells": [
  {
   "cell_type": "markdown",
   "id": "a1007518",
   "metadata": {},
   "source": [
    "# Python Basic Programming Assignment-4"
   ]
  },
  {
   "cell_type": "code",
   "execution_count": 9,
   "id": "65f2d328",
   "metadata": {},
   "outputs": [
    {
     "name": "stdout",
     "output_type": "stream",
     "text": [
      "enter a number- 7\n",
      "Facrorial of 7 is- 5040\n"
     ]
    }
   ],
   "source": [
    "#Q1 Write a Python Program to Find the Factorial of a Number?\n",
    "\n",
    "n=int(input('enter a number- '))\n",
    "f=1\n",
    "for i in range(1,(n+1)):\n",
    "    f=f*i\n",
    "print('Facrorial of {} is- {}'.format(n,f))"
   ]
  },
  {
   "cell_type": "code",
   "execution_count": 10,
   "id": "278dcd4a",
   "metadata": {},
   "outputs": [
    {
     "name": "stdout",
     "output_type": "stream",
     "text": [
      "enter number for display multiplication table4\n",
      "4 x 1 = 4\n",
      "4 x 2 = 8\n",
      "4 x 3 = 12\n",
      "4 x 4 = 16\n",
      "4 x 5 = 20\n",
      "4 x 6 = 24\n",
      "4 x 7 = 28\n",
      "4 x 8 = 32\n",
      "4 x 9 = 36\n",
      "4 x 10 = 40\n"
     ]
    }
   ],
   "source": [
    "#Q2 Write a Python Program to Display the multiplication Table?\n",
    "\n",
    "n=int(input('enter number for display multiplication table'))\n",
    "\n",
    "for i in range(1,11):\n",
    "    r=n*i\n",
    "    print('{} x {} = {}'.format(n,i,r))"
   ]
  },
  {
   "cell_type": "code",
   "execution_count": 8,
   "id": "b99a422a",
   "metadata": {},
   "outputs": [
    {
     "name": "stdout",
     "output_type": "stream",
     "text": [
      "enter limit 8\n",
      "0 , 1, 1, 2, 3, 5, 8, 13"
     ]
    }
   ],
   "source": [
    "#Q3 Write a Python Program to Print the Fibonacci sequence?\n",
    "\n",
    "limit=int(input('enter limit '))\n",
    "a=0\n",
    "b=1\n",
    "print(a,',',b,end='')\n",
    "for i in range(2,limit):\n",
    "    c=a+b\n",
    "    a=b\n",
    "    b=c\n",
    "    print(',',c,end='')"
   ]
  },
  {
   "cell_type": "code",
   "execution_count": 7,
   "id": "e226aca9",
   "metadata": {},
   "outputs": [
    {
     "name": "stdout",
     "output_type": "stream",
     "text": [
      "enter a number153\n",
      "153 is Armstrong Number\n"
     ]
    }
   ],
   "source": [
    "#Q4 Write a Python Program to Check Armstrong Number?\n",
    "\n",
    "num=int(input('enter a number'))\n",
    "sum=0\n",
    "org_num=num\n",
    "while num>=1:\n",
    "    d=num%10\n",
    "    sum=sum+(d**3)\n",
    "    num=num//10\n",
    "if sum==org_num:\n",
    "    print('{} is Armstrong Number'.format(org_num))\n",
    "else:\n",
    "    print('{} is not Armstrong Number'.format(org_num))"
   ]
  },
  {
   "cell_type": "code",
   "execution_count": 4,
   "id": "3aa5900e",
   "metadata": {},
   "outputs": [
    {
     "name": "stdout",
     "output_type": "stream",
     "text": [
      "enter lower limit of interval- 400\n",
      "enter upper limit of interval- 600\n",
      "407 is armstrong number\n"
     ]
    }
   ],
   "source": [
    "#Q5 Write a Python Program to Find Armstrong Number in an Interval?\n",
    "\n",
    "lower=int(input('enter lower limit of interval- '))\n",
    "upper=int(input('enter upper limit of interval- '))\n",
    "\n",
    "for i in range(lower, (upper+1)):\n",
    "    sum=0\n",
    "    num=i\n",
    "    while i>=1:\n",
    "        d=i%10\n",
    "        sum+=(d**3)\n",
    "        i//=10\n",
    "    if sum==num:\n",
    "        print('{} is armstrong number'.format(num))"
   ]
  },
  {
   "cell_type": "code",
   "execution_count": 6,
   "id": "0bdb54d4",
   "metadata": {},
   "outputs": [
    {
     "name": "stdout",
     "output_type": "stream",
     "text": [
      "enter number-7\n",
      "sum of 7 natural number is- 28\n"
     ]
    }
   ],
   "source": [
    "#Q6 Write a Python Program to Find the Sum of Natural Numbers?\n",
    "\n",
    "num=int(input('enter number-'))\n",
    "sum=0\n",
    "if num>1:\n",
    "    for i in range(num+1):\n",
    "        sum+=i\n",
    "    print('sum of {} natural number is- {}'.format(num,sum))\n",
    "        "
   ]
  }
 ],
 "metadata": {
  "kernelspec": {
   "display_name": "Python 3 (ipykernel)",
   "language": "python",
   "name": "python3"
  },
  "language_info": {
   "codemirror_mode": {
    "name": "ipython",
    "version": 3
   },
   "file_extension": ".py",
   "mimetype": "text/x-python",
   "name": "python",
   "nbconvert_exporter": "python",
   "pygments_lexer": "ipython3",
   "version": "3.9.7"
  }
 },
 "nbformat": 4,
 "nbformat_minor": 5
}
