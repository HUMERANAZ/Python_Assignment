{
 "cells": [
  {
   "cell_type": "markdown",
   "id": "92cc5946",
   "metadata": {},
   "source": [
    "# Python Basic Programming Assignment 11"
   ]
  },
  {
   "cell_type": "code",
   "execution_count": 7,
   "id": "af225d4f",
   "metadata": {},
   "outputs": [
    {
     "name": "stdout",
     "output_type": "stream",
     "text": [
      "Enter the length- 4\n",
      "Enter string- Hello World , How are you ?\n",
      "words more than length 4 are- \n",
      "Hello\n",
      "World\n"
     ]
    }
   ],
   "source": [
    "#Q1 Write a Python program to find words which are greater than given length k?\n",
    "\n",
    "k=int(input(\"Enter the length- \"))\n",
    "s1=input(\"Enter string- \")\n",
    "s2=s1.split(\" \")\n",
    "print(\"words more than length {} are- \".format(k))\n",
    "for i in s2:\n",
    "    if len(i)>k:\n",
    "        print(i)\n",
    "        \n",
    "        "
   ]
  },
  {
   "cell_type": "code",
   "execution_count": 8,
   "id": "3fc24d9d",
   "metadata": {},
   "outputs": [
    {
     "name": "stdout",
     "output_type": "stream",
     "text": [
      "enter i-th position- 5\n",
      "progam for removing character from a string\n"
     ]
    }
   ],
   "source": [
    "#Q2 Write a Python program for removing i-th character from a string?\n",
    "\n",
    "i=int(input(\"enter i-th position- \"))\n",
    "\n",
    "old_str=\"program for removing character from a string\"\n",
    "new_str=old_str[:(i-1)]+old_str[i:]\n",
    "print(new_str)"
   ]
  },
  {
   "cell_type": "code",
   "execution_count": 9,
   "id": "49a06564",
   "metadata": {},
   "outputs": [
    {
     "name": "stdout",
     "output_type": "stream",
     "text": [
      "split string-  ['Start', 'now,', 'choose', 'your', 'Neuron']\n",
      "join string-    Start now, choose your Neuron\n"
     ]
    }
   ],
   "source": [
    "#Q3 Write a Python program to split and join a string?\n",
    "\n",
    "s3 = 'Start now, choose your Neuron'\n",
    "\n",
    "print(\"split string- \",s3.split(\" \"))\n",
    "\n",
    "print(\"join string-   \",\" \".join(s3.split()))\n",
    " "
   ]
  },
  {
   "cell_type": "code",
   "execution_count": 10,
   "id": "a2b58d54",
   "metadata": {},
   "outputs": [
    {
     "name": "stdout",
     "output_type": "stream",
     "text": [
      "enter binary string- 1001\n",
      "your string is a binary string.\n"
     ]
    }
   ],
   "source": [
    "#Q4 Write a Python to check if a given string is binary string or not?\n",
    "\n",
    "a =input(\"enter binary string- \")\n",
    "b = {'0','1'}\n",
    "t = set(a)\n",
    "\n",
    "if b == t or t == {'0'} or t == {'1'}:\n",
    "    print(\"your string is a binary string.\")\n",
    "else:\n",
    "    print(\"your string is not a binary string.\")\n",
    "\n"
   ]
  },
  {
   "cell_type": "code",
   "execution_count": 11,
   "id": "02bfd83d",
   "metadata": {},
   "outputs": [
    {
     "name": "stdout",
     "output_type": "stream",
     "text": [
      "uncommon words from two strings are-  ['Data', 'Science', 'Website', 'Developer']\n"
     ]
    }
   ],
   "source": [
    "#Q5 Write a Python program to find uncommon words from two Strings?\n",
    "\n",
    "def uncommon_words(st1,st2):\n",
    "    str1=st1.split()\n",
    "    str2=st2.split()\n",
    "    uc_w=\"\"\n",
    "    for i in str1:\n",
    "        if i not in str2:\n",
    "            uc_w=uc_w + \" \" + i\n",
    "    \n",
    "    for j in str2:\n",
    "        if j not in str1:\n",
    "            uc_w=uc_w + \" \" + j\n",
    "            \n",
    "    return uc_w.split()\n",
    "\n",
    "st1=\"I am learning Full Stack Data Science\"\n",
    "st2=\"I am learning Full Stack Website Developer\"\n",
    "\n",
    "print(\"uncommon words from two strings are- \",uncommon_words(st1,st2))"
   ]
  },
  {
   "cell_type": "code",
   "execution_count": 3,
   "id": "0d4b03de",
   "metadata": {},
   "outputs": [
    {
     "name": "stdout",
     "output_type": "stream",
     "text": [
      "['l', 'o']\n"
     ]
    }
   ],
   "source": [
    "#Q6 Write a Python to find all duplicate characters in string?\n",
    "\n",
    "def find_duplicate(x):\n",
    "    duplicates=[]\n",
    "    for i in x:\n",
    "        if x.count(i)>1 and i!=\" \":\n",
    "            if i not in duplicates:\n",
    "                duplicates.append(i)\n",
    "    \n",
    "    return duplicates\n",
    "\n",
    "    \n",
    "            \n",
    "        \n",
    "x =\"Hello World \"\n",
    "print(find_duplicate(x))"
   ]
  },
  {
   "cell_type": "code",
   "execution_count": 12,
   "id": "c9949bba",
   "metadata": {},
   "outputs": [
    {
     "name": "stdout",
     "output_type": "stream",
     "text": [
      "Enter a string- hello world! how are you ?\n",
      "The string contains special characters.\n"
     ]
    }
   ],
   "source": [
    "#Q7 Write a Python Program to check if a string contains any special character?\n",
    " \n",
    "import re\n",
    "\n",
    "s = str(input(\"Enter a string- \"))\n",
    " \n",
    "special_char = re.compile(\"[@_!#$%^&*()<>?/\\|}{~:]\")\n",
    "\n",
    "if(special_char.search(s) == None):\n",
    "    print(\"String does not contain any special characters.\")\n",
    "else:\n",
    "    print(\"The string contains special characters.\")"
   ]
  }
 ],
 "metadata": {
  "kernelspec": {
   "display_name": "Python 3 (ipykernel)",
   "language": "python",
   "name": "python3"
  },
  "language_info": {
   "codemirror_mode": {
    "name": "ipython",
    "version": 3
   },
   "file_extension": ".py",
   "mimetype": "text/x-python",
   "name": "python",
   "nbconvert_exporter": "python",
   "pygments_lexer": "ipython3",
   "version": "3.9.7"
  }
 },
 "nbformat": 4,
 "nbformat_minor": 5
}
