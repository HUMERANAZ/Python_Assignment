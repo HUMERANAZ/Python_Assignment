{
 "cells": [
  {
   "cell_type": "markdown",
   "id": "03fe4b69",
   "metadata": {},
   "source": [
    "# Python Basic Assignment-22"
   ]
  },
  {
   "cell_type": "markdown",
   "id": "295d927c",
   "metadata": {},
   "source": [
    "#### 1. What is the result of the code, and explain?\n",
    "\n",
    "X = 'iNeuron'\n",
    "\n",
    "def func():\n",
    "\n",
    "    print(X)\n",
    "\n",
    "func()"
   ]
  },
  {
   "cell_type": "markdown",
   "id": "c874e932",
   "metadata": {},
   "source": [
    "The code defines a variable `X` with the value \"iNeuron\" and then defines a function `func` that prints the value of `X`. When the function `func()` is called, it prints the value of `X`, which is \"iNeuron\". \n",
    "\n",
    "So the output of the code will be:\n",
    "\n",
    "```\n",
    "iNeuron\n",
    "``` \n",
    "\n",
    "Note that since `X` is defined outside of the function `func()`, it is a global variable and can be accessed from within the function."
   ]
  },
  {
   "cell_type": "markdown",
   "id": "76bdefc2",
   "metadata": {},
   "source": [
    "#### 2. What is the result of the code, and explain?\n",
    "\n",
    "X = 'iNeuron'\n",
    "\n",
    "def func():\n",
    "\n",
    "    X ='NI!'\n",
    "\n",
    "func()\n",
    "\n",
    "print(X)"
   ]
  },
  {
   "cell_type": "markdown",
   "id": "43554061",
   "metadata": {},
   "source": [
    "The code defines a global variable `X` with the value \"iNeuron\" and a function `func()` that assigns a new value \"NI!\" to a local variable `X` within the function. The function is then called, but the updated value of `X` is not returned or printed. After the function call, `X` is printed, which refers to the global variable with the value \"iNeuron\".\n",
    "\n",
    "So the output of the code will be:\n",
    "\n",
    "```\n",
    "iNeuron\n",
    "```\n",
    "\n",
    "Note that the `print(X)` statement is outside the function `func()`, so it refers to the global variable `X` rather than the local variable defined in `func()`. Also, since `X` is not returned or printed within `func()`, the new value of `X` within the function is not used or visible outside of the function."
   ]
  },
  {
   "cell_type": "markdown",
   "id": "ed683426",
   "metadata": {},
   "source": [
    "#### 3. What does this code print, and why?\n",
    "\n",
    "X = 'iNeuron'\n",
    "\n",
    "def func():\n",
    "\n",
    "    X = 'NI'\n",
    "    \n",
    "    print(X)\n",
    "func()\n",
    "\n",
    "print(X)"
   ]
  },
  {
   "cell_type": "markdown",
   "id": "13c92fa8",
   "metadata": {},
   "source": [
    "The code defines a global variable `X` with the value \"iNeuron\" and a function `func()` that defines a local variable `X` with the value \"NI\" and then prints its value. The function is then called, which prints the value of its local variable `X`, and then the global variable `X` is printed outside the function.\n",
    "\n",
    "When the function `func()` is called, it defines a local variable `X` with the value \"NI\" and prints it. However, the global variable `X` is not used or modified within the function. After the function call, the global variable `X` is printed, which refers to the global variable with the value \"iNeuron\".\n",
    "\n",
    "Therefore, the output of the code will be:\n",
    "\n",
    "```\n",
    "NI\n",
    "iNeuron\n",
    "```\n",
    "\n",
    "Note that the local variable `X` defined within the function `func()` is not visible outside the function and does not affect the value of the global variable `X`. The global variable `X` retains its original value of \"iNeuron\" even after the function call."
   ]
  },
  {
   "cell_type": "markdown",
   "id": "9d33c783",
   "metadata": {},
   "source": [
    "#### 4. What output does this code produce? Why?\n",
    "\n",
    "X = 'iNeuron'\n",
    "\n",
    "def func():\n",
    "\n",
    "    global X\n",
    "    X = 'NI'\n",
    "\n",
    "func()\n",
    "\n",
    "print(X)"
   ]
  },
  {
   "cell_type": "markdown",
   "id": "b63dff7f",
   "metadata": {},
   "source": [
    "The code defines a global variable `X` with the value \"iNeuron\" and a function `func()` that uses the `global` keyword to access the global variable `X` and assigns it a new value \"NI\". The function is then called, which modifies the value of the global variable `X`. After the function call, the global variable `X` is printed, which should now have the value \"NI\".\n",
    "\n",
    "Therefore, the output of the code will be:\n",
    "\n",
    "```\n",
    "NI\n",
    "```\n",
    "\n",
    "Note that by using the `global` keyword within the function `func()`, we are able to modify the value of the global variable `X`. Without the `global` keyword, the function would create a new local variable `X` with the value \"NI\" and would not affect the value of the global variable `X`."
   ]
  },
  {
   "cell_type": "markdown",
   "id": "a166872c",
   "metadata": {},
   "source": [
    "#### 5. What about this code—what’s the output, and why?\n",
    "\n",
    "X = 'iNeuron'\n",
    "def func():\n",
    "\n",
    "    X = 'NI'\n",
    "    \n",
    "    def nested():\n",
    "\n",
    "        print(X)\n",
    "\n",
    "    nested()\n",
    "\n",
    "func()\n",
    "X"
   ]
  },
  {
   "cell_type": "markdown",
   "id": "32091af6",
   "metadata": {},
   "source": [
    "The code defines a global variable `X` with the value \"iNeuron\" and a function `func()` that defines a local variable `X` with the value \"NI\" and then defines a nested function `nested()` that prints the value of `X`. The function `nested()` is called within `func()`, which prints the value of its local variable `X`.\n",
    "\n",
    "When the function `func()` is called, it defines a local variable `X` with the value \"NI\" and then calls the nested function `nested()`, which prints the value of its enclosing function's variable `X`, which is \"NI\". After the function call, the global variable `X` is printed, which refers to the global variable with the value \"iNeuron\".\n",
    "\n",
    "Therefore, the output of the code will be:\n",
    "\n",
    "```\n",
    "NI\n",
    "iNeuron\n",
    "```\n",
    "\n",
    "Note that the local variable `X` defined within `func()` is not visible outside the function and does not affect the value of the global variable `X`. The nested function `nested()` is able to access the value of the enclosing function's variable `X` because of Python's scoping rules."
   ]
  },
  {
   "cell_type": "markdown",
   "id": "170cede3",
   "metadata": {},
   "source": [
    "#### 6. How about this code: what is its output in Python 3, and explain?\n",
    "\n",
    "def func():\n",
    "\n",
    "X = 'NI'\n",
    "\n",
    "\n",
    "def nested():\n",
    "\n",
    "nonlocal X\n",
    "\n",
    "X = 'Spam'\n",
    "\n",
    "nested()\n",
    "\n",
    "print(X)\n",
    "\n",
    "func()"
   ]
  },
  {
   "cell_type": "markdown",
   "id": "610bdfe4",
   "metadata": {},
   "source": [
    "The code defines a function `func()` that defines a local variable `X` with the value \"NI\" and then defines a nested function `nested()` that uses the `nonlocal` keyword to access the variable `X` of its enclosing function and assigns it a new value \"Spam\". The nested function `nested()` is then called within `func()`, which modifies the value of its enclosing function's variable `X`. Finally, the value of `X` is printed within `func()`.\n",
    "\n",
    "When the function `func()` is called, it defines a local variable `X` with the value \"NI\" and then calls the nested function `nested()`, which uses the `nonlocal` keyword to access the variable `X` of its enclosing function and assigns it a new value \"Spam\". After the nested function call, the value of `X` within `func()` has been modified to \"Spam\" and is printed.\n",
    "\n",
    "Therefore, the output of the code will be:\n",
    "\n",
    "```\n",
    "Spam\n",
    "```\n",
    "\n",
    "Note that the `nonlocal` keyword is used to indicate that the `X` variable in the `nested()` function refers to the `X` variable in the enclosing `func()` function, rather than creating a new local variable with the same name. Without the `nonlocal` keyword, the `nested()` function would create a new local variable `X` within its scope, and the value of `X` within `func()` would not be affected."
   ]
  },
  {
   "cell_type": "code",
   "execution_count": null,
   "id": "b97222c8",
   "metadata": {},
   "outputs": [],
   "source": []
  }
 ],
 "metadata": {
  "kernelspec": {
   "display_name": "Python 3 (ipykernel)",
   "language": "python",
   "name": "python3"
  },
  "language_info": {
   "codemirror_mode": {
    "name": "ipython",
    "version": 3
   },
   "file_extension": ".py",
   "mimetype": "text/x-python",
   "name": "python",
   "nbconvert_exporter": "python",
   "pygments_lexer": "ipython3",
   "version": "3.9.7"
  }
 },
 "nbformat": 4,
 "nbformat_minor": 5
}
