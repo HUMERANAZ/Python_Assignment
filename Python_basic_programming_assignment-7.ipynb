{
 "cells": [
  {
   "cell_type": "markdown",
   "id": "dbfe1995",
   "metadata": {},
   "source": [
    "# Python Basic Programming Assignment 7"
   ]
  },
  {
   "cell_type": "code",
   "execution_count": 13,
   "id": "49a1c5c7",
   "metadata": {},
   "outputs": [
    {
     "name": "stdout",
     "output_type": "stream",
     "text": [
      "enter size of array- 4\n",
      "enter elements of array\n",
      "3\n",
      "4\n",
      "5\n",
      "6\n",
      "The sum of array is-  18\n"
     ]
    }
   ],
   "source": [
    "#Q1 Write a Python Program to find sum of array?\n",
    "\n",
    "def arr_sum(arr):\n",
    "    sum=0\n",
    "    for i in arr:\n",
    "        sum=sum+i\n",
    "    return sum\n",
    "\n",
    "l=[]\n",
    "n=int(input(\"enter size of array- \"))\n",
    "print(\"enter elements of array\")\n",
    "for i in range(0,n):\n",
    "    i=int(input())\n",
    "    l.append(i)\n",
    "    \n",
    "print(\"The sum of array is- \",arr_sum(l))\n",
    "  "
   ]
  },
  {
   "cell_type": "code",
   "execution_count": 14,
   "id": "83d88cc9",
   "metadata": {},
   "outputs": [
    {
     "name": "stdout",
     "output_type": "stream",
     "text": [
      "enter size of array- 4\n",
      "enter elements of array\n",
      "5\n",
      "98\n",
      "56\n",
      "34\n",
      "Maximum element of array is-  98\n"
     ]
    }
   ],
   "source": [
    "#Q2 Write a Python Program to find largest element in an array?\n",
    "\n",
    "def max_ele(arr):\n",
    "    max=arr[0]\n",
    "    for i in arr:\n",
    "        if i>max:\n",
    "            max=i\n",
    "    return max\n",
    "\n",
    "l=[]\n",
    "n=int(input(\"enter size of array- \"))\n",
    "print(\"enter elements of array\")\n",
    "for i in range(0,n):\n",
    "    i=int(input())\n",
    "    l.append(i)\n",
    "    \n",
    "print(\"Maximum element of array is- \",max_ele(l))\n",
    "\n",
    "\n",
    "  "
   ]
  },
  {
   "cell_type": "markdown",
   "id": "d7dc08a6",
   "metadata": {},
   "source": [
    "### "
   ]
  },
  {
   "cell_type": "code",
   "execution_count": 20,
   "id": "39ba3bad",
   "metadata": {},
   "outputs": [
    {
     "name": "stdout",
     "output_type": "stream",
     "text": [
      "enter size of array- 5\n",
      "enter elements of array\n",
      "3\n",
      "7\n",
      "9\n",
      "0\n",
      "5\n",
      "Original array-  [3, 7, 9, 0, 5]\n",
      "array will be rotated by- 1\n",
      "Rotated array-  [7, 9, 0, 5, 3]\n"
     ]
    }
   ],
   "source": [
    "#Q3 Write a Python Program for array rotation?\n",
    "\n",
    "def arr_rotation(a,d,n):\n",
    "    r=[]\n",
    "    r[:]=a[d:n]+a[0:d]\n",
    "    return r\n",
    "\n",
    "\n",
    "l=[]\n",
    "n=int(input(\"enter size of array- \"))\n",
    "print(\"enter elements of array\")\n",
    "for i in range(0,n):\n",
    "    i=int(input())\n",
    "    l.append(i)\n",
    "print(\"Original array- \",l)\n",
    "d=int(input(\"array will be rotated by- \"))\n",
    "\n",
    "print(\"Rotated array- \",arr_rotation(l,d,n))"
   ]
  },
  {
   "cell_type": "code",
   "execution_count": 19,
   "id": "6f57f9fe",
   "metadata": {},
   "outputs": [
    {
     "name": "stdout",
     "output_type": "stream",
     "text": [
      "enter even size of array- 6\n",
      "enter elements of array\n",
      "3\n",
      "4\n",
      "5\n",
      "6\n",
      "6\n",
      "6\n",
      "Original array-  [3, 4, 5, 6, 6, 6]\n",
      "enter position from where you want to split array-  3\n",
      "New array-  [6, 6, 6, 3, 4, 5]\n"
     ]
    }
   ],
   "source": [
    "#Q4 Write a Python Program to Split the array and add the first part to the end?\n",
    "\n",
    "def split_arr(a,k,n):\n",
    "    b = a[:k]\n",
    "    return (a[k::]+b[::])\n",
    "\n",
    "\n",
    "l=[]\n",
    "n=int(input(\"enter even size of array- \"))\n",
    "print(\"enter elements of array\")\n",
    "for i in range(0,n):\n",
    "    i=int(input())\n",
    "    l.append(i)\n",
    "print(\"Original array- \",l)\n",
    "k=int(input(\"enter position from where you want to split array-  \"))\n",
    "print(\"New array- \",split_arr(l,k,n))"
   ]
  },
  {
   "cell_type": "code",
   "execution_count": 32,
   "id": "767906a1",
   "metadata": {},
   "outputs": [
    {
     "name": "stdout",
     "output_type": "stream",
     "text": [
      "enter size of array- 5\n",
      "enter elements of array\n",
      "2\n",
      "1\n",
      "5\n",
      "5\n",
      "3\n",
      "Array is not monotonic array\n"
     ]
    }
   ],
   "source": [
    "#Q5 Write a Python Program to check if given array is Monotonic?\n",
    "\n",
    "def is_monotonic(arr\n",
    "                 \n",
    "    if all(arr[i] <= arr[i + 1] for i in range(len(arr) - 1)):\n",
    "        return \"monotone increasing\"\n",
    "    elif all(arr[i] >= arr[i + 1] for i in range(len(arr) - 1)):\n",
    "        return \"monotone decreasing\"\n",
    "    \n",
    "    return \"not monotonic array\"\n",
    "\n",
    "\n",
    "l=[]\n",
    "n=int(input(\"enter size of array- \"))\n",
    "print(\"enter elements of array\")\n",
    "for i in range(0,n):\n",
    "    i=int(input())\n",
    "    l.append(i)\n",
    "    \n",
    "print(\"Array is\",is_monotonic(l))"
   ]
  }
 ],
 "metadata": {
  "kernelspec": {
   "display_name": "Python 3 (ipykernel)",
   "language": "python",
   "name": "python3"
  },
  "language_info": {
   "codemirror_mode": {
    "name": "ipython",
    "version": 3
   },
   "file_extension": ".py",
   "mimetype": "text/x-python",
   "name": "python",
   "nbconvert_exporter": "python",
   "pygments_lexer": "ipython3",
   "version": "3.9.7"
  }
 },
 "nbformat": 4,
 "nbformat_minor": 5
}
