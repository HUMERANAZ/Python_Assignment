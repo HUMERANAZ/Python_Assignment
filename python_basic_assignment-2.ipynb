{
 "cells": [
  {
   "cell_type": "markdown",
   "id": "adf9ad06",
   "metadata": {},
   "source": [
    "# Python Basic Assignment-2"
   ]
  },
  {
   "cell_type": "markdown",
   "id": "74ee0303",
   "metadata": {},
   "source": [
    "Q1.What are the two values of the Boolean data type? How do you write them?\n",
    "\n",
    "Ans. The two values of the Boolean data type are true and false.\n",
    "     We can write it as- True (with capital 'T' and other letters are samall)\n",
    "                         False(with capital 'F' and other letters are small)\n",
    "     "
   ]
  },
  {
   "cell_type": "markdown",
   "id": "9693b2b9",
   "metadata": {},
   "source": [
    "Q2.What are the three different types of Boolean operators?\n",
    "\n",
    "Ans. The three types of Boolean operators are 'and', 'or' and 'not'.\n",
    "     for eg: \n",
    "     1. and operator: gives output True if both are True else gives false. \n",
    "     2. or  operator: gives output True if any one of the value is true else return false.\n",
    "     3. not operator: gives opposite output, if the value is true, it returns false and vise-versa."
   ]
  },
  {
   "cell_type": "markdown",
   "id": "a79a341f",
   "metadata": {},
   "source": [
    "Q3. Make a list of each Boolean operator's truth tables (i.e. every possible combination of Boolean\n",
    "    values for the operator and what it evaluate ).\n",
    "\n",
    "Ans. True and True = True\n",
    "     True and False = False\n",
    "     False and False = False\n",
    "     \n",
    "     True or True = True\n",
    "     False or True = True\n",
    "     False or False = False\n",
    "     \n",
    "     not True = False\n",
    "     not False = True\n",
    "     "
   ]
  },
  {
   "cell_type": "markdown",
   "id": "8de70458",
   "metadata": {},
   "source": [
    "Q4.What are the values of the following expressions?\n",
    "\n",
    "  (5 > 4) and (3 == 5)\n",
    "  Output is : False\n",
    "  \n",
    "  not (5 > 4)\n",
    "  Output is : False\n",
    "  \n",
    "  (5 > 4) or (3 == 5)\n",
    "  Output is : True\n",
    "  \n",
    "  not ((5 > 4) or (3 == 5))\n",
    "  Output is : False\n",
    "  \n",
    "  (True and True) and (True == False)\n",
    "  Output is : False\n",
    "  \n",
    "  (not False) or (not True) \n",
    "  Output is : True"
   ]
  },
  {
   "cell_type": "markdown",
   "id": "44346a6a",
   "metadata": {},
   "source": [
    "Q5.What are the six comparison operators?\n",
    "\n",
    "Ans. Less than ( < )\n",
    "     Less than or equal to ( <= )\n",
    "     Greater than ( > )\n",
    "     Greater than or equal to ( >= )\n",
    "     Equal to ( == )\n",
    "     Not equal to ( != )\n"
   ]
  },
  {
   "cell_type": "markdown",
   "id": "55fa35b7",
   "metadata": {},
   "source": [
    "Q6.How do you tell the difference between the equal to and assignment operators?Describe a\n",
    "   condition and when you would use one.\n",
    "  \n",
    "Ans. Equal to operator is written as '==' and it is use to check equality of two values.\n",
    "     for eg: if 5==7, it gives false output as 5 is not equal to 7\n",
    "     \n",
    "     Assignment operator is use to assign values to the variable and it is written as '='.\n",
    "     for eg: a=5, b='ineuron'. (the value of a stored as integer 5 and value of b will be string ineuron."
   ]
  },
  {
   "cell_type": "markdown",
   "id": "d82ae928",
   "metadata": {},
   "source": [
    "Q7.\n",
    "\n",
    "Ans. \n",
    "\n",
    "spam = 0\n",
    "if spam == 10:\n",
    "    print('eggs')\n",
    "    if spam > 5:\n",
    "        print('bacon')\n",
    "    else:\n",
    "        print('ham')\n",
    "    print('spam')\n",
    "print('spam')\n",
    "\n",
    "Hence, The three blocks are everything inside the if statement and the lines print('bacon') and print('ham').\n",
    "\n",
    "\n",
    "print('eggs')\n",
    "if spam > 5:\n",
    "    print('bacon')\n",
    "else:\n",
    "    print('ham')\n",
    "print('spam')"
   ]
  },
  {
   "cell_type": "code",
   "execution_count": 7,
   "id": "fd6dfaff",
   "metadata": {},
   "outputs": [
    {
     "name": "stdout",
     "output_type": "stream",
     "text": [
      "Howdy\n"
     ]
    }
   ],
   "source": [
    "#Q8.\n",
    "\n",
    "spam=2\n",
    "if spam==1:\n",
    "    print('Hello')\n",
    "elif spam==2:\n",
    "    print('Howdy')\n",
    "else:\n",
    "    print('Greetings!')"
   ]
  },
  {
   "cell_type": "markdown",
   "id": "dd0b3a19",
   "metadata": {},
   "source": [
    "Q9.If your programme is stuck in an endless loop, what keys you’ll press?\n",
    "\n",
    "Ans. endless loop can be stop by pressing 'ctrl+C'."
   ]
  },
  {
   "cell_type": "markdown",
   "id": "a61b9577",
   "metadata": {},
   "source": [
    "Q10. How can you tell the difference between break and continue?\n",
    "\n",
    "Ans. Break statement stops the loop in which break statement is place while continue statement continue the loop by skipping        single iteration of the loop"
   ]
  },
  {
   "cell_type": "markdown",
   "id": "711fbd9c",
   "metadata": {},
   "source": [
    "Q11. In a for loop, what is the difference between range(10), range(0, 10), and range(0, 10, 1)?\n",
    "\n",
    "Ans. range(10)- This function only contains stop range. therefore it will generate the series of numbers from 0 to 9 by moving                 one step at a time.\n",
    "                Output- 0 1 2 3 4 5 6 7 8 9\n",
    "     range(0,10)- this function contains start(0) and stop(10) range. Hence this generate the series of numbers from 0 to 9 by                   moving one step at a time.\n",
    "                  Output- 0 1 2 3 4 5 6 7 8 9\n",
    "     range(0,10,1)- this function contains start(0), stop(10) and step(1). Hence this generate the series of numbers from 0 to                     9 by moving one step at a time. if this range would contains 2 steps then it moves to step at a time."
   ]
  },
  {
   "cell_type": "code",
   "execution_count": 12,
   "id": "1e68e7e1",
   "metadata": {},
   "outputs": [
    {
     "name": "stdout",
     "output_type": "stream",
     "text": [
      "program using for loop\n",
      "1\n",
      "2\n",
      "3\n",
      "4\n",
      "5\n",
      "6\n",
      "7\n",
      "8\n",
      "9\n",
      "10\n",
      "program using while loop\n",
      "1\n",
      "2\n",
      "3\n",
      "4\n",
      "5\n",
      "6\n",
      "7\n",
      "8\n",
      "9\n",
      "10\n"
     ]
    }
   ],
   "source": [
    "#Q12. Write a short program that prints the numbers 1 to 10 using a for loop. \n",
    "\n",
    "print('program using for loop')\n",
    "for i in range(1,11):\n",
    "    print(i)\n",
    "\n",
    "    \n",
    "#Then write an equivalent program that prints the numbers 1 to 10 using a while loop.\n",
    "\n",
    "print('program using while loop')\n",
    "i=1\n",
    "while i<=10:\n",
    "    print(i)\n",
    "    i=i+1"
   ]
  },
  {
   "cell_type": "markdown",
   "id": "1629072a",
   "metadata": {},
   "source": [
    "Q13. If you had a function named bacon() inside a module named spam, how would you call it after\n",
    "importing spam?\n",
    "\n",
    "Ans. The function can be called by statement spam.bacon()"
   ]
  }
 ],
 "metadata": {
  "kernelspec": {
   "display_name": "Python 3 (ipykernel)",
   "language": "python",
   "name": "python3"
  },
  "language_info": {
   "codemirror_mode": {
    "name": "ipython",
    "version": 3
   },
   "file_extension": ".py",
   "mimetype": "text/x-python",
   "name": "python",
   "nbconvert_exporter": "python",
   "pygments_lexer": "ipython3",
   "version": "3.9.7"
  }
 },
 "nbformat": 4,
 "nbformat_minor": 5
}
