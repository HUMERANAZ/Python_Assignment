{
 "cells": [
  {
   "cell_type": "markdown",
   "id": "bf0f5c1e",
   "metadata": {},
   "source": [
    "# Python Basic Programming Assignment-12"
   ]
  },
  {
   "cell_type": "markdown",
   "id": "c84a6336",
   "metadata": {},
   "source": [
    "#### 1. Write a Python program to Extract Unique values dictionary values?"
   ]
  },
  {
   "cell_type": "code",
   "execution_count": 1,
   "id": "c6d96a3d",
   "metadata": {},
   "outputs": [
    {
     "name": "stdout",
     "output_type": "stream",
     "text": [
      "[1, 2, 3, 4, 5, 6]\n"
     ]
    }
   ],
   "source": [
    "# define a dictionary\n",
    "dictionary = {'a': [1, 2, 3], 'b': [2, 3, 4], 'c': [3, 4, 5], 'd': [4, 5, 6]}\n",
    "\n",
    "# create an empty set to store unique values\n",
    "unique_values = set()\n",
    "\n",
    "# iterate through each value of the dictionary and add its elements to the set\n",
    "for value in dictionary.values():\n",
    "    for element in value:\n",
    "        unique_values.add(element)\n",
    "\n",
    "# convert the set to a list and print the unique values\n",
    "print(list(unique_values))\n"
   ]
  },
  {
   "cell_type": "markdown",
   "id": "809c2d82",
   "metadata": {},
   "source": [
    "#### 2. Write a Python program to find the sum of all items in a dictionary?"
   ]
  },
  {
   "cell_type": "code",
   "execution_count": 2,
   "id": "3917b8f4",
   "metadata": {},
   "outputs": [
    {
     "name": "stdout",
     "output_type": "stream",
     "text": [
      "Sum of all items in the dictionary: 1000\n"
     ]
    }
   ],
   "source": [
    "# define a dictionary\n",
    "dictionary = {'a': 100, 'b': 200, 'c': 300, 'd': 400}\n",
    "\n",
    "# calculate the sum of all values in the dictionary\n",
    "sum_of_values = sum(dictionary.values())\n",
    "\n",
    "# print the sum of all values\n",
    "print(\"Sum of all items in the dictionary:\", sum_of_values)\n"
   ]
  },
  {
   "cell_type": "markdown",
   "id": "978333bf",
   "metadata": {},
   "source": [
    "#### 3. Write a Python program to Merging two Dictionaries?"
   ]
  },
  {
   "cell_type": "code",
   "execution_count": 3,
   "id": "f0206390",
   "metadata": {},
   "outputs": [
    {
     "name": "stdout",
     "output_type": "stream",
     "text": [
      "Merged dictionary: {'a': 100, 'b': 200, 'c': 300, 'd': 400, 'e': 500, 'f': 600}\n"
     ]
    }
   ],
   "source": [
    "# define two dictionaries\n",
    "dictionary1 = {'a': 100, 'b': 200, 'c': 300}\n",
    "dictionary2 = {'d': 400, 'e': 500, 'f': 600}\n",
    "\n",
    "# merge the two dictionaries using the update() method\n",
    "merged_dictionary = dictionary1.copy()\n",
    "merged_dictionary.update(dictionary2)\n",
    "\n",
    "# print the merged dictionary\n",
    "print(\"Merged dictionary:\", merged_dictionary)\n"
   ]
  },
  {
   "cell_type": "markdown",
   "id": "520e183b",
   "metadata": {},
   "source": [
    "#### 4. Write a Python program to convert key-values list to flat dictionary?"
   ]
  },
  {
   "cell_type": "code",
   "execution_count": 4,
   "id": "d813116d",
   "metadata": {},
   "outputs": [
    {
     "name": "stdout",
     "output_type": "stream",
     "text": [
      "Flat dictionary: {'a': 1, 'b': 2, 'c': 3, 'd': 4}\n"
     ]
    }
   ],
   "source": [
    "# define a key-values list\n",
    "key_values_list = [('a', 1), ('b', 2), ('c', 3), ('d', 4)]\n",
    "\n",
    "# create a dictionary from the key-values list using a dictionary comprehension\n",
    "flat_dictionary = {key: value for key, value in key_values_list}\n",
    "\n",
    "# print the flat dictionary\n",
    "print(\"Flat dictionary:\", flat_dictionary)\n"
   ]
  },
  {
   "cell_type": "markdown",
   "id": "8f1d1632",
   "metadata": {},
   "source": [
    "#### 5. Write a Python program to insertion at the beginning in OrderedDict?"
   ]
  },
  {
   "cell_type": "code",
   "execution_count": 5,
   "id": "c4878a7b",
   "metadata": {},
   "outputs": [
    {
     "name": "stdout",
     "output_type": "stream",
     "text": [
      "Ordered dictionary after insertion: OrderedDict([('d', 4), ('a', 1), ('b', 2), ('c', 3)])\n"
     ]
    }
   ],
   "source": [
    "from collections import OrderedDict\n",
    "\n",
    "# define an ordered dictionary\n",
    "ordered_dict = OrderedDict([('a', 1), ('b', 2), ('c', 3)])\n",
    "\n",
    "# insert a new key-value pair at the beginning of the ordered dictionary\n",
    "ordered_dict.update({'d': 4})\n",
    "ordered_dict.move_to_end('d', last=False)\n",
    "\n",
    "# print the modified ordered dictionary\n",
    "print(\"Ordered dictionary after insertion:\", ordered_dict)\n"
   ]
  },
  {
   "cell_type": "markdown",
   "id": "8013f09b",
   "metadata": {},
   "source": [
    "#### 6. Write a Python program to check order of character in string using OrderedDict()?"
   ]
  },
  {
   "cell_type": "code",
   "execution_count": 6,
   "id": "e05d170f",
   "metadata": {},
   "outputs": [
    {
     "name": "stdout",
     "output_type": "stream",
     "text": [
      "The characters in the string are not in order.\n"
     ]
    }
   ],
   "source": [
    "from collections import OrderedDict\n",
    "\n",
    "# define a string\n",
    "string = 'hello world'\n",
    "\n",
    "# create an ordered dictionary of characters in the string and their positions\n",
    "ordered_dict = OrderedDict.fromkeys(string)\n",
    "\n",
    "# check if the characters in the string are in order\n",
    "if list(ordered_dict.keys()) == list(string):\n",
    "    print(\"The characters in the string are in order.\")\n",
    "else:\n",
    "    print(\"The characters in the string are not in order.\")\n"
   ]
  },
  {
   "cell_type": "markdown",
   "id": "fa7294cb",
   "metadata": {},
   "source": [
    "#### 7. Write a Python program to sort Python Dictionaries by Key or Value?"
   ]
  },
  {
   "cell_type": "code",
   "execution_count": 7,
   "id": "ae5b81f8",
   "metadata": {},
   "outputs": [
    {
     "name": "stdout",
     "output_type": "stream",
     "text": [
      "Sorted dictionary by key: [('a', 1), ('b', 2), ('c', 3)]\n",
      "Sorted dictionary by value: [('a', 1), ('b', 2), ('c', 3)]\n"
     ]
    }
   ],
   "source": [
    "# define a dictionary\n",
    "dictionary = {'c': 3, 'b': 2, 'a': 1}\n",
    "\n",
    "# sort the dictionary by key\n",
    "sorted_dict_key = sorted(dictionary.items())\n",
    "\n",
    "# print the sorted dictionary by key\n",
    "print(\"Sorted dictionary by key:\", sorted_dict_key)\n",
    "\n",
    "# sort the dictionary by value\n",
    "sorted_dict_value = sorted(dictionary.items(), key=lambda x: x[1])\n",
    "\n",
    "# print the sorted dictionary by value\n",
    "print(\"Sorted dictionary by value:\", sorted_dict_value)\n"
   ]
  },
  {
   "cell_type": "code",
   "execution_count": null,
   "id": "77a19779",
   "metadata": {},
   "outputs": [],
   "source": []
  }
 ],
 "metadata": {
  "kernelspec": {
   "display_name": "Python 3 (ipykernel)",
   "language": "python",
   "name": "python3"
  },
  "language_info": {
   "codemirror_mode": {
    "name": "ipython",
    "version": 3
   },
   "file_extension": ".py",
   "mimetype": "text/x-python",
   "name": "python",
   "nbconvert_exporter": "python",
   "pygments_lexer": "ipython3",
   "version": "3.9.7"
  }
 },
 "nbformat": 4,
 "nbformat_minor": 5
}
