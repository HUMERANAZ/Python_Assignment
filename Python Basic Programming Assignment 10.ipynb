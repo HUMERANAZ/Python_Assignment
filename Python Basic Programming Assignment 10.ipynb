{
 "cells": [
  {
   "cell_type": "markdown",
   "id": "55a97a99",
   "metadata": {},
   "source": [
    "# Python Basic Programming Assignment 10"
   ]
  },
  {
   "cell_type": "code",
   "execution_count": 2,
   "id": "2d7d0198",
   "metadata": {},
   "outputs": [
    {
     "name": "stdout",
     "output_type": "stream",
     "text": [
      "enter size of list- 6\n",
      "enter elements of list\n",
      "12\n",
      "18\n",
      "30\n",
      "40\n",
      "25\n",
      "35\n",
      "The sum of list is-  160\n"
     ]
    }
   ],
   "source": [
    "#Q1 Write a Python program to find sum of elements in list?\n",
    "\n",
    "def sum_of_ele(l):\n",
    "    \n",
    "    sum=0\n",
    "    for i in l:\n",
    "        sum=sum+i\n",
    "    return sum\n",
    "\n",
    "\n",
    "l=[]\n",
    "n=int(input(\"enter size of list- \"))\n",
    "print(\"enter elements of list\")\n",
    "for i in range(0,n):\n",
    "    i=int(input())\n",
    "    l.append(i)\n",
    "    \n",
    "print(\"your list-\",l)\n",
    "print(\"The sum of list is- \",sum_of_ele(l))\n",
    "\n",
    "        "
   ]
  },
  {
   "cell_type": "code",
   "execution_count": 4,
   "id": "c2fe8f75",
   "metadata": {},
   "outputs": [
    {
     "name": "stdout",
     "output_type": "stream",
     "text": [
      "enter size of list- 7\n",
      "enter elements of list\n",
      "1\n",
      "2\n",
      "3\n",
      "4\n",
      "5\n",
      "6\n",
      "7\n",
      "your list- [1, 2, 3, 4, 5, 6, 7]\n",
      "The product of all numbers of list is-  5040\n"
     ]
    }
   ],
   "source": [
    "#Q2 Write a Python program to Multiply all numbers in the list?\n",
    "\n",
    "def mult_of_ele(l):\n",
    "    \n",
    "    result=1\n",
    "    for i in l:\n",
    "        result=result*i\n",
    "    return result\n",
    "\n",
    "\n",
    "l=[]\n",
    "n=int(input(\"enter size of list- \"))\n",
    "print(\"enter elements of list\")\n",
    "for i in range(0,n):\n",
    "    i=int(input())\n",
    "    l.append(i)\n",
    "    \n",
    "print(\"your list-\",l)\n",
    "print(\"The product of all numbers of list is- \",mult_of_ele(l))\n"
   ]
  },
  {
   "cell_type": "code",
   "execution_count": 6,
   "id": "bdbea686",
   "metadata": {},
   "outputs": [
    {
     "name": "stdout",
     "output_type": "stream",
     "text": [
      "enter size of list- 4\n",
      "enter elements of list\n",
      "7\n",
      "6\n",
      "5\n",
      "4\n",
      "your list- [7, 6, 5, 4]\n",
      "samllest number in a list is-  4\n"
     ]
    }
   ],
   "source": [
    "#Q3 Write a Python program to find smallest number in a list?\n",
    "\n",
    "def smallest_ele(l):\n",
    "    min=l[0]\n",
    "    for i in l:\n",
    "        if i<min:\n",
    "            min=i\n",
    "    return min\n",
    "\n",
    "l=[]\n",
    "n=int(input(\"enter size of list- \"))\n",
    "print(\"enter elements of list\")\n",
    "for i in range(0,n):\n",
    "    i=int(input())\n",
    "    l.append(i)\n",
    "    \n",
    "print(\"your list-\",l)\n",
    "    \n",
    "print(\"samllest number in a list is- \",smallest_ele(l))\n",
    "\n"
   ]
  },
  {
   "cell_type": "code",
   "execution_count": 7,
   "id": "9b012ea6",
   "metadata": {},
   "outputs": [
    {
     "name": "stdout",
     "output_type": "stream",
     "text": [
      "enter size of list- 7\n",
      "enter elements of list\n",
      "8\n",
      "90\n",
      "70\n",
      "56\n",
      "43\n",
      "21\n",
      "09\n",
      "your list- [8, 90, 70, 56, 43, 21, 9]\n",
      "largest number in a list-  90\n"
     ]
    }
   ],
   "source": [
    "#Q4 Write a Python program to find largest number in a list?\n",
    "\n",
    "def largest_ele(l):\n",
    "    max=l[0]\n",
    "    for i in l:\n",
    "        if i>max:\n",
    "            max=i\n",
    "    return max\n",
    "\n",
    "l=[]\n",
    "n=int(input(\"enter size of list- \"))\n",
    "print(\"enter elements of list\")\n",
    "for i in range(0,n):\n",
    "    i=int(input())\n",
    "    l.append(i)\n",
    "\n",
    "print(\"your list-\",l)\n",
    "print(\"largest number in a list- \",largest_ele(l))"
   ]
  },
  {
   "cell_type": "code",
   "execution_count": 14,
   "id": "09c3ae92",
   "metadata": {},
   "outputs": [
    {
     "name": "stdout",
     "output_type": "stream",
     "text": [
      "enter size of list- 3\n",
      "enter elements of list\n",
      "4\n",
      "5\n",
      "0\n",
      "your list- [4, 5, 0]\n",
      "second largest number in a list-  4\n"
     ]
    }
   ],
   "source": [
    "#Q5 Write a Python program to find second largest number in a list?\n",
    "\n",
    "def secondLargest(l):\n",
    "    secondLargest = l[0]\n",
    "    largest = l[0]\n",
    " \n",
    "    for i in range(len(l)):\n",
    "        if l[i] > largest:\n",
    "            largest = l[i]\n",
    " \n",
    "    for i in range(len(l)):\n",
    "        if l[i] > secondLargest and l[i] < largest:\n",
    "            secondLargest = l[i]\n",
    "            \n",
    "    return secondLargest\n",
    "\n",
    "l=[]\n",
    "n=int(input(\"enter size of list- \"))\n",
    "print(\"enter elements of list\")\n",
    "for i in range(0,n):\n",
    "    i=int(input())\n",
    "    l.append(i)\n",
    "\n",
    "print(\"your list-\",l)\n",
    "print(\"second largest number in a list- \",secondLargest(l))"
   ]
  },
  {
   "cell_type": "code",
   "execution_count": 39,
   "id": "3cc8cc44",
   "metadata": {},
   "outputs": [
    {
     "name": "stdout",
     "output_type": "stream",
     "text": [
      "enter size of list- 3\n",
      "enter elements of list\n",
      "1\n",
      "2\n",
      "5\n",
      "your list- [1, 2, 5]\n",
      "enter no. of largest elements you want to print- 2\n",
      "2 largest number in a list-  [5, 2]\n"
     ]
    }
   ],
   "source": [
    "#Q6 Write a Python program to find N largest elements from a list?\n",
    "\n",
    "l=[]\n",
    "n=int(input(\"enter size of list- \"))\n",
    "print(\"enter elements of list\")\n",
    "for i in range(0,n):\n",
    "    i=int(input())\n",
    "    l.append(i)\n",
    "\n",
    "print(\"your list-\",l)\n",
    "\n",
    "l.sort()\n",
    "N=int(input(\"enter no. of largest elements you want to print- \"))\n",
    "print(\"{} largest number in a list- \".format(N),l[-1:-(N+1):-1])"
   ]
  },
  {
   "cell_type": "code",
   "execution_count": 40,
   "id": "2dfdd1b6",
   "metadata": {},
   "outputs": [
    {
     "name": "stdout",
     "output_type": "stream",
     "text": [
      "enter size of list- 5\n",
      "enter elements of list\n",
      "4\n",
      "9\n",
      "864\n",
      "87\n",
      "56\n",
      "your list- [4, 9, 864, 87, 56]\n",
      "Even numbers :  [4, 864, 56]\n"
     ]
    }
   ],
   "source": [
    "#Q7 Write a Python program to print even numbers in a list?\n",
    "\n",
    "l=[]\n",
    "n=int(input(\"enter size of list- \"))\n",
    "print(\"enter elements of list\")\n",
    "for i in range(0,n):\n",
    "    i=int(input())\n",
    "    l.append(i)\n",
    "\n",
    "print(\"your list-\",l)\n",
    "\n",
    "\n",
    "even_nos = [i for i in l if i % 2 == 0]\n",
    "print(\"Even numbers : \", even_nos)"
   ]
  },
  {
   "cell_type": "code",
   "execution_count": 42,
   "id": "43782a40",
   "metadata": {},
   "outputs": [
    {
     "name": "stdout",
     "output_type": "stream",
     "text": [
      "enter size of list- 5\n",
      "enter elements of list\n",
      "90\n",
      "87\n",
      "68\n",
      "54\n",
      "95\n",
      "your list- [90, 87, 68, 54, 95]\n",
      "Odd numbers :  [87, 95]\n"
     ]
    }
   ],
   "source": [
    "#Q8 Write a Python program to print odd numbers in a List?\n",
    "\n",
    "l=[]\n",
    "n=int(input(\"enter size of list- \"))\n",
    "print(\"enter elements of list\")\n",
    "for i in range(0,n):\n",
    "    i=int(input())\n",
    "    l.append(i)\n",
    "\n",
    "print(\"your list-\",l)\n",
    "\n",
    "\n",
    "odd_nos = [i for i in l if i % 2 != 0]\n",
    "print(\"Odd numbers : \", odd_nos)"
   ]
  },
  {
   "cell_type": "code",
   "execution_count": 88,
   "id": "c20fa72f",
   "metadata": {},
   "outputs": [
    {
     "name": "stdout",
     "output_type": "stream",
     "text": [
      "old list- [3, 'humera', [5, 6, 'ineuron'], (6+9j), [], 78]\n",
      "list after removal of empty list-  [3, 'humera', [5, 6, 'ineuron'], (6+9j), 78]\n"
     ]
    }
   ],
   "source": [
    "#Q9 Write a Python program to Remove empty List from List?\n",
    "\n",
    "list1=[3,'humera',[5,6,'ineuron'],(6+9j),[],78]\n",
    "\n",
    "print(\"old list-\", list1)\n",
    "\n",
    "for i in list1:\n",
    "    if type(i)==type(list):\n",
    "        if len(i)==0:\n",
    "            list1.remove(i)\n",
    "            \n",
    "print(\"list after removal of empty list- \",list1)\n",
    "        \n",
    "            \n"
   ]
  },
  {
   "cell_type": "code",
   "execution_count": 93,
   "id": "c8bbf581",
   "metadata": {},
   "outputs": [
    {
     "name": "stdout",
     "output_type": "stream",
     "text": [
      "Original List: [78, 34, 'naz', 'data', 9]\n",
      "After Cloning: [78, 34, 'naz', 'data', 9]\n"
     ]
    }
   ],
   "source": [
    "#Q10 Write a Python program to Cloning or Copying a list?\n",
    "\n",
    "list01 = [78,34,'naz','data',9]\n",
    "list02 = list01.copy()\n",
    "\n",
    "print(\"Original List:\", list01)\n",
    "print(\"After Cloning:\", list02)"
   ]
  },
  {
   "cell_type": "code",
   "execution_count": 95,
   "id": "514f2be9",
   "metadata": {},
   "outputs": [
    {
     "name": "stdout",
     "output_type": "stream",
     "text": [
      "9 has occurred 3 times\n"
     ]
    }
   ],
   "source": [
    "#Q11 Write a Python program to Count occurrences of an element in a list?\n",
    "\n",
    "def count_n(lst, n):\n",
    "    return lst.count(n)\n",
    " \n",
    "\n",
    "lst = [9,5,7,3,9,4,9,6]\n",
    "n = 9\n",
    "print('{} has occurred {} times'.format(n, count_n(lst, n)))\n"
   ]
  }
 ],
 "metadata": {
  "kernelspec": {
   "display_name": "Python 3 (ipykernel)",
   "language": "python",
   "name": "python3"
  },
  "language_info": {
   "codemirror_mode": {
    "name": "ipython",
    "version": 3
   },
   "file_extension": ".py",
   "mimetype": "text/x-python",
   "name": "python",
   "nbconvert_exporter": "python",
   "pygments_lexer": "ipython3",
   "version": "3.9.7"
  }
 },
 "nbformat": 4,
 "nbformat_minor": 5
}
